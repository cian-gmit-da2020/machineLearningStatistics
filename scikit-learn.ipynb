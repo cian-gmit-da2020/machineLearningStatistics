{
 "cells": [
  {
   "cell_type": "markdown",
   "metadata": {},
   "source": [
    "# Cian Hogan\n",
    "## Machine Learning and Statistics Module\n",
    "## GMIT Data Analytics\n",
    "### Final Assessment"
   ]
  },
  {
   "cell_type": "markdown",
   "metadata": {},
   "source": [
    "<img src=\"https://raw.githubusercontent.com/scikit-learn/scikit-learn/4b8888bf864322af1a1ae664d8d39c37b928ac6f/doc/logos/scikit-learn-logo.svg\" alt=\"Scikit-Learn Logo\" width=\"500\" align=\"left\" border=0/>\n"
   ]
  },
  {
   "cell_type": "markdown",
   "metadata": {},
   "source": [
    "# scikit-learn"
   ]
  },
  {
   "cell_type": "markdown",
   "metadata": {},
   "source": [
    "# Introduction"
   ]
  },
  {
   "cell_type": "markdown",
   "metadata": {},
   "source": [
    "scitkit-learn is a module within the [python programming language](https://www.python.org/) which integrates a wide range of state of the art machine learning algorithms\n",
    "\n",
    "BSD licensing\n",
    "\n",
    "(Pedregosa et al, 2011) "
   ]
  },
  {
   "cell_type": "markdown",
   "metadata": {},
   "source": [
    "## Origins of scikit-learn"
   ]
  },
  {
   "cell_type": "markdown",
   "metadata": {},
   "source": [
    "The scikit-learn project began life as a [Google Summer of Code](https://summerofcode.withgoogle.com/) project by David Cournapeau. The first public release of scikit-learn took place in Febuary 2010. (https://scikit-learn.org/stable/about.html) \n",
    "\n",
    "\n",
    "\n"
   ]
  },
  {
   "cell_type": "markdown",
   "metadata": {},
   "source": [
    "## Supervised vs Unsupervised learning\n",
    "https://www.ibm.com/cloud/blog/supervised-vs-unsupervised-learning\n"
   ]
  },
  {
   "cell_type": "markdown",
   "metadata": {},
   "source": [
    "Because of the wide range of machine learning models and algorithms, it can be useful to calssify our approaches into broad categories based on the characteristics of the algorithm or model used.\n",
    "\n",
    "One of these categorizations is **Supervised vs Unsupervised Learning**. (Géron, A. 2019). While there is much overlap between the two categories and could be expanded further, for example semisupervised and reinforcement learning, Supervised and Unsupervised are a good staring point for differenciating the models and algorithms used in machine learning. scikit-learn's own documentation splits the available models into these two broad classifications (scitkit-learn User Guide, 2021).\n",
    "\n",
    "The main difference between the supervised and unsupervised learning is that supervised learning uses labelled datasets, meaning the inputs and outputs are known. Unsupervised learning does not have labeled data. (Julianna Delua, 2021).\n"
   ]
  },
  {
   "cell_type": "markdown",
   "metadata": {},
   "source": [
    "#### Supervised Learning\n",
    "In supervised learning the training data that is passed to the machine learning algorithm includes the desired outcomes as labels. Supervised learning approaches use this labeled data which a to accurately train algorithms to predict or classify outcomes. Classification and regression would be considered typical Supervised Learning tasks. (Julianna Delua, 2021),(Géron, A. 2019).\n",
    "\n",
    "Classification:\n",
    "Classification algorithms use known labeled outcomes, to assign test data into specific categories. As an example, an email spam detection algorithm could take email data which has been labeled either spam or non-spam as our data to train the algorithm on. The email structure, content, text, subject line, sent from address and other data would be considered the input data or features for the algorithm while the label SPAM or NOT SPAM would be output or target. The algorithm then uses this training data to create a model of the relationship bewteen the features and the target to decide if a new unlabeled input should be considered spam or not. (Julianna Delua, 2021),(Géron, A. 2019).\n",
    "\n",
    "Regression:\n",
    "The goal of Regression algorithms is to understand the relationship between dependant and independant variables so that we can predict outcomes based on possible inputs. Unlike Classification where the target output is a label of catagorical values, the outcomes for regression are numerical values, so instead of assigning a set of inputs to a specific output group, regression calculates a continous value for the target output. For example we may perform a regression analysis where our target value is house prices and we may use house size, number of rooms, location ect as our inputs or features. The algorithm then uses our input data and known output to create a model of the relationship between the two. The model can then be used to predict the house price value for a new input of unknow price. (Julianna Delua, 2021),(Géron, A. 2019).\n",
    "\n",
    "In practice there may be significant overlap between regression and classification algoithms and many regression algorithms are used for classification tasks.\n",
    "\n",
    "#### Training and Testing\n",
    "\n",
    "When performing supervised machine learning analysis it can be useful to divide your data into training and testing data. The algorithm (regression or classification) is trained on the training subset of data with known target outcomes. We can then use the testing subset of data to verify the accuracy of our machine learning model by applying the model to our testing inputs and measuring how closely it resembles the known target values for the subset. (Géron, A. 2019)\n",
    "\n",
    "The exact amount of data to set aside for testing may vary depending on the overall size of the  dataset but a good number to start with would be 20%.(Géron, A. 2019). scikit-learn has its own method *model_selection.train_test_split* for creating these testing and training subsets. train_test_split() takes the input and target data as variables and randomly divides into testing data or size *test_size* and training data of size *1-test_size*. (scikit-learn, 2021)"
   ]
  },
  {
   "cell_type": "code",
   "execution_count": 2,
   "metadata": {},
   "outputs": [
    {
     "name": "stdout",
     "output_type": "stream",
     "text": [
      "Input data shape  (20,)\n",
      "Target data shape  (20,)\n",
      "Training Input shape  (16,)\n",
      "Testing Input shape  (4,)\n",
      "Training Target shape  (16,)\n",
      "Testing Target shape  (4,)\n"
     ]
    }
   ],
   "source": [
    "import numpy as np\n",
    "from sklearn.model_selection import train_test_split\n",
    "\n",
    "X = np.linspace(0,1, 20)\n",
    "y = np.linspace(0,1, 20)\n",
    "\n",
    "print(\"Input data shape \",X.shape)\n",
    "print(\"Target data shape \", y.shape)\n",
    "\n",
    "\n",
    "X_train, X_test, y_train, y_test = train_test_split(X, y, test_size=.2)\n",
    "\n",
    "print(\"Training Input shape \", X_train.shape)\n",
    "print(\"Testing Input shape \", X_test.shape)\n",
    "print(\"Training Target shape \", y_train.shape)\n",
    "print(\"Testing Target shape \", y_test.shape)\n",
    "\n"
   ]
  },
  {
   "cell_type": "markdown",
   "metadata": {},
   "source": [
    "#### Unsupervised Learning\n"
   ]
  },
  {
   "cell_type": "markdown",
   "metadata": {},
   "source": []
  },
  {
   "cell_type": "markdown",
   "metadata": {},
   "source": []
  },
  {
   "cell_type": "markdown",
   "metadata": {},
   "source": [
    "# Algorithms"
   ]
  },
  {
   "cell_type": "markdown",
   "metadata": {},
   "source": [
    "In this next section we will look at 3 popular machine learning algorithms available within the scitkit-learn module and how each one can be implemented with example code.\n",
    "\n",
    "## Algorithms\n",
    "* Linear Regression\n",
    "* Support vector machines (SVMs)\n",
    "* Clustering\n",
    "\n"
   ]
  },
  {
   "cell_type": "markdown",
   "metadata": {},
   "source": [
    "# Linear Regression\n",
    "\n",
    "A regression task\n",
    "\n",
    "This is where the Linear Regression algorithm comes in: you feed it your training examples, and it finds the parameters that make the linear model fit best to your data. This is called training the model. (Géron, A. 2019)\n",
    "\n"
   ]
  },
  {
   "cell_type": "markdown",
   "metadata": {},
   "source": [
    "## Simple Linear Regression with generated data"
   ]
  },
  {
   "cell_type": "code",
   "execution_count": 1,
   "metadata": {},
   "outputs": [],
   "source": [
    "import numpy as np\n",
    "import matplotlib.pyplot as plt\n",
    "from sklearn import linear_model\n",
    "\n",
    "plt.rcParams['figure.figsize'] = [16, 8]"
   ]
  },
  {
   "cell_type": "code",
   "execution_count": 2,
   "metadata": {},
   "outputs": [
    {
     "data": {
      "text/plain": [
       "<matplotlib.collections.PathCollection at 0x25a114cc220>"
      ]
     },
     "execution_count": 2,
     "metadata": {},
     "output_type": "execute_result"
    },
    {
     "data": {
      "image/png": "[encoded data removed]",
      "text/plain": [
       "<Figure size 1152x576 with 1 Axes>"
      ]
     },
     "metadata": {
      "needs_background": "light"
     },
     "output_type": "display_data"
    }
   ],
   "source": [
    "X = np.linspace(0,1, 50)\n",
    "\n",
    "y = (3*X + 3) + np.random.normal(0, .5, 50)\n",
    "\n",
    "plt.scatter(X,y)"
   ]
  },
  {
   "cell_type": "code",
   "execution_count": 3,
   "metadata": {},
   "outputs": [
    {
     "name": "stdout",
     "output_type": "stream",
     "text": [
      "Estimated line Coefficeint  [2.99497823]\n"
     ]
    }
   ],
   "source": [
    "reg = linear_model.LinearRegression()\n",
    "\n",
    "reg.fit(X.reshape(-1,1), y)\n",
    "\n",
    "print(\"Estimated line Coefficeint \",reg.coef_)"
   ]
  },
  {
   "cell_type": "code",
   "execution_count": 6,
   "metadata": {},
   "outputs": [
    {
     "data": {
      "text/plain": [
       "<matplotlib.legend.Legend at 0x25a1154f430>"
      ]
     },
     "execution_count": 6,
     "metadata": {},
     "output_type": "execute_result"
    },
    {
     "data": {
      "image/png": "[encoded data removed]",
      "text/plain": [
       "<Figure size 1152x576 with 1 Axes>"
      ]
     },
     "metadata": {
      "needs_background": "light"
     },
     "output_type": "display_data"
    }
   ],
   "source": [
    "plt.scatter(X,y, label=\"Actual Values\")\n",
    "plt.plot(X, reg.predict(X.reshape(-1,1)), color=\"r\", label=\"Predicted Linear Regression\")\n",
    "plt.plot([X[0],X[0]],[y[0], reg.predict(X.reshape(-1,1))[0]],color=\"grey\", linestyle='dashed', label=\"cost of regression\")\n",
    "\n",
    "for i in range(1, len(X)):\n",
    "    plt.plot([X[i],X[i]],[y[i], reg.predict(X.reshape(-1,1))[i]],color=\"grey\", linestyle='dashed')\n",
    "\n",
    "plt.legend()"
   ]
  },
  {
   "cell_type": "code",
   "execution_count": 26,
   "metadata": {},
   "outputs": [],
   "source": [
    "from sklearn.model_selection import train_test_split\n",
    "from sklearn.metrics import r2_score"
   ]
  },
  {
   "cell_type": "code",
   "execution_count": 8,
   "metadata": {},
   "outputs": [],
   "source": [
    "X_train, X_test, y_train, y_test = train_test_split(X, y, test_size=0.2, random_state=42)\n",
    "\n",
    "splitReg = linear_model.LinearRegression()\n",
    "\n",
    "splitReg.fit(X_train.reshape(-1,1), y_train)\n",
    "\n",
    "print(\"Estimated line Coefficeint \",splitReg.coef_)"
   ]
  },
  {
   "cell_type": "code",
   "execution_count": 62,
   "metadata": {},
   "outputs": [
    {
     "data": {
      "text/plain": [
       "0.7977920281883987"
      ]
     },
     "execution_count": 62,
     "metadata": {},
     "output_type": "execute_result"
    }
   ],
   "source": [
    "splitReg.score(X_test.reshape(-1,1), y_test)"
   ]
  },
  {
   "cell_type": "code",
   "execution_count": 25,
   "metadata": {},
   "outputs": [
    {
     "data": {
      "text/plain": [
       "<matplotlib.legend.Legend at 0x25a1177a940>"
      ]
     },
     "execution_count": 25,
     "metadata": {},
     "output_type": "execute_result"
    },
    {
     "data": {
      "image/png": "[encoded data removed]",
      "text/plain": [
       "<Figure size 1152x576 with 1 Axes>"
      ]
     },
     "metadata": {
      "needs_background": "light"
     },
     "output_type": "display_data"
    }
   ],
   "source": [
    "plt.scatter(X_test,y_test, label=\"Actual Values\")\n",
    "plt.scatter(X_test, splitReg.predict(X_test.reshape(-1,1)), \n",
    "            color=\"r\", marker=\"o\", facecolors='none', s=120, label=\"Prediction\")\n",
    "plt.legend(loc=\"upper left\")"
   ]
  },
  {
   "cell_type": "markdown",
   "metadata": {},
   "source": [
    "### coefficient of determination $ r^2 $"
   ]
  },
  {
   "cell_type": "code",
   "execution_count": 30,
   "metadata": {},
   "outputs": [
    {
     "data": {
      "text/plain": [
       "0.7977920281883987"
      ]
     },
     "execution_count": 30,
     "metadata": {},
     "output_type": "execute_result"
    }
   ],
   "source": [
    "R2 = r2_score(y_test, splitReg.predict(X_test.reshape(-1,1)))\n",
    "R2"
   ]
  },
  {
   "cell_type": "markdown",
   "metadata": {},
   "source": [
    "## Multiple linear regression"
   ]
  },
  {
   "cell_type": "code",
   "execution_count": 31,
   "metadata": {},
   "outputs": [],
   "source": [
    "from sklearn.datasets import load_diabetes"
   ]
  },
  {
   "cell_type": "code",
   "execution_count": 37,
   "metadata": {},
   "outputs": [],
   "source": [
    "data, target = load_diabetes(return_X_y=True)"
   ]
  },
  {
   "cell_type": "code",
   "execution_count": 43,
   "metadata": {},
   "outputs": [
    {
     "data": {
      "text/plain": [
       "(442, 10)"
      ]
     },
     "execution_count": 43,
     "metadata": {},
     "output_type": "execute_result"
    }
   ],
   "source": [
    "data.shape"
   ]
  },
  {
   "cell_type": "code",
   "execution_count": 40,
   "metadata": {},
   "outputs": [
    {
     "data": {
      "text/plain": [
       "(442,)"
      ]
     },
     "execution_count": 40,
     "metadata": {},
     "output_type": "execute_result"
    }
   ],
   "source": [
    "target.shape"
   ]
  },
  {
   "cell_type": "code",
   "execution_count": 58,
   "metadata": {},
   "outputs": [],
   "source": [
    "X_dia_train, X_dia_test, y_dia_train, y_dia_test = train_test_split(data, target, test_size=0.2, random_state=42)"
   ]
  },
  {
   "cell_type": "code",
   "execution_count": 60,
   "metadata": {},
   "outputs": [
    {
     "data": {
      "text/plain": [
       "(353, 10)"
      ]
     },
     "execution_count": 60,
     "metadata": {},
     "output_type": "execute_result"
    }
   ],
   "source": [
    "X_dia_train.shape"
   ]
  },
  {
   "cell_type": "code",
   "execution_count": 61,
   "metadata": {},
   "outputs": [],
   "source": [
    "mod = linear_model.LinearRegression().fit(X_dia_train, y_dia_train)"
   ]
  },
  {
   "cell_type": "code",
   "execution_count": 71,
   "metadata": {},
   "outputs": [
    {
     "data": {
      "text/plain": [
       "(89,)"
      ]
     },
     "execution_count": 71,
     "metadata": {},
     "output_type": "execute_result"
    }
   ],
   "source": [
    "diaPredict = mod.predict(X_dia_test)\n",
    "\n",
    "diaPredict.shape"
   ]
  },
  {
   "cell_type": "code",
   "execution_count": 76,
   "metadata": {},
   "outputs": [
    {
     "data": {
      "text/plain": [
       "(89,)"
      ]
     },
     "execution_count": 76,
     "metadata": {},
     "output_type": "execute_result"
    }
   ],
   "source": [
    "y_dia_test.shape"
   ]
  },
  {
   "cell_type": "code",
   "execution_count": 77,
   "metadata": {},
   "outputs": [],
   "source": [
    "R2 = r2_score(y_dia_test, diaPredict)"
   ]
  },
  {
   "cell_type": "code",
   "execution_count": 78,
   "metadata": {},
   "outputs": [
    {
     "data": {
      "text/plain": [
       "0.452606602161738"
      ]
     },
     "execution_count": 78,
     "metadata": {},
     "output_type": "execute_result"
    }
   ],
   "source": [
    "R2"
   ]
  },
  {
   "cell_type": "code",
   "execution_count": 79,
   "metadata": {
    "scrolled": true
   },
   "outputs": [
    {
     "data": {
      "text/plain": [
       "array([ 7.94516867e+01, -1.09520306e+02,  6.79586670e+01, -6.14119360e+01,\n",
       "       -1.27872366e+01, -8.17357677e+00, -1.62340970e+01,  9.06610476e+01,\n",
       "        3.77782138e+00, -1.26314330e+01, -1.39386537e-01,  8.35662036e+01,\n",
       "        4.54933034e+01,  9.03695993e+01,  3.48676144e+01, -6.36688165e+01,\n",
       "        7.54672924e+01,  1.32170823e+01, -2.63668236e+01,  5.64250260e+01,\n",
       "        1.02649976e+02, -2.44836167e+01,  5.75657120e+01,  4.30427470e+01,\n",
       "       -2.58872004e+01, -4.13595769e+01,  7.46841205e+01, -1.03388355e+02,\n",
       "        1.01155361e-02, -1.97514644e+00, -3.47808003e+01,  2.66340109e+01,\n",
       "       -4.29589054e+01, -2.05410226e+01,  6.16701949e+00,  4.26413671e+01,\n",
       "       -8.24174080e+01, -3.56542690e+01,  2.40459751e+01,  3.94688789e+00,\n",
       "       -2.36263691e+01,  3.12770981e-01, -9.45544477e+00,  1.29921504e+01,\n",
       "       -8.10455867e+01, -9.45763075e+00,  1.28330244e+02, -2.79633049e+01,\n",
       "        3.84219197e+01,  9.04221804e+01, -1.65250580e+01,  9.50417231e+01,\n",
       "       -3.44986202e+01, -3.72049563e+01, -4.63844013e+00, -5.96024773e+01,\n",
       "       -2.24147612e+01, -5.97424415e+01,  4.77439814e+01, -1.76159009e+01,\n",
       "       -6.59350318e+01, -1.54495433e+02,  4.63698132e+01, -3.59463059e+00,\n",
       "        8.32957540e+01,  4.58134913e+01,  9.86698840e+00, -5.49124610e+01,\n",
       "        1.52736240e+01,  5.71878981e+01, -8.09963148e+01,  2.25876549e+01,\n",
       "        4.67859751e+01, -8.49605331e+01,  9.13650886e+00, -6.63682883e+01,\n",
       "       -6.74737754e+00,  1.11019933e+01,  7.84149451e+01,  2.69773151e+01,\n",
       "       -3.94797840e+01,  4.90657145e+01,  4.11814332e+01,  1.60719224e+01,\n",
       "        3.79902545e+01,  1.90411333e+01, -4.45573138e+01,  8.62252220e+00,\n",
       "        1.77452222e+01])"
      ]
     },
     "execution_count": 79,
     "metadata": {},
     "output_type": "execute_result"
    }
   ],
   "source": [
    "y_dia_test - diaPredict"
   ]
  },
  {
   "cell_type": "code",
   "execution_count": null,
   "metadata": {},
   "outputs": [],
   "source": []
  },
  {
   "cell_type": "markdown",
   "metadata": {},
   "source": [
    "# SVM Support Vector Machines"
   ]
  },
  {
   "cell_type": "markdown",
   "metadata": {},
   "source": [
    "### SVC"
   ]
  },
  {
   "cell_type": "code",
   "execution_count": 81,
   "metadata": {},
   "outputs": [],
   "source": [
    "from sklearn.datasets import load_iris\n",
    "from sklearn import svm"
   ]
  },
  {
   "cell_type": "code",
   "execution_count": 83,
   "metadata": {},
   "outputs": [],
   "source": [
    "data, target = load_iris(return_X_y=True)\n"
   ]
  },
  {
   "cell_type": "code",
   "execution_count": 84,
   "metadata": {},
   "outputs": [],
   "source": [
    "X_train, X_test, y_train, y_test = train_test_split(data, target, test_size=0.2, random_state=42)"
   ]
  },
  {
   "cell_type": "code",
   "execution_count": 86,
   "metadata": {},
   "outputs": [
    {
     "data": {
      "text/plain": [
       "SVC()"
      ]
     },
     "execution_count": 86,
     "metadata": {},
     "output_type": "execute_result"
    }
   ],
   "source": [
    "clf = svm.SVC()\n",
    "clf.fit(X_train, y_train)"
   ]
  },
  {
   "cell_type": "code",
   "execution_count": 87,
   "metadata": {},
   "outputs": [
    {
     "data": {
      "text/plain": [
       "array([1, 0, 2, 1, 1, 0, 1, 2, 1, 1, 2, 0, 0, 0, 0, 1, 2, 1, 1, 2, 0, 2,\n",
       "       0, 2, 2, 2, 2, 2, 0, 0])"
      ]
     },
     "execution_count": 87,
     "metadata": {},
     "output_type": "execute_result"
    }
   ],
   "source": [
    "clf.predict(X_test)"
   ]
  },
  {
   "cell_type": "code",
   "execution_count": 95,
   "metadata": {
    "scrolled": true
   },
   "outputs": [],
   "source": [
    "irisPrediction = clf.predict(X_test)"
   ]
  },
  {
   "cell_type": "code",
   "execution_count": 96,
   "metadata": {},
   "outputs": [
    {
     "data": {
      "text/plain": [
       "array([1, 0, 2, 1, 1, 0, 1, 2, 1, 1, 2, 0, 0, 0, 0, 1, 2, 1, 1, 2, 0, 2,\n",
       "       0, 2, 2, 2, 2, 2, 0, 0])"
      ]
     },
     "execution_count": 96,
     "metadata": {},
     "output_type": "execute_result"
    }
   ],
   "source": [
    "irisPrediction"
   ]
  },
  {
   "cell_type": "code",
   "execution_count": 97,
   "metadata": {},
   "outputs": [
    {
     "data": {
      "text/plain": [
       "array([1, 0, 2, 1, 1, 0, 1, 2, 1, 1, 2, 0, 0, 0, 0, 1, 2, 1, 1, 2, 0, 2,\n",
       "       0, 2, 2, 2, 2, 2, 0, 0])"
      ]
     },
     "execution_count": 97,
     "metadata": {},
     "output_type": "execute_result"
    }
   ],
   "source": [
    "y_test"
   ]
  },
  {
   "cell_type": "code",
   "execution_count": 103,
   "metadata": {},
   "outputs": [
    {
     "data": {
      "text/plain": [
       "1.0"
      ]
     },
     "execution_count": 103,
     "metadata": {},
     "output_type": "execute_result"
    }
   ],
   "source": [
    "clf.score(X_test, y_test)"
   ]
  },
  {
   "cell_type": "markdown",
   "metadata": {},
   "source": [
    "### SVR"
   ]
  },
  {
   "cell_type": "code",
   "execution_count": 105,
   "metadata": {},
   "outputs": [],
   "source": [
    "data, target = load_diabetes(return_X_y=True)\n",
    "X_dia_train, X_dia_test, y_dia_train, y_dia_test = train_test_split(data, target, test_size=0.2, random_state=42)"
   ]
  },
  {
   "cell_type": "code",
   "execution_count": 106,
   "metadata": {},
   "outputs": [
    {
     "data": {
      "text/plain": [
       "SVR()"
      ]
     },
     "execution_count": 106,
     "metadata": {},
     "output_type": "execute_result"
    }
   ],
   "source": [
    "reg = svm.SVR()\n",
    "reg.fit(X_dia_train, y_dia_train)"
   ]
  },
  {
   "cell_type": "code",
   "execution_count": 107,
   "metadata": {},
   "outputs": [],
   "source": [
    "prediction = reg.predict(X_dia_test)"
   ]
  },
  {
   "cell_type": "code",
   "execution_count": 110,
   "metadata": {},
   "outputs": [
    {
     "data": {
      "text/plain": [
       "0.1821145664971341"
      ]
     },
     "execution_count": 110,
     "metadata": {},
     "output_type": "execute_result"
    }
   ],
   "source": [
    "reg.score(X_dia_test, y_dia_test)"
   ]
  },
  {
   "cell_type": "code",
   "execution_count": 109,
   "metadata": {},
   "outputs": [
    {
     "data": {
      "text/plain": [
       "array([219.,  70., 202., 230., 111.,  84., 242., 272.,  94.,  96.,  94.,\n",
       "       252.,  99., 297., 135.,  67., 295., 264., 170., 275., 310.,  64.,\n",
       "       128., 232., 129., 118., 263.,  77.,  48., 107., 140., 113.,  90.,\n",
       "       164., 180., 233.,  42.,  84., 172.,  63.,  48., 108., 156., 168.,\n",
       "        90.,  52., 200.,  87.,  90., 258., 136., 158.,  69.,  72., 171.,\n",
       "        95.,  72., 151., 168.,  60., 122.,  52., 187., 102., 214., 248.,\n",
       "       181., 110., 140., 202., 101., 222., 281.,  61.,  89.,  91., 186.,\n",
       "       220., 237., 233.,  68., 190.,  96.,  72., 153.,  98.,  37.,  63.,\n",
       "       184.])"
      ]
     },
     "execution_count": 109,
     "metadata": {},
     "output_type": "execute_result"
    }
   ],
   "source": [
    "y_dia_test"
   ]
  },
  {
   "cell_type": "code",
   "execution_count": null,
   "metadata": {},
   "outputs": [],
   "source": []
  },
  {
   "cell_type": "markdown",
   "metadata": {},
   "source": [
    "# Clustering"
   ]
  },
  {
   "cell_type": "code",
   "execution_count": 112,
   "metadata": {},
   "outputs": [],
   "source": [
    "from sklearn.cluster import KMeans"
   ]
  },
  {
   "cell_type": "code",
   "execution_count": null,
   "metadata": {},
   "outputs": [],
   "source": []
  },
  {
   "cell_type": "code",
   "execution_count": null,
   "metadata": {},
   "outputs": [],
   "source": []
  },
  {
   "cell_type": "code",
   "execution_count": null,
   "metadata": {},
   "outputs": [],
   "source": []
  },
  {
   "cell_type": "code",
   "execution_count": null,
   "metadata": {},
   "outputs": [],
   "source": []
  },
  {
   "cell_type": "code",
   "execution_count": null,
   "metadata": {},
   "outputs": [],
   "source": []
  },
  {
   "cell_type": "markdown",
   "metadata": {},
   "source": [
    "# References"
   ]
  },
  {
   "cell_type": "markdown",
   "metadata": {},
   "source": [
    "https://scikit-learn.org/stable/about.html\n",
    "\n",
    "https://jmlr.csail.mit.edu/papers/volume12/pedregosa11a/pedregosa11a.pdf\n",
    "\n",
    "file:///C:/Users/hogan/documents/books/1201.0490.pdf\n",
    "\n",
    "[Hands-on ML book](file:///C:/Users/hogan/Documents/Books/DataScienceBooks/Aur%C3%A9lien%20G%C3%A9ron%20-%20Hands-On%20Machine%20Learning%20with%20Scikit-Learn,%20Keras,%20and%20TensorFlow%20-%20Concepts,%20Tools,%20and%20Techniques%20to%20Build%20Intelligent%20Systems,%202nd%20Edition%20(2019).pdf)\n",
    "\n",
    "[100 page ML](file:///C:/Users/hogan/Documents/Books/DataScienceBooks/Andriy%20Burkov%20-%20The%20Hundred-Page%20Machine%20Learning%20Book-Andriy%20Burkov%20(2019)-pages-deleted.pdf)"
   ]
  },
  {
   "cell_type": "markdown",
   "metadata": {},
   "source": [
    "Pedregosa et al, 2011, JMLR 12, pp. 2825-2830. [Scikit-learn: Machine Learning in Python](https://jmlr.csail.mit.edu/papers/volume12/pedregosa11a/pedregosa11a.pdf)\n",
    "\n",
    "Géron, Aurélien, 2019, Hands-On Machine Learning with Scikit-Learn, Keras, and TensorFlow.\n",
    "\n",
    "scikit-learn, 2021, User Guide. https://scikit-learn.org/stable/user_guide.html\n",
    "\n",
    "Julianna Delua, 2021, Supervised vs. Unsupervised Learning: What’s the Difference? https://www.ibm.com/cloud/blog/supervised-vs-unsupervised-learning\n",
    "\n",
    "\n",
    "Mirko Stojiljković, 2019, Linear Regression in Python. https://realpython.com/linear-regression-in-python/\n"
   ]
  },
  {
   "cell_type": "code",
   "execution_count": null,
   "metadata": {},
   "outputs": [],
   "source": []
  }
 ],
 "metadata": {
  "kernelspec": {
   "display_name": "Python 3",
   "language": "python",
   "name": "python3"
  },
  "language_info": {
   "codemirror_mode": {
    "name": "ipython",
    "version": 3
   },
   "file_extension": ".py",
   "mimetype": "text/x-python",
   "name": "python",
   "nbconvert_exporter": "python",
   "pygments_lexer": "ipython3",
   "version": "3.8.3"
  }
 },
 "nbformat": 4,
 "nbformat_minor": 4
}
