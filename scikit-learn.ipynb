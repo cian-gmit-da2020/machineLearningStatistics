{
 "cells": [
  {
   "cell_type": "markdown",
   "metadata": {},
   "source": [
    "# Cian Hogan\n",
    "## Machine Learning and Statistics Module\n",
    "## GMIT Data Analytics\n",
    "### Final Assessment"
   ]
  },
  {
   "cell_type": "markdown",
   "metadata": {},
   "source": [
    "<img src=\"https://raw.githubusercontent.com/scikit-learn/scikit-learn/4b8888bf864322af1a1ae664d8d39c37b928ac6f/doc/logos/scikit-learn-logo.svg\" alt=\"Scikit-Learn Logo\" width=\"500\" align=\"left\" border=0/>\n"
   ]
  },
  {
   "cell_type": "markdown",
   "metadata": {},
   "source": [
    "# scikit-learn"
   ]
  },
  {
   "cell_type": "markdown",
   "metadata": {},
   "source": [
    "# Introduction"
   ]
  },
  {
   "cell_type": "markdown",
   "metadata": {},
   "source": [
    "scitkit-learn is a module within the [python programming language](https://www.python.org/) which integrates a wide range of state of the art machine learning algorithms\n",
    "\n",
    "BSD licensing\n",
    "\n",
    "(Pedregosa et al, 2011) "
   ]
  },
  {
   "cell_type": "markdown",
   "metadata": {},
   "source": [
    "## Origins of scikit-learn"
   ]
  },
  {
   "cell_type": "markdown",
   "metadata": {},
   "source": [
    "The scikit-learn project began life as a [Google Summer of Code](https://summerofcode.withgoogle.com/) project by David Cournapeau. The first public release of scikit-learn took place in Febuary 2010. (https://scikit-learn.org/stable/about.html) \n",
    "\n",
    "\n",
    "\n"
   ]
  },
  {
   "cell_type": "markdown",
   "metadata": {},
   "source": [
    "## Supervised vs Unsupervised learning\n",
    "https://www.ibm.com/cloud/blog/supervised-vs-unsupervised-learning\n"
   ]
  },
  {
   "cell_type": "markdown",
   "metadata": {},
   "source": [
    "Because of the wide range of machine learning models and algorithms, it can be useful to calssify our approaches into broad categories based on the characteristics of the algorithm or model used.\n",
    "\n",
    "One of these categorizations is **Supervised vs Unsupervised Learning**. (Géron, A. 2019). While there is much overlap between the two categories and could be expanded further, for example semisupervised and reinforcement learning, Supervised and Unsupervised are a good staring point for differenciating the models and algorithms used in machine learning. scikit-learn's own documentation splits the available models into these two broad classifications (scitkit-learn User Guide, 2021).\n",
    "\n",
    "The main difference between the supervised and unsupervised learning is that supervised learning uses labelled datasets, meaning the inputs and outputs are known. This allows Supervised alogrithm to potentially test its accuracy and penalize inacurrate predicitons. Unsupervised learning does not have labeled target data and manuipulates the input features only. (Julianna Delua, 2021).\n"
   ]
  },
  {
   "cell_type": "markdown",
   "metadata": {},
   "source": [
    "### Supervised Learning\n",
    "In supervised learning the training data that is passed to the machine learning algorithm includes the desired outcomes as labels. Supervised learning approaches use this labeled data which a to accurately train algorithms to predict or classify outcomes. Classification and regression would be considered typical Supervised Learning tasks. (Julianna Delua, 2021),(Géron, A. 2019).\n",
    "\n",
    "Classification:\n",
    "Classification algorithms use known labeled outcomes, to assign test data into specific categories. As an example, an email spam detection algorithm could take email data which has been labeled either spam or non-spam as our data to train the algorithm on. The email structure, content, text, subject line, sent from address and other data would be considered the input data or features for the algorithm while the label SPAM or NOT SPAM would be output or target. The algorithm then uses this training data to create a model of the relationship bewteen the features and the target to decide if a new unlabeled input should be considered spam or not. (Julianna Delua, 2021),(Géron, A. 2019).\n",
    "\n",
    "Regression:\n",
    "The goal of Regression algorithms is to understand the relationship between dependant and independant variables so that we can predict outcomes based on possible inputs. Unlike Classification where the target output is a label of catagorical values, the outcomes for regression are numerical values, so instead of assigning a set of inputs to a specific output group, regression calculates a continous value for the target output. For example we may perform a regression analysis where our target value is house prices and we may use house size, number of rooms, location ect as our inputs or features. The algorithm then uses our input data and known output to create a model of the relationship between the two. The model can then be used to predict the house price value for a new input of unknow price. (Julianna Delua, 2021),(Géron, A. 2019).\n",
    "\n",
    "In practice there may be significant overlap between regression and classification algoithms and many regression algorithms are used for classification tasks.\n",
    "\n",
    "### Training and Testing\n",
    "\n",
    "When performing supervised machine learning analysis it can be useful to divide your data into training and testing data. The algorithm (regression or classification) is trained on the training subset of data with known target outcomes. We can then use the testing subset of data to verify the accuracy of our machine learning model by applying the model to our testing inputs and measuring how closely it resembles the known target values for the subset. (Géron, A. 2019)\n",
    "\n",
    "The creation of training and testing data is an extremley important step in the machine learning prodcess. If the two data sets differ significantly, then the results of the training process will not accuratley predict the testing data. For this reason the larger each dataset is the better so that there is less chance of outliers affecting the algorithms performance.The exact amount of data to set aside for testing may vary depending on the overall size of the dataset but a good number to start with would be 20%.(Géron, A. 2019). \n",
    "\n",
    "scikit-learn has its own method *model_selection.train_test_split* for creating these testing and training subsets. train_test_split() takes the input and target data as variables and randomly divides into testing data or size *test_size* and training data of size *1-test_size*. (scikit-learn, 2021)"
   ]
  },
  {
   "cell_type": "code",
   "execution_count": 92,
   "metadata": {},
   "outputs": [
    {
     "name": "stdout",
     "output_type": "stream",
     "text": [
      "Input data shape (50,)\n",
      "Target data shape (50,)\n",
      "Training Input shape (40,)\n",
      "Testing Input shape (10,)\n",
      "Training Target shape (40,)\n",
      "Testing Target shape (10,)\n"
     ]
    }
   ],
   "source": [
    "# Import numpy for array computing\n",
    "import numpy as np\n",
    "#Import the train test split method from sci kit\n",
    "from sklearn.model_selection import train_test_split\n",
    "\n",
    "# Create random data and target arrays\n",
    "X = np.linspace(0,1, 50)\n",
    "y = np.linspace(0,1, 50)\n",
    "\n",
    "# Print shape of the arrays (50,) \n",
    "print(f\"Input data shape {X.shape}\")\n",
    "print(f\"Target data shape {y.shape}\")\n",
    "\n",
    "# Split arrays into data and target sets for training and testing\n",
    "# 20% of the data is set aside for testing and 80% for training\n",
    "X_train, X_test, y_train, y_test = train_test_split(X, y, test_size=.2)\n",
    "\n",
    "# Should now have training arrays of (40,) and testing arrays of (10,)\n",
    "print(f\"Training Input shape {X_train.shape}\")\n",
    "print(f\"Testing Input shape {X_test.shape}\")\n",
    "print(f\"Training Target shape {y_train.shape}\" )\n",
    "print(f\"Testing Target shape {y_test.shape}\")\n",
    "\n"
   ]
  },
  {
   "cell_type": "markdown",
   "metadata": {},
   "source": [
    "### Unsupervised Learning\n",
    "\n",
    "Unsupervised learning techniques are used when our data has input values or features, but no corresnpodning target data. The unsupervised learning approach must take this known data and transform it to solve a problem. \n",
    "\n",
    "A common unsupervised technique is clustering, which takes the raw input data and groups them based on the characteristics of the input data. An example clustering problem could be where a social media platform wants to group its users based on their likes and dislikes. The platform doesn't know what the users like & dislike in advance and therefore cannot tell the algorithm what group to place a user, and there are no natural groupings that exist in the real world, outside of the social platform. The number of groups the platform wishes to create may not even be known before the implementation. The algorithm is applied to the raw data of likes and dislikes and returns a number of groups that it believes have similar tastes. (Géron, A. 2019)\n",
    "\n",
    "Another possible problem that may require an unsupervsed approach is dimensionality reduction, where the goal is to simplify the data without losing any quality or information. An algorithm may combine highly correlated features into a single value which can be used to accuratley describe all the correlated features. This can be an important pre-processing step in other algorithms, where reducing the amount of features can increase efficeincy and performance. (Burkov, 2019)(Géron, A. 2019)\n",
    "\n",
    "Other unsupervised approaches include outlier or anomoly detection, where our algorithm looks for data that deviates significantly from our input data. For example a credit card company might use an algoirthm to flag suspicous transactions where they differ significantly from the usual transactions a customer makes. This is different from our Spam filter classification because we are not be using transactions already labelled as suspicous to train our algorithm, instead we are trying to predict suspicous transactions based purely on their relationship with previous trasnaction features. This approach is most likely less accurate than the spam filter, but we would be happy to sacrifice accuracy so that we may have a better chance of identifying new types of fraud before we have ha a chance to train our algorithm on those transactions. (Géron, A. 2019)\n",
    "\n",
    "For the purposes of this projet we will look at a single unsupervised algorithm. Using the KMeans algorithm we will perform the task of clustering our data using our input feature data only.\n",
    "\n",
    "\n"
   ]
  },
  {
   "cell_type": "markdown",
   "metadata": {},
   "source": [
    "# Algorithms"
   ]
  },
  {
   "cell_type": "markdown",
   "metadata": {},
   "source": [
    "In this next section we will look at the following 3 popular machine learning algorithms. Linear regression and Support Vector Machines are both Supervised learning approaches and we will look at both regression  and classification problems. The KMeans algorithm is an Unsupervised algorithm which allows us to perform Clustering on our input data.\n",
    "\n",
    "* Linear Regression\n",
    "* Support vector machines (SVMs)\n",
    "* KMeans\n"
   ]
  },
  {
   "cell_type": "markdown",
   "metadata": {},
   "source": [
    "# Linear Regression\n",
    "\n",
    "Linear Regression is one of the simplest and most common forms of machine learning used today. It is a form of machine learning which attempts to convert our input data into a model that represents the features as a straight line. This regrssion model allows us to predict output values of new input data based on the relationship of the inputs and outputs data in the training set.\n",
    "\n",
    "\n",
    "\n"
   ]
  },
  {
   "cell_type": "code",
   "execution_count": 99,
   "metadata": {},
   "outputs": [],
   "source": [
    "# Import Numpy for arrays\n",
    "import numpy as np\n",
    "# Matplotlib Plotting Library\n",
    "import matplotlib.pyplot as plt\n",
    "# From scikit learn import the linear_model class\n",
    "from sklearn.linear_model import LinearRegression\n",
    "\n",
    "# Set the plot size larger than the default values\n",
    "plt.rcParams['figure.figsize'] = [16, 8]"
   ]
  },
  {
   "cell_type": "markdown",
   "metadata": {},
   "source": [
    "## Simple Linear Regression with randomly generated data"
   ]
  },
  {
   "cell_type": "markdown",
   "metadata": {},
   "source": [
    "***\n",
    "As a demonstration we first start by creating data that we know has a linear reationship. We user numpy's linspace method to create an array of evenly spaced values as our input variables, and create our target data by applying a calculation to our input data. To make our output mirror real data this calculation includes the addition of some random noise generated using Numpy's random number generator class and generating random values using the normal distribution method shown below. We have included a seed value in the random generator, this allows us to consistenlty generate the same pseudo-random numbers for repeatability.\n",
    "\n",
    "We can then plot this data using matplotlib's pyplot scatter method. From this simple plot we can see a clear liner relationship between the features X and target y. As the features X increase so do the target values y at a fairly consistent rate.\n",
    "\n",
    "Fitting a linear regression model is only appropriate for data that follows a linear pattern. This exploration of the data is a key step in deciding the model to choose. If the data did not display a linear shape then a different algorithm could be chosen to better fit the data.\n",
    "***"
   ]
  },
  {
   "cell_type": "code",
   "execution_count": 97,
   "metadata": {},
   "outputs": [
    {
     "data": {
      "text/plain": [
       "<matplotlib.collections.PathCollection at 0x1c77c762760>"
      ]
     },
     "execution_count": 97,
     "metadata": {},
     "output_type": "execute_result"
    },
    {
     "data": {
      "image/png": "[encoded data removed]",
      "text/plain": [
       "<Figure size 1152x576 with 1 Axes>"
      ]
     },
     "metadata": {
      "needs_background": "light"
     },
     "output_type": "display_data"
    }
   ],
   "source": [
    "# creating an array of 50 evenly spaced numbers between 0 & 1 as input data\n",
    "X = np.linspace(0,1, 50)\n",
    "\n",
    "# create a random number generator object, with a seed value\n",
    "rng = np.random.default_rng(seed=98)\n",
    "\n",
    "# Create a target array, based off of X with random noise added from normal distribution\n",
    "y = (3*X + 3) + rng.normal(0, .7, 50)\n",
    "\n",
    "# Plot the data in scatter plot\n",
    "plt.scatter(X,y)"
   ]
  },
  {
   "cell_type": "markdown",
   "metadata": {},
   "source": [
    "***\n",
    "Now that we have our data ready we can fit our linear model to the data. scikit learn's LinearRegression() class uses an Ordinary least squares Linear Regression, which attempts to minimize the squared error of the funciton. The error is the difference between the predicted value and the real output value and it is squared to account for negative values and also to penalize larger errors. This difference between real values and predicted is also called the residuals of the regression.\n",
    "\n",
    "Below we can see how we can intialize our linear model and fit it using just 2 lines of code. We can then print out the Linear Model's co-efficient and intercept. Our model can be described as the function input value multiplied by our line co-efficient plus the constant intercept:\n",
    "\n",
    "$ f(x) = 2.97098325x + 3.0981558679996186 $\n",
    "***"
   ]
  },
  {
   "cell_type": "code",
   "execution_count": 102,
   "metadata": {},
   "outputs": [
    {
     "name": "stdout",
     "output_type": "stream",
     "text": [
      "Regrssion line Coefficeint [2.97098325], and intercept 3.0981558679996186\n"
     ]
    }
   ],
   "source": [
    "# Initialize our regression model object reg using scikit learn's LinearRegression()\n",
    "reg = LinearRegression()\n",
    "\n",
    "# Fit regression model to our data, we need to reshape the input array X\n",
    "reg.fit(X.reshape(-1,1), y)\n",
    "\n",
    "# print regression co-efficient\n",
    "print(f\"Regrssion line Coefficeint {reg.coef_}, and intercept {reg.intercept_}\")\n"
   ]
  },
  {
   "cell_type": "markdown",
   "metadata": {},
   "source": [
    "***\n",
    "Now that we have trained our model we can plot our predictions along side our actual values. We can see the red line below is our predicted linear model, the blue dots are the actual values our model was trained on and the grey dashed lines are our residulas or errors.\n",
    "***"
   ]
  },
  {
   "cell_type": "code",
   "execution_count": 105,
   "metadata": {
    "scrolled": true
   },
   "outputs": [
    {
     "data": {
      "text/plain": [
       "<matplotlib.legend.Legend at 0x1c77b0cff10>"
      ]
     },
     "execution_count": 105,
     "metadata": {},
     "output_type": "execute_result"
    },
    {
     "data": {
      "image/png": "[encoded data removed]",
      "text/plain": [
       "<Figure size 1152x576 with 1 Axes>"
      ]
     },
     "metadata": {
      "needs_background": "light"
     },
     "output_type": "display_data"
    }
   ],
   "source": [
    "# Plot the actual data input and output\n",
    "plt.scatter(X,y, label=\"Actual Values\")\n",
    "# Plot our model predicitons in a straight line\n",
    "plt.plot(X, reg.predict(X.reshape(-1,1)), color=\"r\", label=\"Predicted Linear Regression\")\n",
    "\n",
    "# plot first residual (needed to include legend)\n",
    "plt.plot([X[0],X[0]],[y[0], reg.predict(X.reshape(-1,1))[0]],color=\"grey\", linestyle='dashed', label=\"residuals\")\n",
    "\n",
    "# for loop to plot all remaining residuals\n",
    "for i in range(1, len(X)):\n",
    "    plt.plot([X[i],X[i]],[y[i], reg.predict(X.reshape(-1,1))[i]],color=\"grey\", linestyle='dashed')\n",
    "\n",
    "# Add legend to plot\n",
    "plt.legend()"
   ]
  },
  {
   "cell_type": "code",
   "execution_count": null,
   "metadata": {},
   "outputs": [],
   "source": []
  },
  {
   "cell_type": "code",
   "execution_count": 60,
   "metadata": {},
   "outputs": [],
   "source": [
    "from sklearn.model_selection import train_test_split\n",
    "from sklearn.metrics import r2_score"
   ]
  },
  {
   "cell_type": "code",
   "execution_count": 8,
   "metadata": {},
   "outputs": [],
   "source": [
    "X_train, X_test, y_train, y_test = train_test_split(X, y, test_size=0.2, random_state=42)\n",
    "\n",
    "splitReg = linear_model.LinearRegression()\n",
    "\n",
    "splitReg.fit(X_train.reshape(-1,1), y_train)\n",
    "\n",
    "print(\"Estimated line Coefficeint \",splitReg.coef_)"
   ]
  },
  {
   "cell_type": "code",
   "execution_count": 62,
   "metadata": {},
   "outputs": [
    {
     "data": {
      "text/plain": [
       "0.7977920281883987"
      ]
     },
     "execution_count": 62,
     "metadata": {},
     "output_type": "execute_result"
    }
   ],
   "source": [
    "splitReg.score(X_test.reshape(-1,1), y_test)"
   ]
  },
  {
   "cell_type": "code",
   "execution_count": 25,
   "metadata": {},
   "outputs": [
    {
     "data": {
      "text/plain": [
       "<matplotlib.legend.Legend at 0x25a1177a940>"
      ]
     },
     "execution_count": 25,
     "metadata": {},
     "output_type": "execute_result"
    },
    {
     "data": {
      "image/png": "[encoded data removed]",
      "text/plain": [
       "<Figure size 1152x576 with 1 Axes>"
      ]
     },
     "metadata": {
      "needs_background": "light"
     },
     "output_type": "display_data"
    }
   ],
   "source": [
    "plt.scatter(X_test,y_test, label=\"Actual Values\")\n",
    "plt.scatter(X_test, splitReg.predict(X_test.reshape(-1,1)), \n",
    "            color=\"r\", marker=\"o\", facecolors='none', s=120, label=\"Prediction\")\n",
    "plt.legend(loc=\"upper left\")"
   ]
  },
  {
   "cell_type": "markdown",
   "metadata": {},
   "source": [
    "### coefficient of determination $ r^2 $"
   ]
  },
  {
   "cell_type": "code",
   "execution_count": 30,
   "metadata": {},
   "outputs": [
    {
     "data": {
      "text/plain": [
       "0.7977920281883987"
      ]
     },
     "execution_count": 30,
     "metadata": {},
     "output_type": "execute_result"
    }
   ],
   "source": [
    "R2 = r2_score(y_test, splitReg.predict(X_test.reshape(-1,1)))\n",
    "R2"
   ]
  },
  {
   "cell_type": "markdown",
   "metadata": {},
   "source": [
    "## Multiple linear regression"
   ]
  },
  {
   "cell_type": "code",
   "execution_count": 61,
   "metadata": {},
   "outputs": [],
   "source": [
    "from sklearn.datasets import load_diabetes"
   ]
  },
  {
   "cell_type": "code",
   "execution_count": 84,
   "metadata": {},
   "outputs": [],
   "source": [
    "data = load_diabetes()"
   ]
  },
  {
   "cell_type": "code",
   "execution_count": 85,
   "metadata": {},
   "outputs": [
    {
     "data": {
      "text/plain": [
       "['age', 'sex', 'bmi', 'bp', 's1', 's2', 's3', 's4', 's5', 's6']"
      ]
     },
     "execution_count": 85,
     "metadata": {},
     "output_type": "execute_result"
    }
   ],
   "source": [
    "data.feature_names"
   ]
  },
  {
   "cell_type": "code",
   "execution_count": 64,
   "metadata": {},
   "outputs": [
    {
     "data": {
      "text/plain": [
       "(442,)"
      ]
     },
     "execution_count": 64,
     "metadata": {},
     "output_type": "execute_result"
    }
   ],
   "source": []
  },
  {
   "cell_type": "code",
   "execution_count": 65,
   "metadata": {},
   "outputs": [],
   "source": [
    "X_dia_train, X_dia_test, y_dia_train, y_dia_test = train_test_split(data.data, data.target, test_size=0.2, random_state=42)"
   ]
  },
  {
   "cell_type": "code",
   "execution_count": 66,
   "metadata": {},
   "outputs": [
    {
     "data": {
      "text/plain": [
       "(353, 10)"
      ]
     },
     "execution_count": 66,
     "metadata": {},
     "output_type": "execute_result"
    }
   ],
   "source": [
    "X_dia_train.shape"
   ]
  },
  {
   "cell_type": "code",
   "execution_count": 67,
   "metadata": {},
   "outputs": [],
   "source": [
    "mod = linear_model.LinearRegression().fit(X_dia_train, y_dia_train)"
   ]
  },
  {
   "cell_type": "code",
   "execution_count": 68,
   "metadata": {},
   "outputs": [
    {
     "data": {
      "text/plain": [
       "(89,)"
      ]
     },
     "execution_count": 68,
     "metadata": {},
     "output_type": "execute_result"
    }
   ],
   "source": [
    "diaPredict = mod.predict(X_dia_test)\n",
    "\n",
    "diaPredict.shape"
   ]
  },
  {
   "cell_type": "code",
   "execution_count": 69,
   "metadata": {},
   "outputs": [
    {
     "data": {
      "text/plain": [
       "(89,)"
      ]
     },
     "execution_count": 69,
     "metadata": {},
     "output_type": "execute_result"
    }
   ],
   "source": [
    "y_dia_test.shape"
   ]
  },
  {
   "cell_type": "code",
   "execution_count": 70,
   "metadata": {},
   "outputs": [],
   "source": [
    "R2 = r2_score(y_dia_test, diaPredict)"
   ]
  },
  {
   "cell_type": "code",
   "execution_count": 71,
   "metadata": {},
   "outputs": [
    {
     "data": {
      "text/plain": [
       "0.452606602161738"
      ]
     },
     "execution_count": 71,
     "metadata": {},
     "output_type": "execute_result"
    }
   ],
   "source": [
    "R2"
   ]
  },
  {
   "cell_type": "code",
   "execution_count": 121,
   "metadata": {
    "scrolled": true
   },
   "outputs": [],
   "source": [
    "bmiBP = data.data[:,2:4]"
   ]
  },
  {
   "cell_type": "code",
   "execution_count": 122,
   "metadata": {},
   "outputs": [],
   "source": [
    "X_dia_train, X_dia_test, y_dia_train, y_dia_test = train_test_split(bmiBP, data.target, test_size=0.2, random_state=42)"
   ]
  },
  {
   "cell_type": "code",
   "execution_count": 123,
   "metadata": {},
   "outputs": [],
   "source": [
    "mod = linear_model.LinearRegression().fit(X_dia_train, y_dia_train)"
   ]
  },
  {
   "cell_type": "code",
   "execution_count": 124,
   "metadata": {},
   "outputs": [],
   "source": [
    "diaPredict = mod.predict(X_dia_test)"
   ]
  },
  {
   "cell_type": "code",
   "execution_count": 125,
   "metadata": {},
   "outputs": [],
   "source": [
    "R2 = r2_score(y_dia_test, diaPredict)"
   ]
  },
  {
   "cell_type": "code",
   "execution_count": 126,
   "metadata": {},
   "outputs": [
    {
     "data": {
      "text/plain": [
       "0.29399454937644987"
      ]
     },
     "execution_count": 126,
     "metadata": {},
     "output_type": "execute_result"
    }
   ],
   "source": [
    "R2"
   ]
  },
  {
   "cell_type": "code",
   "execution_count": 131,
   "metadata": {},
   "outputs": [],
   "source": [
    "bmiBPs5 = data.data[:,[2,3,9]]"
   ]
  },
  {
   "cell_type": "code",
   "execution_count": 132,
   "metadata": {},
   "outputs": [],
   "source": [
    "X_dia_train, X_dia_test, y_dia_train, y_dia_test = train_test_split(bmiBPs5, data.target, test_size=0.2, random_state=42)"
   ]
  },
  {
   "cell_type": "code",
   "execution_count": 133,
   "metadata": {},
   "outputs": [],
   "source": [
    "mod = linear_model.LinearRegression().fit(X_dia_train, y_dia_train)"
   ]
  },
  {
   "cell_type": "code",
   "execution_count": 134,
   "metadata": {},
   "outputs": [],
   "source": [
    "diaPredict = mod.predict(X_dia_test)"
   ]
  },
  {
   "cell_type": "code",
   "execution_count": 135,
   "metadata": {},
   "outputs": [],
   "source": [
    "R2 = r2_score(y_dia_test, diaPredict)"
   ]
  },
  {
   "cell_type": "code",
   "execution_count": 136,
   "metadata": {},
   "outputs": [
    {
     "data": {
      "text/plain": [
       "0.3094948651612507"
      ]
     },
     "execution_count": 136,
     "metadata": {},
     "output_type": "execute_result"
    }
   ],
   "source": [
    "R2"
   ]
  },
  {
   "cell_type": "code",
   "execution_count": 149,
   "metadata": {},
   "outputs": [],
   "source": [
    "bmi = data.data[:,None,3]"
   ]
  },
  {
   "cell_type": "code",
   "execution_count": 150,
   "metadata": {},
   "outputs": [],
   "source": [
    "X_dia_train, X_dia_test, y_dia_train, y_dia_test = train_test_split(bmi, data.target, test_size=0.2, random_state=42)"
   ]
  },
  {
   "cell_type": "code",
   "execution_count": 155,
   "metadata": {},
   "outputs": [
    {
     "data": {
      "text/plain": [
       "LinearRegression()"
      ]
     },
     "execution_count": 155,
     "metadata": {},
     "output_type": "execute_result"
    }
   ],
   "source": [
    "mod = linear_model.LinearRegression()\n",
    "mod.fit(X_dia_train, y_dia_train)"
   ]
  },
  {
   "cell_type": "code",
   "execution_count": 156,
   "metadata": {},
   "outputs": [],
   "source": [
    "diaPredict = mod.predict(X_dia_test)"
   ]
  },
  {
   "cell_type": "code",
   "execution_count": 157,
   "metadata": {},
   "outputs": [],
   "source": [
    "R2 = r2_score(y_dia_test, diaPredict)"
   ]
  },
  {
   "cell_type": "code",
   "execution_count": null,
   "metadata": {},
   "outputs": [],
   "source": []
  },
  {
   "cell_type": "markdown",
   "metadata": {},
   "source": [
    "# SVM Support Vector Machines"
   ]
  },
  {
   "cell_type": "markdown",
   "metadata": {},
   "source": [
    "### SVC"
   ]
  },
  {
   "cell_type": "code",
   "execution_count": 20,
   "metadata": {},
   "outputs": [],
   "source": [
    "from sklearn.datasets import load_breast_cancer\n",
    "from sklearn.datasets import load_iris\n",
    "from sklearn import svm\n",
    "from sklearn.metrics import accuracy_score"
   ]
  },
  {
   "cell_type": "markdown",
   "metadata": {},
   "source": [
    "#### Simple classification"
   ]
  },
  {
   "cell_type": "code",
   "execution_count": 25,
   "metadata": {},
   "outputs": [],
   "source": [
    "data = load_iris()"
   ]
  },
  {
   "cell_type": "code",
   "execution_count": 26,
   "metadata": {},
   "outputs": [],
   "source": [
    "model = svm.SVC()"
   ]
  },
  {
   "cell_type": "code",
   "execution_count": 27,
   "metadata": {},
   "outputs": [],
   "source": [
    "X_train, X_test, y_train, y_test = train_test_split(data.data, data.target, test_size=0.2, random_state=42)"
   ]
  },
  {
   "cell_type": "code",
   "execution_count": 28,
   "metadata": {},
   "outputs": [
    {
     "data": {
      "text/plain": [
       "SVC()"
      ]
     },
     "execution_count": 28,
     "metadata": {},
     "output_type": "execute_result"
    }
   ],
   "source": [
    "model.fit(X_train, y_train)"
   ]
  },
  {
   "cell_type": "code",
   "execution_count": 29,
   "metadata": {},
   "outputs": [],
   "source": [
    "prediction = model.predict(X_test)"
   ]
  },
  {
   "cell_type": "code",
   "execution_count": 37,
   "metadata": {},
   "outputs": [
    {
     "data": {
      "text/plain": [
       "array([ True,  True,  True,  True,  True,  True,  True,  True,  True,\n",
       "        True,  True,  True,  True,  True,  True,  True,  True,  True,\n",
       "        True,  True,  True,  True,  True,  True,  True,  True,  True,\n",
       "        True,  True,  True])"
      ]
     },
     "execution_count": 37,
     "metadata": {},
     "output_type": "execute_result"
    }
   ],
   "source": [
    "prediction == y_test"
   ]
  },
  {
   "cell_type": "code",
   "execution_count": 30,
   "metadata": {},
   "outputs": [
    {
     "data": {
      "text/plain": [
       "1.0"
      ]
     },
     "execution_count": 30,
     "metadata": {},
     "output_type": "execute_result"
    }
   ],
   "source": [
    "result = accuracy_score(y_test, prediction)\n",
    "result"
   ]
  },
  {
   "cell_type": "markdown",
   "metadata": {},
   "source": [
    "#### More Complex Classification"
   ]
  },
  {
   "cell_type": "code",
   "execution_count": 38,
   "metadata": {},
   "outputs": [],
   "source": [
    "data = load_breast_cancer()"
   ]
  },
  {
   "cell_type": "code",
   "execution_count": 39,
   "metadata": {
    "scrolled": true
   },
   "outputs": [
    {
     "name": "stdout",
     "output_type": "stream",
     "text": [
      "['malignant' 'benign']\n",
      "['mean radius' 'mean texture' 'mean perimeter' 'mean area'\n",
      " 'mean smoothness' 'mean compactness' 'mean concavity'\n",
      " 'mean concave points' 'mean symmetry' 'mean fractal dimension'\n",
      " 'radius error' 'texture error' 'perimeter error' 'area error'\n",
      " 'smoothness error' 'compactness error' 'concavity error'\n",
      " 'concave points error' 'symmetry error' 'fractal dimension error'\n",
      " 'worst radius' 'worst texture' 'worst perimeter' 'worst area'\n",
      " 'worst smoothness' 'worst compactness' 'worst concavity'\n",
      " 'worst concave points' 'worst symmetry' 'worst fractal dimension']\n",
      "(569, 30)\n",
      "(569,)\n"
     ]
    }
   ],
   "source": [
    "print(data.target_names)\n",
    "print(data.feature_names)\n",
    "print(data.data.shape)\n",
    "print(data.target.shape)"
   ]
  },
  {
   "cell_type": "code",
   "execution_count": 40,
   "metadata": {},
   "outputs": [],
   "source": [
    "X_train, X_test, y_train, y_test = train_test_split(data.data, data.target, test_size=0.2, random_state=42)"
   ]
  },
  {
   "cell_type": "code",
   "execution_count": 41,
   "metadata": {},
   "outputs": [],
   "source": [
    "model = svm.SVC()"
   ]
  },
  {
   "cell_type": "code",
   "execution_count": 42,
   "metadata": {},
   "outputs": [
    {
     "data": {
      "text/plain": [
       "SVC()"
      ]
     },
     "execution_count": 42,
     "metadata": {},
     "output_type": "execute_result"
    }
   ],
   "source": [
    "model.fit(X_train, y_train)"
   ]
  },
  {
   "cell_type": "code",
   "execution_count": 43,
   "metadata": {},
   "outputs": [],
   "source": [
    "prediction = model.predict(X_test)"
   ]
  },
  {
   "cell_type": "code",
   "execution_count": 44,
   "metadata": {
    "scrolled": true
   },
   "outputs": [
    {
     "data": {
      "text/plain": [
       "array([ True,  True,  True,  True,  True,  True,  True,  True,  True,\n",
       "        True,  True,  True,  True,  True,  True,  True,  True,  True,\n",
       "        True,  True, False,  True,  True,  True,  True,  True,  True,\n",
       "        True,  True,  True,  True,  True,  True,  True,  True,  True,\n",
       "        True,  True,  True,  True,  True,  True,  True,  True,  True,\n",
       "        True,  True,  True,  True,  True,  True,  True,  True,  True,\n",
       "        True,  True,  True,  True, False,  True,  True,  True,  True,\n",
       "        True,  True,  True,  True,  True,  True,  True, False,  True,\n",
       "        True,  True,  True,  True,  True, False,  True,  True,  True,\n",
       "        True, False,  True,  True,  True, False,  True,  True,  True,\n",
       "        True,  True,  True,  True,  True,  True,  True,  True,  True,\n",
       "        True,  True,  True,  True,  True,  True,  True,  True,  True,\n",
       "        True,  True,  True,  True,  True,  True])"
      ]
     },
     "execution_count": 44,
     "metadata": {},
     "output_type": "execute_result"
    }
   ],
   "source": [
    "prediction == y_test"
   ]
  },
  {
   "cell_type": "code",
   "execution_count": 45,
   "metadata": {},
   "outputs": [
    {
     "data": {
      "text/plain": [
       "0.9473684210526315"
      ]
     },
     "execution_count": 45,
     "metadata": {},
     "output_type": "execute_result"
    }
   ],
   "source": [
    "result = accuracy_score(y_test, prediction)\n",
    "result"
   ]
  },
  {
   "cell_type": "code",
   "execution_count": 24,
   "metadata": {},
   "outputs": [
    {
     "data": {
      "text/plain": [
       "6.000000000000006"
      ]
     },
     "execution_count": 24,
     "metadata": {},
     "output_type": "execute_result"
    }
   ],
   "source": [
    "114*(1-0.9473684210526315)"
   ]
  },
  {
   "cell_type": "code",
   "execution_count": 46,
   "metadata": {},
   "outputs": [],
   "source": [
    "actualVals = [data.target_names[i] for i in y_test]"
   ]
  },
  {
   "cell_type": "code",
   "execution_count": 47,
   "metadata": {},
   "outputs": [],
   "source": [
    "predictVals = [data.target_names[i] for i in prediction]"
   ]
  },
  {
   "cell_type": "code",
   "execution_count": 50,
   "metadata": {
    "scrolled": true
   },
   "outputs": [
    {
     "data": {
      "text/plain": [
       "['malignant', 'malignant', 'malignant', 'malignant', 'malignant', 'malignant']"
      ]
     },
     "execution_count": 50,
     "metadata": {},
     "output_type": "execute_result"
    }
   ],
   "source": [
    "misClass = [actualVals[i] for i in range(0,len(actualVals)-1) if actualVals[i] != predictVals[i]]\n",
    "misClass    "
   ]
  },
  {
   "cell_type": "markdown",
   "metadata": {},
   "source": [
    "### SVR"
   ]
  },
  {
   "cell_type": "code",
   "execution_count": 137,
   "metadata": {},
   "outputs": [
    {
     "data": {
      "text/plain": [
       "<matplotlib.collections.PathCollection at 0x23502817be0>"
      ]
     },
     "execution_count": 137,
     "metadata": {},
     "output_type": "execute_result"
    },
    {
     "data": {
      "image/png": "[encoded data removed]",
      "text/plain": [
       "<Figure size 1152x576 with 1 Axes>"
      ]
     },
     "metadata": {
      "needs_background": "light"
     },
     "output_type": "display_data"
    }
   ],
   "source": [
    "X = np.linspace(0,1, 50)\n",
    "\n",
    "y = (3*X + 3) + np.random.normal(0, .5, 50)\n",
    "\n",
    "plt.scatter(X,y)"
   ]
  },
  {
   "cell_type": "code",
   "execution_count": 139,
   "metadata": {},
   "outputs": [
    {
     "data": {
      "text/plain": [
       "SVR()"
      ]
     },
     "execution_count": 139,
     "metadata": {},
     "output_type": "execute_result"
    }
   ],
   "source": [
    "reg = svm.SVR()\n",
    "\n",
    "reg.fit(X.reshape(-1,1), y)\n"
   ]
  },
  {
   "cell_type": "code",
   "execution_count": 141,
   "metadata": {},
   "outputs": [],
   "source": [
    "preds = reg.predict(X.reshape(-1,1))"
   ]
  },
  {
   "cell_type": "code",
   "execution_count": 142,
   "metadata": {},
   "outputs": [
    {
     "data": {
      "text/plain": [
       "<matplotlib.legend.Legend at 0x235028d0400>"
      ]
     },
     "execution_count": 142,
     "metadata": {},
     "output_type": "execute_result"
    },
    {
     "data": {
      "image/png": "[encoded data removed]",
      "text/plain": [
       "<Figure size 1152x576 with 1 Axes>"
      ]
     },
     "metadata": {
      "needs_background": "light"
     },
     "output_type": "display_data"
    }
   ],
   "source": [
    "plt.scatter(X,y, label=\"Actual Values\")\n",
    "plt.plot(X, reg.predict(X.reshape(-1,1)), color=\"r\", label=\"SVR prediction\")\n",
    "plt.plot([X[0],X[0]],[y[0], reg.predict(X.reshape(-1,1))[0]],color=\"grey\", linestyle='dashed', label=\"cost of regression\")\n",
    "\n",
    "for i in range(1, len(X)):\n",
    "    plt.plot([X[i],X[i]],[y[i], reg.predict(X.reshape(-1,1))[i]],color=\"grey\", linestyle='dashed')\n",
    "\n",
    "plt.legend()"
   ]
  },
  {
   "cell_type": "code",
   "execution_count": 143,
   "metadata": {},
   "outputs": [
    {
     "data": {
      "text/plain": [
       "LinearRegression()"
      ]
     },
     "execution_count": 143,
     "metadata": {},
     "output_type": "execute_result"
    }
   ],
   "source": [
    "linReg = linear_model.LinearRegression()\n",
    "\n",
    "linReg.fit(X.reshape(-1,1), y)"
   ]
  },
  {
   "cell_type": "code",
   "execution_count": 144,
   "metadata": {},
   "outputs": [
    {
     "data": {
      "text/plain": [
       "<matplotlib.legend.Legend at 0x23502873850>"
      ]
     },
     "execution_count": 144,
     "metadata": {},
     "output_type": "execute_result"
    },
    {
     "data": {
      "image/png": "[encoded data removed]",
      "text/plain": [
       "<Figure size 1152x576 with 1 Axes>"
      ]
     },
     "metadata": {
      "needs_background": "light"
     },
     "output_type": "display_data"
    }
   ],
   "source": [
    "plt.scatter(X,y, label=\"Actual Values\")\n",
    "plt.plot(X, reg.predict(X.reshape(-1,1)), color=\"r\", label=\"SVR prediction\")\n",
    "plt.plot(X, linReg.predict(X.reshape(-1,1)), color=\"g\", label=\"Linear prediction\")\n",
    "plt.plot([X[0],X[0]],[y[0], reg.predict(X.reshape(-1,1))[0]],color=\"grey\", linestyle='dashed', label=\"cost of regression\")\n",
    "\n",
    "for i in range(1, len(X)):\n",
    "    plt.plot([X[i],X[i]],[y[i], reg.predict(X.reshape(-1,1))[i]],color=\"grey\", linestyle='dashed')\n",
    "\n",
    "plt.legend()"
   ]
  },
  {
   "cell_type": "code",
   "execution_count": 145,
   "metadata": {},
   "outputs": [
    {
     "data": {
      "text/plain": [
       "0.7231842053494628"
      ]
     },
     "execution_count": 145,
     "metadata": {},
     "output_type": "execute_result"
    }
   ],
   "source": [
    "linReg.score(X.reshape(-1,1), y)"
   ]
  },
  {
   "cell_type": "code",
   "execution_count": 146,
   "metadata": {},
   "outputs": [
    {
     "data": {
      "text/plain": [
       "0.7264330461239242"
      ]
     },
     "execution_count": 146,
     "metadata": {},
     "output_type": "execute_result"
    }
   ],
   "source": [
    "reg.score(X.reshape(-1,1), y)"
   ]
  },
  {
   "cell_type": "code",
   "execution_count": 105,
   "metadata": {},
   "outputs": [],
   "source": [
    "data, target = load_diabetes(return_X_y=True)\n",
    "X_dia_train, X_dia_test, y_dia_train, y_dia_test = train_test_split(data, target, test_size=0.2, random_state=42)"
   ]
  },
  {
   "cell_type": "code",
   "execution_count": 148,
   "metadata": {},
   "outputs": [
    {
     "data": {
      "text/plain": [
       "array([[ 2.18723550e-02],\n",
       "       [-2.63278347e-02],\n",
       "       [-5.67061055e-03],\n",
       "       [-3.66564468e-02],\n",
       "       [ 2.18723550e-02],\n",
       "       [-1.94420933e-02],\n",
       "       [-1.59992226e-02],\n",
       "       [ 6.66296740e-02],\n",
       "       [-4.00993175e-02],\n",
       "       [-3.32135761e-02],\n",
       "       [ 8.10087222e-03],\n",
       "       [-3.32135761e-02],\n",
       "       [-9.11348125e-03],\n",
       "       [ 8.10087222e-03],\n",
       "       [-1.25563519e-02],\n",
       "       [ 8.04011568e-02],\n",
       "       [ 4.94153205e-02],\n",
       "       [ 5.63010619e-02],\n",
       "       [-3.66564468e-02],\n",
       "       [-4.00993175e-02],\n",
       "       [-4.35421882e-02],\n",
       "       [ 1.21513083e-03],\n",
       "       [-9.11348125e-03],\n",
       "       [ 3.10533436e-02],\n",
       "       [-2.28849640e-02],\n",
       "       [-4.00993175e-02],\n",
       "       [-2.63278347e-02],\n",
       "       [-4.00993175e-02],\n",
       "       [-7.45280244e-02],\n",
       "       [ 6.31868033e-02],\n",
       "       [-1.94420933e-02],\n",
       "       [-8.14137658e-02],\n",
       "       [ 2.87580964e-02],\n",
       "       [-2.22773986e-03],\n",
       "       [-5.73136710e-02],\n",
       "       [-4.92803060e-02],\n",
       "       [ 5.28581912e-02],\n",
       "       [-5.73136710e-02],\n",
       "       [ 9.76155103e-02],\n",
       "       [-7.45280244e-02],\n",
       "       [ 2.18723550e-02],\n",
       "       [-1.08956731e-01],\n",
       "       [-1.48515991e-02],\n",
       "       [-7.10851537e-02],\n",
       "       [ 8.10087222e-03],\n",
       "       [ 3.22009671e-02],\n",
       "       [-3.32135761e-02],\n",
       "       [-5.73136710e-02],\n",
       "       [ 1.15437429e-02],\n",
       "       [-5.67061055e-03],\n",
       "       [ 1.49866136e-02],\n",
       "       [ 2.87580964e-02],\n",
       "       [-5.67061055e-03],\n",
       "       [ 7.00725447e-02],\n",
       "       [ 8.10087222e-03],\n",
       "       [-3.66564468e-02],\n",
       "       [-2.63278347e-02],\n",
       "       [-5.04279296e-02],\n",
       "       [ 3.56438378e-02],\n",
       "       [ 1.15437429e-02],\n",
       "       [-4.00993175e-02],\n",
       "       [-5.38708003e-02],\n",
       "       [-4.00993175e-02],\n",
       "       [-6.07565417e-02],\n",
       "       [-4.00993175e-02],\n",
       "       [ 5.97439326e-02],\n",
       "       [-3.32135761e-02],\n",
       "       [-1.71468462e-02],\n",
       "       [-4.00993175e-02],\n",
       "       [-5.67061055e-03],\n",
       "       [-1.25563519e-02],\n",
       "       [ 1.25158476e-01],\n",
       "       [-1.25563519e-02],\n",
       "       [-2.22773986e-03],\n",
       "       [ 5.63010619e-02],\n",
       "       [-2.63278347e-02],\n",
       "       [ 7.00725447e-02],\n",
       "       [-7.45280244e-02],\n",
       "       [-2.28849640e-02],\n",
       "       [-2.63278347e-02],\n",
       "       [ 4.25295792e-02],\n",
       "       [-2.97707054e-02],\n",
       "       [-2.63278347e-02],\n",
       "       [-4.69850589e-02],\n",
       "       [-1.00923366e-01],\n",
       "       [ 1.21513083e-03],\n",
       "       [-4.00993175e-02],\n",
       "       [ 1.15437429e-02],\n",
       "       [-6.76422830e-02],\n",
       "       [-1.94420933e-02],\n",
       "       [-4.00993175e-02],\n",
       "       [-5.38708003e-02],\n",
       "       [ 9.76155103e-02],\n",
       "       [-1.02070990e-01],\n",
       "       [-1.25563519e-02],\n",
       "       [-8.14137658e-02],\n",
       "       [ 4.94153205e-02],\n",
       "       [-2.51802112e-02],\n",
       "       [-1.25563519e-02],\n",
       "       [ 1.15437429e-02],\n",
       "       [-2.28849640e-02],\n",
       "       [ 6.31868033e-02],\n",
       "       [-1.59992226e-02],\n",
       "       [ 1.15437429e-02],\n",
       "       [-2.22773986e-03],\n",
       "       [-4.00993175e-02],\n",
       "       [-4.35421882e-02],\n",
       "       [-5.50184238e-02],\n",
       "       [ 2.99057198e-02],\n",
       "       [ 2.36275439e-03],\n",
       "       [-2.28849640e-02],\n",
       "       [-2.63278347e-02],\n",
       "       [-2.63278347e-02],\n",
       "       [ 6.31868033e-02],\n",
       "       [ 6.31868033e-02],\n",
       "       [-5.67061055e-03],\n",
       "       [ 7.00725447e-02],\n",
       "       [ 8.72868982e-02],\n",
       "       [ 2.53152257e-02],\n",
       "       [-2.22773986e-03],\n",
       "       [ 1.15437429e-02],\n",
       "       [ 2.18723550e-02],\n",
       "       [ 2.18723550e-02],\n",
       "       [-1.08011631e-03],\n",
       "       [ 8.10087222e-03],\n",
       "       [-2.22773986e-03],\n",
       "       [-2.63278347e-02],\n",
       "       [-1.25563519e-02],\n",
       "       [-2.63278347e-02],\n",
       "       [ 4.65800153e-03],\n",
       "       [ 1.04501252e-01],\n",
       "       [-6.76422830e-02],\n",
       "       [-9.11348125e-03],\n",
       "       [-4.00993175e-02],\n",
       "       [-3.32135761e-02],\n",
       "       [-3.66564468e-02],\n",
       "       [-5.73136710e-02],\n",
       "       [ 9.76155103e-02],\n",
       "       [ 7.69582861e-02],\n",
       "       [ 5.28581912e-02],\n",
       "       [ 4.25295792e-02],\n",
       "       [-4.69850589e-02],\n",
       "       [ 3.90867085e-02],\n",
       "       [-9.11348125e-03],\n",
       "       [-1.59992226e-02],\n",
       "       [ 6.31868033e-02],\n",
       "       [ 1.21513083e-03],\n",
       "       [-1.94420933e-02],\n",
       "       [-1.94420933e-02],\n",
       "       [-4.69850589e-02],\n",
       "       [ 2.53152257e-02],\n",
       "       [-5.67061055e-03],\n",
       "       [ 7.00725447e-02],\n",
       "       [ 6.31868033e-02],\n",
       "       [-5.67061055e-03],\n",
       "       [ 4.94153205e-02],\n",
       "       [ 1.21513083e-03],\n",
       "       [-1.82944698e-02],\n",
       "       [-6.99375302e-02],\n",
       "       [ 8.72868982e-02],\n",
       "       [-7.45280244e-02],\n",
       "       [ 7.00725447e-02],\n",
       "       [-7.45280244e-02],\n",
       "       [ 7.69582861e-02],\n",
       "       [ 2.18723550e-02],\n",
       "       [-4.69850589e-02],\n",
       "       [-3.66564468e-02],\n",
       "       [ 3.79390850e-02],\n",
       "       [-2.22773986e-03],\n",
       "       [ 4.94153205e-02],\n",
       "       [-3.66564468e-02],\n",
       "       [-9.86281193e-02],\n",
       "       [ 8.10087222e-03],\n",
       "       [-5.67061055e-03],\n",
       "       [-4.35421882e-02],\n",
       "       [-2.63278347e-02],\n",
       "       [ 3.90867085e-02],\n",
       "       [-2.51802112e-02],\n",
       "       [-2.63278347e-02],\n",
       "       [-1.25563519e-02],\n",
       "       [ 3.56438378e-02],\n",
       "       [-5.38708003e-02],\n",
       "       [ 5.63010619e-02],\n",
       "       [ 6.31868033e-02],\n",
       "       [-2.28849640e-02],\n",
       "       [ 8.10087222e-03],\n",
       "       [-1.94420933e-02],\n",
       "       [-2.63278347e-02],\n",
       "       [ 4.94153205e-02],\n",
       "       [ 1.21513083e-03],\n",
       "       [ 2.87580964e-02],\n",
       "       [-4.35421882e-02],\n",
       "       [ 8.10087222e-03],\n",
       "       [-6.41994123e-02],\n",
       "       [ 3.22009671e-02],\n",
       "       [ 1.49866136e-02],\n",
       "       [-3.32135761e-02],\n",
       "       [ 7.00725447e-02],\n",
       "       [-2.63278347e-02],\n",
       "       [ 3.44962143e-02],\n",
       "       [-7.96585770e-03],\n",
       "       [-1.59992226e-02],\n",
       "       [ 3.56438378e-02],\n",
       "       [ 5.28581912e-02],\n",
       "       [ 2.87580964e-02],\n",
       "       [ 1.49866136e-02],\n",
       "       [-9.11348125e-03],\n",
       "       [ 2.87580964e-02],\n",
       "       [ 7.69582861e-02],\n",
       "       [ 6.66296740e-02],\n",
       "       [ 1.49866136e-02],\n",
       "       [ 2.18723550e-02],\n",
       "       [ 3.56438378e-02],\n",
       "       [-2.28849640e-02],\n",
       "       [-2.28849640e-02],\n",
       "       [ 9.76155103e-02],\n",
       "       [ 4.94153205e-02],\n",
       "       [ 1.01058381e-01],\n",
       "       [-4.00993175e-02],\n",
       "       [-1.94420933e-02],\n",
       "       [-5.67061055e-03],\n",
       "       [-2.63278347e-02],\n",
       "       [ 4.25295792e-02],\n",
       "       [-6.41994123e-02],\n",
       "       [-1.12399602e-01],\n",
       "       [ 4.94153205e-02],\n",
       "       [-2.63278347e-02],\n",
       "       [ 5.74486854e-02],\n",
       "       [-6.07565417e-02],\n",
       "       [-2.97707054e-02],\n",
       "       [-5.73136710e-02],\n",
       "       [ 2.18723550e-02],\n",
       "       [-1.14087284e-02],\n",
       "       [-5.04279296e-02],\n",
       "       [ 4.59724499e-02],\n",
       "       [ 5.85963092e-02],\n",
       "       [ 3.56438378e-02],\n",
       "       [-6.87899066e-02],\n",
       "       [ 5.97439326e-02],\n",
       "       [-1.25563519e-02],\n",
       "       [ 6.66296740e-02],\n",
       "       [ 4.65800153e-03],\n",
       "       [-2.28849640e-02],\n",
       "       [ 1.15437429e-02],\n",
       "       [-1.94420933e-02],\n",
       "       [-2.97707054e-02],\n",
       "       [-6.19041652e-02],\n",
       "       [-4.00993175e-02],\n",
       "       [ 5.97439326e-02],\n",
       "       [ 5.28581912e-02],\n",
       "       [ 7.35154154e-02],\n",
       "       [ 8.72868982e-02],\n",
       "       [-5.61660474e-02],\n",
       "       [ 8.10087222e-03],\n",
       "       [ 7.69582861e-02],\n",
       "       [-5.67061055e-03],\n",
       "       [-4.69850589e-02],\n",
       "       [ 2.53152257e-02],\n",
       "       [-4.23945646e-02],\n",
       "       [ 4.25295792e-02],\n",
       "       [-5.73136710e-02],\n",
       "       [ 1.04501252e-01],\n",
       "       [ 9.76155103e-02],\n",
       "       [-4.69850589e-02],\n",
       "       [-3.32135761e-02],\n",
       "       [-1.71468462e-02],\n",
       "       [ 1.15437429e-02],\n",
       "       [-8.48566365e-02],\n",
       "       [ 7.00725447e-02],\n",
       "       [-2.63278347e-02],\n",
       "       [ 8.38440275e-02],\n",
       "       [ 4.25295792e-02],\n",
       "       [-5.61660474e-02],\n",
       "       [ 4.59724499e-02],\n",
       "       [ 3.56438378e-02],\n",
       "       [ 1.15437429e-02],\n",
       "       [ 6.31868033e-02],\n",
       "       [ 1.21513083e-03],\n",
       "       [-8.48566365e-02],\n",
       "       [ 4.65800153e-03],\n",
       "       [ 3.90867085e-02],\n",
       "       [-5.73136710e-02],\n",
       "       [-5.67061055e-03],\n",
       "       [-3.32135761e-02],\n",
       "       [ 2.87580964e-02],\n",
       "       [-1.59992226e-02],\n",
       "       [-7.79708951e-02],\n",
       "       [-1.59992226e-02],\n",
       "       [ 2.18723550e-02],\n",
       "       [-4.00993175e-02],\n",
       "       [ 2.53152257e-02],\n",
       "       [ 6.31868033e-02],\n",
       "       [-3.20659526e-02],\n",
       "       [ 1.26913665e-02],\n",
       "       [-5.67061055e-03],\n",
       "       [-4.00993175e-02],\n",
       "       [-4.00993175e-02],\n",
       "       [-6.41994123e-02],\n",
       "       [-4.69850589e-02],\n",
       "       [-1.59992226e-02],\n",
       "       [-4.12469410e-02],\n",
       "       [ 5.28581912e-02],\n",
       "       [ 3.33485905e-02],\n",
       "       [ 9.41726396e-02],\n",
       "       [ 5.28581912e-02],\n",
       "       [-4.00993175e-02],\n",
       "       [ 2.18723550e-02],\n",
       "       [ 4.65800153e-03],\n",
       "       [-3.32135761e-02],\n",
       "       [-2.22773986e-03],\n",
       "       [ 3.56438378e-02],\n",
       "       [-5.73136710e-02],\n",
       "       [-5.67061055e-03],\n",
       "       [ 5.28581912e-02],\n",
       "       [-1.25563519e-02],\n",
       "       [-5.38708003e-02],\n",
       "       [ 1.21513083e-03],\n",
       "       [ 5.51534385e-02],\n",
       "       [ 2.53152257e-02],\n",
       "       [ 4.59724499e-02],\n",
       "       [-5.67061055e-03],\n",
       "       [ 7.92535333e-02],\n",
       "       [ 6.20391799e-02],\n",
       "       [ 4.94153205e-02],\n",
       "       [ 1.15437429e-02],\n",
       "       [-6.64946595e-02],\n",
       "       [-3.32135761e-02],\n",
       "       [ 2.87580964e-02],\n",
       "       [-6.07565417e-02],\n",
       "       [-2.22773986e-03],\n",
       "       [ 4.25295792e-02],\n",
       "       [-3.66564468e-02],\n",
       "       [ 7.69582861e-02],\n",
       "       [ 2.87580964e-02],\n",
       "       [-2.28849640e-02],\n",
       "       [-1.25563519e-02],\n",
       "       [-3.66564468e-02],\n",
       "       [ 7.00725447e-02],\n",
       "       [-3.32135761e-02],\n",
       "       [-5.04279296e-02],\n",
       "       [ 1.32044217e-01],\n",
       "       [ 5.63010619e-02],\n",
       "       [ 5.63010619e-02],\n",
       "       [ 9.07297689e-02],\n",
       "       [-4.00993175e-02],\n",
       "       [-3.32135761e-02],\n",
       "       [ 3.22009671e-02],\n",
       "       [-7.45280244e-02],\n",
       "       [-5.67061055e-03],\n",
       "       [-4.35421882e-02],\n",
       "       [ 1.07944122e-01],\n",
       "       [-3.32135761e-02],\n",
       "       [-4.69850589e-02],\n",
       "       [-3.66564468e-02],\n",
       "       [ 2.18723550e-02],\n",
       "       [ 1.49866136e-02],\n",
       "       [-1.59992226e-02],\n",
       "       [ 1.84294843e-02],\n",
       "       [-2.63278347e-02],\n",
       "       [ 3.22009671e-02],\n",
       "       [ 2.18723550e-02],\n",
       "       [ 2.87580964e-02],\n",
       "       [ 7.00725447e-02],\n",
       "       [ 6.75072794e-05],\n",
       "       [-1.94420933e-02],\n",
       "       [-1.25563519e-02],\n",
       "       [-1.59992226e-02],\n",
       "       [ 1.49866136e-02],\n",
       "       [ 1.49866136e-02],\n",
       "       [-4.00993175e-02],\n",
       "       [-5.73136710e-02],\n",
       "       [ 4.94153205e-02],\n",
       "       [-1.59992226e-02],\n",
       "       [-5.67061055e-03],\n",
       "       [-6.76422830e-02],\n",
       "       [ 1.07944122e-01],\n",
       "       [-5.67061055e-03],\n",
       "       [ 1.84294843e-02],\n",
       "       [-5.67061055e-03],\n",
       "       [ 2.18723550e-02],\n",
       "       [ 5.85963092e-02],\n",
       "       [-7.45280244e-02],\n",
       "       [-2.28849640e-02],\n",
       "       [-9.11348125e-03],\n",
       "       [ 4.65800153e-03],\n",
       "       [ 4.94153205e-02],\n",
       "       [-1.59992226e-02],\n",
       "       [-7.45280244e-02],\n",
       "       [ 5.63010619e-02],\n",
       "       [-8.48566365e-02],\n",
       "       [ 5.97439326e-02],\n",
       "       [-6.41994123e-02],\n",
       "       [-2.22773986e-03],\n",
       "       [-4.35421882e-02],\n",
       "       [ 5.63010619e-02],\n",
       "       [-2.97707054e-02],\n",
       "       [-2.28849640e-02],\n",
       "       [-3.09183290e-02],\n",
       "       [-3.32135761e-02],\n",
       "       [ 4.94153205e-02],\n",
       "       [ 9.07297689e-02],\n",
       "       [-5.73136710e-02],\n",
       "       [-2.28849640e-02],\n",
       "       [-5.67061055e-03],\n",
       "       [ 7.00725447e-02],\n",
       "       [ 8.38440275e-02],\n",
       "       [-8.48566365e-02],\n",
       "       [-5.27231767e-02],\n",
       "       [ 1.07944122e-01],\n",
       "       [ 5.63010619e-02],\n",
       "       [ 8.10087222e-03],\n",
       "       [-4.35421882e-02],\n",
       "       [ 6.31868033e-02],\n",
       "       [-2.63278347e-02],\n",
       "       [-4.52298700e-03],\n",
       "       [-5.04279296e-02],\n",
       "       [ 9.87631337e-02],\n",
       "       [-7.45280244e-02],\n",
       "       [-2.63278347e-02],\n",
       "       [-5.38708003e-02],\n",
       "       [ 6.75072794e-05],\n",
       "       [ 2.18723550e-02],\n",
       "       [ 5.28581912e-02],\n",
       "       [ 2.87580964e-02],\n",
       "       [-1.94420933e-02],\n",
       "       [-8.14137658e-02],\n",
       "       [ 4.36772026e-02],\n",
       "       [-5.67061055e-03],\n",
       "       [ 8.72868982e-02],\n",
       "       [-2.28849640e-02],\n",
       "       [-5.04279296e-02],\n",
       "       [ 2.18723550e-02],\n",
       "       [-5.67061055e-03],\n",
       "       [-2.97707054e-02],\n",
       "       [ 8.10087222e-03],\n",
       "       [-4.00993175e-02],\n",
       "       [-5.04279296e-02],\n",
       "       [ 5.97439326e-02],\n",
       "       [-6.76422830e-02],\n",
       "       [ 1.72818607e-02],\n",
       "       [ 1.21513083e-03],\n",
       "       [-8.14137658e-02]])"
      ]
     },
     "execution_count": 148,
     "metadata": {},
     "output_type": "execute_result"
    }
   ],
   "source": []
  },
  {
   "cell_type": "code",
   "execution_count": null,
   "metadata": {},
   "outputs": [],
   "source": []
  },
  {
   "cell_type": "code",
   "execution_count": null,
   "metadata": {},
   "outputs": [],
   "source": []
  },
  {
   "cell_type": "code",
   "execution_count": null,
   "metadata": {},
   "outputs": [],
   "source": []
  },
  {
   "cell_type": "code",
   "execution_count": null,
   "metadata": {},
   "outputs": [],
   "source": []
  },
  {
   "cell_type": "code",
   "execution_count": null,
   "metadata": {},
   "outputs": [],
   "source": []
  },
  {
   "cell_type": "code",
   "execution_count": 106,
   "metadata": {},
   "outputs": [
    {
     "data": {
      "text/plain": [
       "SVR()"
      ]
     },
     "execution_count": 106,
     "metadata": {},
     "output_type": "execute_result"
    }
   ],
   "source": [
    "reg = svm.SVR()\n",
    "reg.fit(X_dia_train, y_dia_train)"
   ]
  },
  {
   "cell_type": "code",
   "execution_count": 107,
   "metadata": {},
   "outputs": [],
   "source": [
    "prediction = reg.predict(X_dia_test)"
   ]
  },
  {
   "cell_type": "code",
   "execution_count": 110,
   "metadata": {},
   "outputs": [
    {
     "data": {
      "text/plain": [
       "0.1821145664971341"
      ]
     },
     "execution_count": 110,
     "metadata": {},
     "output_type": "execute_result"
    }
   ],
   "source": [
    "reg.score(X_dia_test, y_dia_test)"
   ]
  },
  {
   "cell_type": "code",
   "execution_count": 109,
   "metadata": {},
   "outputs": [
    {
     "data": {
      "text/plain": [
       "array([219.,  70., 202., 230., 111.,  84., 242., 272.,  94.,  96.,  94.,\n",
       "       252.,  99., 297., 135.,  67., 295., 264., 170., 275., 310.,  64.,\n",
       "       128., 232., 129., 118., 263.,  77.,  48., 107., 140., 113.,  90.,\n",
       "       164., 180., 233.,  42.,  84., 172.,  63.,  48., 108., 156., 168.,\n",
       "        90.,  52., 200.,  87.,  90., 258., 136., 158.,  69.,  72., 171.,\n",
       "        95.,  72., 151., 168.,  60., 122.,  52., 187., 102., 214., 248.,\n",
       "       181., 110., 140., 202., 101., 222., 281.,  61.,  89.,  91., 186.,\n",
       "       220., 237., 233.,  68., 190.,  96.,  72., 153.,  98.,  37.,  63.,\n",
       "       184.])"
      ]
     },
     "execution_count": 109,
     "metadata": {},
     "output_type": "execute_result"
    }
   ],
   "source": []
  },
  {
   "cell_type": "code",
   "execution_count": null,
   "metadata": {},
   "outputs": [],
   "source": []
  },
  {
   "cell_type": "markdown",
   "metadata": {},
   "source": [
    "# Clustering"
   ]
  },
  {
   "cell_type": "code",
   "execution_count": 2,
   "metadata": {},
   "outputs": [],
   "source": [
    "from sklearn.cluster import KMeans\n",
    "from sklearn.datasets import load_iris\n",
    "from sklearn.datasets import load_digits\n",
    "import matplotlib.pyplot as plt\n",
    "import numpy as np\n",
    "import seaborn as sns\n",
    "import pandas as pd"
   ]
  },
  {
   "cell_type": "code",
   "execution_count": null,
   "metadata": {},
   "outputs": [],
   "source": []
  },
  {
   "cell_type": "code",
   "execution_count": 14,
   "metadata": {},
   "outputs": [],
   "source": [
    "iris = load_iris()"
   ]
  },
  {
   "cell_type": "code",
   "execution_count": 15,
   "metadata": {},
   "outputs": [
    {
     "data": {
      "text/plain": [
       "['sepal length (cm)',\n",
       " 'sepal width (cm)',\n",
       " 'petal length (cm)',\n",
       " 'petal width (cm)']"
      ]
     },
     "execution_count": 15,
     "metadata": {},
     "output_type": "execute_result"
    }
   ],
   "source": [
    "iris.feature_names"
   ]
  },
  {
   "cell_type": "code",
   "execution_count": 19,
   "metadata": {},
   "outputs": [],
   "source": [
    "df = pd.DataFrame(X, columns=iris.feature_names)"
   ]
  },
  {
   "cell_type": "code",
   "execution_count": 22,
   "metadata": {},
   "outputs": [],
   "source": [
    "df[\"Target\"] = y"
   ]
  },
  {
   "cell_type": "code",
   "execution_count": 30,
   "metadata": {},
   "outputs": [
    {
     "data": {
      "text/plain": [
       "<seaborn.axisgrid.PairGrid at 0x21a09308ca0>"
      ]
     },
     "execution_count": 30,
     "metadata": {},
     "output_type": "execute_result"
    },
    {
     "data": {
      "image/png": "[encoded data removed]",
      "text/plain": [
       "<Figure size 762.375x720 with 20 Axes>"
      ]
     },
     "metadata": {
      "needs_background": "light"
     },
     "output_type": "display_data"
    }
   ],
   "source": [
    "sns.pairplot(df, hue=\"Target\")"
   ]
  },
  {
   "cell_type": "code",
   "execution_count": null,
   "metadata": {},
   "outputs": [],
   "source": []
  },
  {
   "cell_type": "code",
   "execution_count": null,
   "metadata": {},
   "outputs": [],
   "source": []
  },
  {
   "cell_type": "code",
   "execution_count": null,
   "metadata": {},
   "outputs": [],
   "source": []
  },
  {
   "cell_type": "code",
   "execution_count": null,
   "metadata": {},
   "outputs": [],
   "source": []
  },
  {
   "cell_type": "code",
   "execution_count": 17,
   "metadata": {},
   "outputs": [],
   "source": [
    "X = iris.data"
   ]
  },
  {
   "cell_type": "code",
   "execution_count": 18,
   "metadata": {},
   "outputs": [],
   "source": [
    "y = iris.target"
   ]
  },
  {
   "cell_type": "code",
   "execution_count": 7,
   "metadata": {},
   "outputs": [],
   "source": [
    "y_pred = KMeans(n_clusters=3).fit_predict(X)"
   ]
  },
  {
   "cell_type": "code",
   "execution_count": 8,
   "metadata": {},
   "outputs": [
    {
     "data": {
      "text/plain": [
       "array([1, 1, 1, 1, 1, 1, 1, 1, 1, 1, 1, 1, 1, 1, 1, 1, 1, 1, 1, 1, 1, 1,\n",
       "       1, 1, 1, 1, 1, 1, 1, 1, 1, 1, 1, 1, 1, 1, 1, 1, 1, 1, 1, 1, 1, 1,\n",
       "       1, 1, 1, 1, 1, 1, 0, 0, 2, 0, 0, 0, 0, 0, 0, 0, 0, 0, 0, 0, 0, 0,\n",
       "       0, 0, 0, 0, 0, 0, 0, 0, 0, 0, 0, 2, 0, 0, 0, 0, 0, 0, 0, 0, 0, 0,\n",
       "       0, 0, 0, 0, 0, 0, 0, 0, 0, 0, 0, 0, 2, 0, 2, 2, 2, 2, 0, 2, 2, 2,\n",
       "       2, 2, 2, 0, 0, 2, 2, 2, 2, 0, 2, 0, 2, 0, 2, 2, 0, 0, 2, 2, 2, 2,\n",
       "       2, 0, 2, 2, 2, 2, 0, 2, 2, 2, 0, 2, 2, 2, 0, 2, 2, 0])"
      ]
     },
     "execution_count": 8,
     "metadata": {},
     "output_type": "execute_result"
    }
   ],
   "source": [
    "y_pred"
   ]
  },
  {
   "cell_type": "code",
   "execution_count": 30,
   "metadata": {
    "scrolled": true
   },
   "outputs": [
    {
     "data": {
      "text/plain": [
       "array([False, False, False, False, False, False, False, False, False,\n",
       "       False, False, False, False, False, False, False, False, False,\n",
       "       False, False, False, False, False, False, False, False, False,\n",
       "       False, False, False, False, False, False, False, False, False,\n",
       "       False, False, False, False, False, False, False, False, False,\n",
       "       False, False, False, False, False, False, False, False, False,\n",
       "       False, False, False, False, False, False, False, False, False,\n",
       "       False, False, False, False, False, False, False, False, False,\n",
       "       False, False, False, False, False, False, False, False, False,\n",
       "       False, False, False, False, False, False, False, False, False,\n",
       "       False, False, False, False, False, False, False, False, False,\n",
       "       False,  True, False,  True,  True,  True,  True, False,  True,\n",
       "        True,  True,  True,  True,  True, False, False,  True,  True,\n",
       "        True,  True, False,  True, False,  True, False,  True,  True,\n",
       "       False, False,  True,  True,  True,  True,  True, False,  True,\n",
       "        True,  True,  True, False,  True,  True,  True, False,  True,\n",
       "        True,  True, False,  True,  True, False])"
      ]
     },
     "execution_count": 30,
     "metadata": {},
     "output_type": "execute_result"
    }
   ],
   "source": [
    "y_pred"
   ]
  },
  {
   "cell_type": "code",
   "execution_count": 35,
   "metadata": {},
   "outputs": [
    {
     "data": {
      "text/plain": [
       "array([5.1, 3.5, 1.4, 0.2])"
      ]
     },
     "execution_count": 35,
     "metadata": {},
     "output_type": "execute_result"
    }
   ],
   "source": []
  },
  {
   "cell_type": "code",
   "execution_count": 57,
   "metadata": {},
   "outputs": [
    {
     "data": {
      "text/plain": [
       "array([5.1, 3.5])"
      ]
     },
     "execution_count": 57,
     "metadata": {},
     "output_type": "execute_result"
    }
   ],
   "source": [
    "X[0][0:2]"
   ]
  },
  {
   "cell_type": "code",
   "execution_count": null,
   "metadata": {},
   "outputs": [],
   "source": []
  },
  {
   "cell_type": "code",
   "execution_count": 9,
   "metadata": {},
   "outputs": [],
   "source": [
    "clusterAX, clusterAY = [], []\n",
    "clusterBX, clusterBY = [], []\n",
    "clusterCX, clusterCY = [], []\n",
    " \n",
    "for i, value in enumerate(y_pred):\n",
    "    if value == 0:\n",
    "        clusterAX.append(X[i][0:1])\n",
    "        clusterAY.append(X[i][1:2])\n",
    "        \n",
    "        \n",
    "    elif  value == 1:\n",
    "        clusterBX.append(X[i][0:1])\n",
    "        clusterBY.append(X[i][1:2])\n",
    "        \n",
    "    elif  value == 2:\n",
    "        clusterCX.append(X[i][0:1])\n",
    "        clusterCY.append(X[i][1:2])"
   ]
  },
  {
   "cell_type": "code",
   "execution_count": 10,
   "metadata": {},
   "outputs": [
    {
     "data": {
      "text/plain": [
       "<matplotlib.collections.PathCollection at 0x21a067cc1f0>"
      ]
     },
     "execution_count": 10,
     "metadata": {},
     "output_type": "execute_result"
    },
    {
     "data": {
      "image/png": "[encoded data removed]",
      "text/plain": [
       "<Figure size 432x288 with 1 Axes>"
      ]
     },
     "metadata": {
      "needs_background": "light"
     },
     "output_type": "display_data"
    }
   ],
   "source": [
    "plt.scatter(clusterAX, clusterAY)\n",
    "plt.scatter(clusterBX, clusterBY)\n",
    "plt.scatter(clusterCX, clusterCY)"
   ]
  },
  {
   "cell_type": "code",
   "execution_count": 74,
   "metadata": {},
   "outputs": [
    {
     "ename": "TypeError",
     "evalue": "'numpy.float64' object is not iterable",
     "output_type": "error",
     "traceback": [
      "\u001b[1;31m---------------------------------------------------------------------------\u001b[0m",
      "\u001b[1;31mTypeError\u001b[0m                                 Traceback (most recent call last)",
      "\u001b[1;32m<ipython-input-74-f58d655d7096>\u001b[0m in \u001b[0;36m<module>\u001b[1;34m\u001b[0m\n\u001b[1;32m----> 1\u001b[1;33m \u001b[0mprint\u001b[0m\u001b[1;33m(\u001b[0m\u001b[1;33m[\u001b[0m\u001b[0mi\u001b[0m \u001b[1;32mfor\u001b[0m \u001b[0mi\u001b[0m \u001b[1;32min\u001b[0m \u001b[0mclusterA\u001b[0m\u001b[1;33m[\u001b[0m\u001b[1;36m0\u001b[0m\u001b[1;33m]\u001b[0m\u001b[1;33m[\u001b[0m\u001b[1;36m0\u001b[0m\u001b[1;33m]\u001b[0m\u001b[1;33m]\u001b[0m\u001b[1;33m)\u001b[0m\u001b[1;33m\u001b[0m\u001b[1;33m\u001b[0m\u001b[0m\n\u001b[0m",
      "\u001b[1;31mTypeError\u001b[0m: 'numpy.float64' object is not iterable"
     ]
    }
   ],
   "source": [
    "print([i for i in clusterA[0][0]])"
   ]
  },
  {
   "cell_type": "code",
   "execution_count": 26,
   "metadata": {},
   "outputs": [],
   "source": [
    "target =  load_digits().target"
   ]
  },
  {
   "cell_type": "code",
   "execution_count": 5,
   "metadata": {},
   "outputs": [],
   "source": [
    "digitsData = load_digits().data"
   ]
  },
  {
   "cell_type": "code",
   "execution_count": 10,
   "metadata": {},
   "outputs": [],
   "source": [
    "prediction = KMeans(n_clusters=10).fit_predict(digitsData)"
   ]
  },
  {
   "cell_type": "code",
   "execution_count": 11,
   "metadata": {},
   "outputs": [
    {
     "data": {
      "text/plain": [
       "array([8, 6, 6, ..., 6, 2, 2])"
      ]
     },
     "execution_count": 11,
     "metadata": {},
     "output_type": "execute_result"
    }
   ],
   "source": [
    "prediction"
   ]
  },
  {
   "cell_type": "code",
   "execution_count": 23,
   "metadata": {},
   "outputs": [],
   "source": [
    "outputClusters = {}\n",
    "\n",
    "for i in range(10):\n",
    "    outputClusters[i] = []"
   ]
  },
  {
   "cell_type": "code",
   "execution_count": 27,
   "metadata": {},
   "outputs": [
    {
     "data": {
      "text/plain": [
       "array([0, 1, 2, ..., 8, 9, 8])"
      ]
     },
     "execution_count": 27,
     "metadata": {},
     "output_type": "execute_result"
    }
   ],
   "source": []
  },
  {
   "cell_type": "code",
   "execution_count": 65,
   "metadata": {},
   "outputs": [],
   "source": [
    "outputClusters = {}\n",
    "\n",
    "for i in range(10):\n",
    "    outputClusters[i] = []\n",
    "    \n",
    "for i, value in enumerate(prediction):\n",
    "    outputClusters[value].append(target[i])\n",
    "    "
   ]
  },
  {
   "cell_type": "code",
   "execution_count": 72,
   "metadata": {},
   "outputs": [
    {
     "data": {
      "text/plain": [
       "range(0, 10)"
      ]
     },
     "execution_count": 72,
     "metadata": {},
     "output_type": "execute_result"
    }
   ],
   "source": [
    "range(10)"
   ]
  },
  {
   "cell_type": "code",
   "execution_count": 90,
   "metadata": {
    "scrolled": false
   },
   "outputs": [
    {
     "data": {
      "image/png": "[encoded data removed]",
      "text/plain": [
       "<Figure size 1080x1440 with 10 Axes>"
      ]
     },
     "metadata": {
      "needs_background": "light"
     },
     "output_type": "display_data"
    }
   ],
   "source": [
    "binsVals = [0,1,2,3,4,5,6,7,8,9,10]\n",
    "\n",
    "\n",
    "\n",
    "fig, axs = plt.subplots(nrows=5, ncols=2, figsize=[15,20])\n",
    "\n",
    "\n",
    "\n",
    "plCount = 0\n",
    "\n",
    "for i in range(10):\n",
    "    if i < 5:\n",
    "        axs[i, 0].hist(outputClusters[i], bins=binsVals)\n",
    "        \n",
    "    else:\n",
    "        axs[plCount, 1].hist(outputClusters[i], bins=binsVals)\n",
    "        \n",
    "        plCount +=1"
   ]
  },
  {
   "cell_type": "code",
   "execution_count": 60,
   "metadata": {},
   "outputs": [
    {
     "data": {
      "text/plain": [
       "1"
      ]
     },
     "execution_count": 60,
     "metadata": {},
     "output_type": "execute_result"
    }
   ],
   "source": [
    "target[1000]"
   ]
  },
  {
   "cell_type": "markdown",
   "metadata": {},
   "source": [
    "# References"
   ]
  },
  {
   "cell_type": "markdown",
   "metadata": {},
   "source": [
    "https://scikit-learn.org/stable/about.html\n",
    "\n",
    "https://jmlr.csail.mit.edu/papers/volume12/pedregosa11a/pedregosa11a.pdf\n",
    "\n",
    "file:///C:/Users/hogan/documents/books/1201.0490.pdf\n",
    "\n",
    "[Hands-on ML book](file:///C:/Users/hogan/Documents/Books/DataScienceBooks/Aur%C3%A9lien%20G%C3%A9ron%20-%20Hands-On%20Machine%20Learning%20with%20Scikit-Learn,%20Keras,%20and%20TensorFlow%20-%20Concepts,%20Tools,%20and%20Techniques%20to%20Build%20Intelligent%20Systems,%202nd%20Edition%20(2019).pdf)\n",
    "\n",
    "[100 page ML](file:///C:/Users/hogan/Documents/Books/DataScienceBooks/Andriy%20Burkov%20-%20The%20Hundred-Page%20Machine%20Learning%20Book-Andriy%20Burkov%20(2019)-pages-deleted.pdf)"
   ]
  },
  {
   "cell_type": "markdown",
   "metadata": {},
   "source": [
    "Pedregosa et al, 2011, JMLR 12, pp. 2825-2830. [Scikit-learn: Machine Learning in Python](https://jmlr.csail.mit.edu/papers/volume12/pedregosa11a/pedregosa11a.pdf)\n",
    "\n",
    "Géron, Aurélien, 2019, Hands-On Machine Learning with Scikit-Learn, Keras, and TensorFlow.\n",
    "\n",
    "scikit-learn, 2021, User Guide. https://scikit-learn.org/stable/user_guide.html\n",
    "\n",
    "Julianna Delua, 2021, Supervised vs. Unsupervised Learning: What’s the Difference? https://www.ibm.com/cloud/blog/supervised-vs-unsupervised-learning\n",
    "\n",
    "\n",
    "Mirko Stojiljković, 2019, Linear Regression in Python. https://realpython.com/linear-regression-in-python/\n",
    "\n",
    "Andriy Burkov, 2019, The Hundred-Page Machine Learning Book.\n"
   ]
  },
  {
   "cell_type": "code",
   "execution_count": null,
   "metadata": {},
   "outputs": [],
   "source": []
  }
 ],
 "metadata": {
  "kernelspec": {
   "display_name": "Python 3",
   "language": "python",
   "name": "python3"
  },
  "language_info": {
   "codemirror_mode": {
    "name": "ipython",
    "version": 3
   },
   "file_extension": ".py",
   "mimetype": "text/x-python",
   "name": "python",
   "nbconvert_exporter": "python",
   "pygments_lexer": "ipython3",
   "version": "3.8.3"
  }
 },
 "nbformat": 4,
 "nbformat_minor": 4
}
