{
 "cells": [
  {
   "cell_type": "code",
   "execution_count": 1,
   "metadata": {},
   "outputs": [],
   "source": [
    "from sklearn import datasets"
   ]
  },
  {
   "cell_type": "code",
   "execution_count": 2,
   "metadata": {},
   "outputs": [],
   "source": [
    "iris = datasets.load_iris()"
   ]
  },
  {
   "cell_type": "code",
   "execution_count": 3,
   "metadata": {},
   "outputs": [
    {
     "name": "stdout",
     "output_type": "stream",
     "text": [
      "{'data': array([[5.1, 3.5, 1.4, 0.2],\n",
      "       [4.9, 3. , 1.4, 0.2],\n",
      "       [4.7, 3.2, 1.3, 0.2],\n",
      "       [4.6, 3.1, 1.5, 0.2],\n",
      "       [5. , 3.6, 1.4, 0.2],\n",
      "       [5.4, 3.9, 1.7, 0.4],\n",
      "       [4.6, 3.4, 1.4, 0.3],\n",
      "       [5. , 3.4, 1.5, 0.2],\n",
      "       [4.4, 2.9, 1.4, 0.2],\n",
      "       [4.9, 3.1, 1.5, 0.1],\n",
      "       [5.4, 3.7, 1.5, 0.2],\n",
      "       [4.8, 3.4, 1.6, 0.2],\n",
      "       [4.8, 3. , 1.4, 0.1],\n",
      "       [4.3, 3. , 1.1, 0.1],\n",
      "       [5.8, 4. , 1.2, 0.2],\n",
      "       [5.7, 4.4, 1.5, 0.4],\n",
      "       [5.4, 3.9, 1.3, 0.4],\n",
      "       [5.1, 3.5, 1.4, 0.3],\n",
      "       [5.7, 3.8, 1.7, 0.3],\n",
      "       [5.1, 3.8, 1.5, 0.3],\n",
      "       [5.4, 3.4, 1.7, 0.2],\n",
      "       [5.1, 3.7, 1.5, 0.4],\n",
      "       [4.6, 3.6, 1. , 0.2],\n",
      "       [5.1, 3.3, 1.7, 0.5],\n",
      "       [4.8, 3.4, 1.9, 0.2],\n",
      "       [5. , 3. , 1.6, 0.2],\n",
      "       [5. , 3.4, 1.6, 0.4],\n",
      "       [5.2, 3.5, 1.5, 0.2],\n",
      "       [5.2, 3.4, 1.4, 0.2],\n",
      "       [4.7, 3.2, 1.6, 0.2],\n",
      "       [4.8, 3.1, 1.6, 0.2],\n",
      "       [5.4, 3.4, 1.5, 0.4],\n",
      "       [5.2, 4.1, 1.5, 0.1],\n",
      "       [5.5, 4.2, 1.4, 0.2],\n",
      "       [4.9, 3.1, 1.5, 0.2],\n",
      "       [5. , 3.2, 1.2, 0.2],\n",
      "       [5.5, 3.5, 1.3, 0.2],\n",
      "       [4.9, 3.6, 1.4, 0.1],\n",
      "       [4.4, 3. , 1.3, 0.2],\n",
      "       [5.1, 3.4, 1.5, 0.2],\n",
      "       [5. , 3.5, 1.3, 0.3],\n",
      "       [4.5, 2.3, 1.3, 0.3],\n",
      "       [4.4, 3.2, 1.3, 0.2],\n",
      "       [5. , 3.5, 1.6, 0.6],\n",
      "       [5.1, 3.8, 1.9, 0.4],\n",
      "       [4.8, 3. , 1.4, 0.3],\n",
      "       [5.1, 3.8, 1.6, 0.2],\n",
      "       [4.6, 3.2, 1.4, 0.2],\n",
      "       [5.3, 3.7, 1.5, 0.2],\n",
      "       [5. , 3.3, 1.4, 0.2],\n",
      "       [7. , 3.2, 4.7, 1.4],\n",
      "       [6.4, 3.2, 4.5, 1.5],\n",
      "       [6.9, 3.1, 4.9, 1.5],\n",
      "       [5.5, 2.3, 4. , 1.3],\n",
      "       [6.5, 2.8, 4.6, 1.5],\n",
      "       [5.7, 2.8, 4.5, 1.3],\n",
      "       [6.3, 3.3, 4.7, 1.6],\n",
      "       [4.9, 2.4, 3.3, 1. ],\n",
      "       [6.6, 2.9, 4.6, 1.3],\n",
      "       [5.2, 2.7, 3.9, 1.4],\n",
      "       [5. , 2. , 3.5, 1. ],\n",
      "       [5.9, 3. , 4.2, 1.5],\n",
      "       [6. , 2.2, 4. , 1. ],\n",
      "       [6.1, 2.9, 4.7, 1.4],\n",
      "       [5.6, 2.9, 3.6, 1.3],\n",
      "       [6.7, 3.1, 4.4, 1.4],\n",
      "       [5.6, 3. , 4.5, 1.5],\n",
      "       [5.8, 2.7, 4.1, 1. ],\n",
      "       [6.2, 2.2, 4.5, 1.5],\n",
      "       [5.6, 2.5, 3.9, 1.1],\n",
      "       [5.9, 3.2, 4.8, 1.8],\n",
      "       [6.1, 2.8, 4. , 1.3],\n",
      "       [6.3, 2.5, 4.9, 1.5],\n",
      "       [6.1, 2.8, 4.7, 1.2],\n",
      "       [6.4, 2.9, 4.3, 1.3],\n",
      "       [6.6, 3. , 4.4, 1.4],\n",
      "       [6.8, 2.8, 4.8, 1.4],\n",
      "       [6.7, 3. , 5. , 1.7],\n",
      "       [6. , 2.9, 4.5, 1.5],\n",
      "       [5.7, 2.6, 3.5, 1. ],\n",
      "       [5.5, 2.4, 3.8, 1.1],\n",
      "       [5.5, 2.4, 3.7, 1. ],\n",
      "       [5.8, 2.7, 3.9, 1.2],\n",
      "       [6. , 2.7, 5.1, 1.6],\n",
      "       [5.4, 3. , 4.5, 1.5],\n",
      "       [6. , 3.4, 4.5, 1.6],\n",
      "       [6.7, 3.1, 4.7, 1.5],\n",
      "       [6.3, 2.3, 4.4, 1.3],\n",
      "       [5.6, 3. , 4.1, 1.3],\n",
      "       [5.5, 2.5, 4. , 1.3],\n",
      "       [5.5, 2.6, 4.4, 1.2],\n",
      "       [6.1, 3. , 4.6, 1.4],\n",
      "       [5.8, 2.6, 4. , 1.2],\n",
      "       [5. , 2.3, 3.3, 1. ],\n",
      "       [5.6, 2.7, 4.2, 1.3],\n",
      "       [5.7, 3. , 4.2, 1.2],\n",
      "       [5.7, 2.9, 4.2, 1.3],\n",
      "       [6.2, 2.9, 4.3, 1.3],\n",
      "       [5.1, 2.5, 3. , 1.1],\n",
      "       [5.7, 2.8, 4.1, 1.3],\n",
      "       [6.3, 3.3, 6. , 2.5],\n",
      "       [5.8, 2.7, 5.1, 1.9],\n",
      "       [7.1, 3. , 5.9, 2.1],\n",
      "       [6.3, 2.9, 5.6, 1.8],\n",
      "       [6.5, 3. , 5.8, 2.2],\n",
      "       [7.6, 3. , 6.6, 2.1],\n",
      "       [4.9, 2.5, 4.5, 1.7],\n",
      "       [7.3, 2.9, 6.3, 1.8],\n",
      "       [6.7, 2.5, 5.8, 1.8],\n",
      "       [7.2, 3.6, 6.1, 2.5],\n",
      "       [6.5, 3.2, 5.1, 2. ],\n",
      "       [6.4, 2.7, 5.3, 1.9],\n",
      "       [6.8, 3. , 5.5, 2.1],\n",
      "       [5.7, 2.5, 5. , 2. ],\n",
      "       [5.8, 2.8, 5.1, 2.4],\n",
      "       [6.4, 3.2, 5.3, 2.3],\n",
      "       [6.5, 3. , 5.5, 1.8],\n",
      "       [7.7, 3.8, 6.7, 2.2],\n",
      "       [7.7, 2.6, 6.9, 2.3],\n",
      "       [6. , 2.2, 5. , 1.5],\n",
      "       [6.9, 3.2, 5.7, 2.3],\n",
      "       [5.6, 2.8, 4.9, 2. ],\n",
      "       [7.7, 2.8, 6.7, 2. ],\n",
      "       [6.3, 2.7, 4.9, 1.8],\n",
      "       [6.7, 3.3, 5.7, 2.1],\n",
      "       [7.2, 3.2, 6. , 1.8],\n",
      "       [6.2, 2.8, 4.8, 1.8],\n",
      "       [6.1, 3. , 4.9, 1.8],\n",
      "       [6.4, 2.8, 5.6, 2.1],\n",
      "       [7.2, 3. , 5.8, 1.6],\n",
      "       [7.4, 2.8, 6.1, 1.9],\n",
      "       [7.9, 3.8, 6.4, 2. ],\n",
      "       [6.4, 2.8, 5.6, 2.2],\n",
      "       [6.3, 2.8, 5.1, 1.5],\n",
      "       [6.1, 2.6, 5.6, 1.4],\n",
      "       [7.7, 3. , 6.1, 2.3],\n",
      "       [6.3, 3.4, 5.6, 2.4],\n",
      "       [6.4, 3.1, 5.5, 1.8],\n",
      "       [6. , 3. , 4.8, 1.8],\n",
      "       [6.9, 3.1, 5.4, 2.1],\n",
      "       [6.7, 3.1, 5.6, 2.4],\n",
      "       [6.9, 3.1, 5.1, 2.3],\n",
      "       [5.8, 2.7, 5.1, 1.9],\n",
      "       [6.8, 3.2, 5.9, 2.3],\n",
      "       [6.7, 3.3, 5.7, 2.5],\n",
      "       [6.7, 3. , 5.2, 2.3],\n",
      "       [6.3, 2.5, 5. , 1.9],\n",
      "       [6.5, 3. , 5.2, 2. ],\n",
      "       [6.2, 3.4, 5.4, 2.3],\n",
      "       [5.9, 3. , 5.1, 1.8]]), 'target': array([0, 0, 0, 0, 0, 0, 0, 0, 0, 0, 0, 0, 0, 0, 0, 0, 0, 0, 0, 0, 0, 0,\n",
      "       0, 0, 0, 0, 0, 0, 0, 0, 0, 0, 0, 0, 0, 0, 0, 0, 0, 0, 0, 0, 0, 0,\n",
      "       0, 0, 0, 0, 0, 0, 1, 1, 1, 1, 1, 1, 1, 1, 1, 1, 1, 1, 1, 1, 1, 1,\n",
      "       1, 1, 1, 1, 1, 1, 1, 1, 1, 1, 1, 1, 1, 1, 1, 1, 1, 1, 1, 1, 1, 1,\n",
      "       1, 1, 1, 1, 1, 1, 1, 1, 1, 1, 1, 1, 2, 2, 2, 2, 2, 2, 2, 2, 2, 2,\n",
      "       2, 2, 2, 2, 2, 2, 2, 2, 2, 2, 2, 2, 2, 2, 2, 2, 2, 2, 2, 2, 2, 2,\n",
      "       2, 2, 2, 2, 2, 2, 2, 2, 2, 2, 2, 2, 2, 2, 2, 2, 2, 2]), 'frame': None, 'target_names': array(['setosa', 'versicolor', 'virginica'], dtype='<U10'), 'DESCR': '.. _iris_dataset:\\n\\nIris plants dataset\\n--------------------\\n\\n**Data Set Characteristics:**\\n\\n    :Number of Instances: 150 (50 in each of three classes)\\n    :Number of Attributes: 4 numeric, predictive attributes and the class\\n    :Attribute Information:\\n        - sepal length in cm\\n        - sepal width in cm\\n        - petal length in cm\\n        - petal width in cm\\n        - class:\\n                - Iris-Setosa\\n                - Iris-Versicolour\\n                - Iris-Virginica\\n                \\n    :Summary Statistics:\\n\\n    ============== ==== ==== ======= ===== ====================\\n                    Min  Max   Mean    SD   Class Correlation\\n    ============== ==== ==== ======= ===== ====================\\n    sepal length:   4.3  7.9   5.84   0.83    0.7826\\n    sepal width:    2.0  4.4   3.05   0.43   -0.4194\\n    petal length:   1.0  6.9   3.76   1.76    0.9490  (high!)\\n    petal width:    0.1  2.5   1.20   0.76    0.9565  (high!)\\n    ============== ==== ==== ======= ===== ====================\\n\\n    :Missing Attribute Values: None\\n    :Class Distribution: 33.3% for each of 3 classes.\\n    :Creator: R.A. Fisher\\n    :Donor: Michael Marshall (MARSHALL%PLU@io.arc.nasa.gov)\\n    :Date: July, 1988\\n\\nThe famous Iris database, first used by Sir R.A. Fisher. The dataset is taken\\nfrom Fisher\\'s paper. Note that it\\'s the same as in R, but not as in the UCI\\nMachine Learning Repository, which has two wrong data points.\\n\\nThis is perhaps the best known database to be found in the\\npattern recognition literature.  Fisher\\'s paper is a classic in the field and\\nis referenced frequently to this day.  (See Duda & Hart, for example.)  The\\ndata set contains 3 classes of 50 instances each, where each class refers to a\\ntype of iris plant.  One class is linearly separable from the other 2; the\\nlatter are NOT linearly separable from each other.\\n\\n.. topic:: References\\n\\n   - Fisher, R.A. \"The use of multiple measurements in taxonomic problems\"\\n     Annual Eugenics, 7, Part II, 179-188 (1936); also in \"Contributions to\\n     Mathematical Statistics\" (John Wiley, NY, 1950).\\n   - Duda, R.O., & Hart, P.E. (1973) Pattern Classification and Scene Analysis.\\n     (Q327.D83) John Wiley & Sons.  ISBN 0-471-22361-1.  See page 218.\\n   - Dasarathy, B.V. (1980) \"Nosing Around the Neighborhood: A New System\\n     Structure and Classification Rule for Recognition in Partially Exposed\\n     Environments\".  IEEE Transactions on Pattern Analysis and Machine\\n     Intelligence, Vol. PAMI-2, No. 1, 67-71.\\n   - Gates, G.W. (1972) \"The Reduced Nearest Neighbor Rule\".  IEEE Transactions\\n     on Information Theory, May 1972, 431-433.\\n   - See also: 1988 MLC Proceedings, 54-64.  Cheeseman et al\"s AUTOCLASS II\\n     conceptual clustering system finds 3 classes in the data.\\n   - Many, many more ...', 'feature_names': ['sepal length (cm)', 'sepal width (cm)', 'petal length (cm)', 'petal width (cm)'], 'filename': 'C:\\\\Users\\\\hogan\\\\anaconda3\\\\lib\\\\site-packages\\\\sklearn\\\\datasets\\\\data\\\\iris.csv'}\n"
     ]
    }
   ],
   "source": [
    "print(iris)"
   ]
  },
  {
   "cell_type": "code",
   "execution_count": 4,
   "metadata": {},
   "outputs": [],
   "source": [
    "digits = datasets.load_digits()"
   ]
  },
  {
   "cell_type": "code",
   "execution_count": 5,
   "metadata": {},
   "outputs": [
    {
     "name": "stdout",
     "output_type": "stream",
     "text": [
      "[[ 0.  0.  5. ...  0.  0.  0.]\n",
      " [ 0.  0.  0. ... 10.  0.  0.]\n",
      " [ 0.  0.  0. ... 16.  9.  0.]\n",
      " ...\n",
      " [ 0.  0.  1. ...  6.  0.  0.]\n",
      " [ 0.  0.  2. ... 12.  0.  0.]\n",
      " [ 0.  0. 10. ... 12.  1.  0.]]\n"
     ]
    }
   ],
   "source": [
    "print(digits.data)"
   ]
  },
  {
   "cell_type": "code",
   "execution_count": 6,
   "metadata": {},
   "outputs": [
    {
     "data": {
      "text/plain": [
       "array([0, 1, 2, ..., 8, 9, 8])"
      ]
     },
     "execution_count": 6,
     "metadata": {},
     "output_type": "execute_result"
    }
   ],
   "source": [
    "digits.target"
   ]
  },
  {
   "cell_type": "code",
   "execution_count": 7,
   "metadata": {},
   "outputs": [],
   "source": [
    "import numpy as np"
   ]
  },
  {
   "cell_type": "code",
   "execution_count": 8,
   "metadata": {},
   "outputs": [
    {
     "data": {
      "text/plain": [
       "array([[1., 0., 0.],\n",
       "       [0., 1., 0.],\n",
       "       [0., 0., 1.]])"
      ]
     },
     "execution_count": 8,
     "metadata": {},
     "output_type": "execute_result"
    }
   ],
   "source": [
    "np.eye(3)"
   ]
  },
  {
   "cell_type": "code",
   "execution_count": 9,
   "metadata": {},
   "outputs": [
    {
     "data": {
      "text/plain": [
       "array([[1, 0, 0, 0, 0, 0, 0, 0, 0],\n",
       "       [0, 1, 0, 0, 0, 0, 0, 0, 0],\n",
       "       [0, 0, 1, 0, 0, 0, 0, 0, 0],\n",
       "       [0, 0, 0, 1, 0, 0, 0, 0, 0],\n",
       "       [0, 0, 0, 0, 1, 0, 0, 0, 0],\n",
       "       [0, 0, 0, 0, 0, 1, 0, 0, 0],\n",
       "       [0, 0, 0, 0, 0, 0, 1, 0, 0],\n",
       "       [0, 0, 0, 0, 0, 0, 0, 1, 0],\n",
       "       [0, 0, 0, 0, 0, 0, 0, 0, 1]])"
      ]
     },
     "execution_count": 9,
     "metadata": {},
     "output_type": "execute_result"
    }
   ],
   "source": [
    "np.eye(9).astype(\"int\")"
   ]
  },
  {
   "cell_type": "code",
   "execution_count": 10,
   "metadata": {},
   "outputs": [
    {
     "data": {
      "text/plain": [
       "array([0, 1, 2, ..., 8, 9, 8])"
      ]
     },
     "execution_count": 10,
     "metadata": {},
     "output_type": "execute_result"
    }
   ],
   "source": [
    "digits.target"
   ]
  },
  {
   "cell_type": "code",
   "execution_count": 11,
   "metadata": {},
   "outputs": [],
   "source": [
    "import numpy as np\n",
    ">>> from sklearn.datasets import load_iris\n",
    ">>> from sklearn.svm import SVC\n",
    ">>> X, y = load_iris(return_X_y=True)"
   ]
  },
  {
   "cell_type": "code",
   "execution_count": 12,
   "metadata": {},
   "outputs": [
    {
     "data": {
      "text/plain": [
       "array([[5.1, 3.5, 1.4, 0.2],\n",
       "       [4.9, 3. , 1.4, 0.2],\n",
       "       [4.7, 3.2, 1.3, 0.2],\n",
       "       [4.6, 3.1, 1.5, 0.2],\n",
       "       [5. , 3.6, 1.4, 0.2],\n",
       "       [5.4, 3.9, 1.7, 0.4],\n",
       "       [4.6, 3.4, 1.4, 0.3],\n",
       "       [5. , 3.4, 1.5, 0.2],\n",
       "       [4.4, 2.9, 1.4, 0.2],\n",
       "       [4.9, 3.1, 1.5, 0.1],\n",
       "       [5.4, 3.7, 1.5, 0.2],\n",
       "       [4.8, 3.4, 1.6, 0.2],\n",
       "       [4.8, 3. , 1.4, 0.1],\n",
       "       [4.3, 3. , 1.1, 0.1],\n",
       "       [5.8, 4. , 1.2, 0.2],\n",
       "       [5.7, 4.4, 1.5, 0.4],\n",
       "       [5.4, 3.9, 1.3, 0.4],\n",
       "       [5.1, 3.5, 1.4, 0.3],\n",
       "       [5.7, 3.8, 1.7, 0.3],\n",
       "       [5.1, 3.8, 1.5, 0.3],\n",
       "       [5.4, 3.4, 1.7, 0.2],\n",
       "       [5.1, 3.7, 1.5, 0.4],\n",
       "       [4.6, 3.6, 1. , 0.2],\n",
       "       [5.1, 3.3, 1.7, 0.5],\n",
       "       [4.8, 3.4, 1.9, 0.2],\n",
       "       [5. , 3. , 1.6, 0.2],\n",
       "       [5. , 3.4, 1.6, 0.4],\n",
       "       [5.2, 3.5, 1.5, 0.2],\n",
       "       [5.2, 3.4, 1.4, 0.2],\n",
       "       [4.7, 3.2, 1.6, 0.2],\n",
       "       [4.8, 3.1, 1.6, 0.2],\n",
       "       [5.4, 3.4, 1.5, 0.4],\n",
       "       [5.2, 4.1, 1.5, 0.1],\n",
       "       [5.5, 4.2, 1.4, 0.2],\n",
       "       [4.9, 3.1, 1.5, 0.2],\n",
       "       [5. , 3.2, 1.2, 0.2],\n",
       "       [5.5, 3.5, 1.3, 0.2],\n",
       "       [4.9, 3.6, 1.4, 0.1],\n",
       "       [4.4, 3. , 1.3, 0.2],\n",
       "       [5.1, 3.4, 1.5, 0.2],\n",
       "       [5. , 3.5, 1.3, 0.3],\n",
       "       [4.5, 2.3, 1.3, 0.3],\n",
       "       [4.4, 3.2, 1.3, 0.2],\n",
       "       [5. , 3.5, 1.6, 0.6],\n",
       "       [5.1, 3.8, 1.9, 0.4],\n",
       "       [4.8, 3. , 1.4, 0.3],\n",
       "       [5.1, 3.8, 1.6, 0.2],\n",
       "       [4.6, 3.2, 1.4, 0.2],\n",
       "       [5.3, 3.7, 1.5, 0.2],\n",
       "       [5. , 3.3, 1.4, 0.2],\n",
       "       [7. , 3.2, 4.7, 1.4],\n",
       "       [6.4, 3.2, 4.5, 1.5],\n",
       "       [6.9, 3.1, 4.9, 1.5],\n",
       "       [5.5, 2.3, 4. , 1.3],\n",
       "       [6.5, 2.8, 4.6, 1.5],\n",
       "       [5.7, 2.8, 4.5, 1.3],\n",
       "       [6.3, 3.3, 4.7, 1.6],\n",
       "       [4.9, 2.4, 3.3, 1. ],\n",
       "       [6.6, 2.9, 4.6, 1.3],\n",
       "       [5.2, 2.7, 3.9, 1.4],\n",
       "       [5. , 2. , 3.5, 1. ],\n",
       "       [5.9, 3. , 4.2, 1.5],\n",
       "       [6. , 2.2, 4. , 1. ],\n",
       "       [6.1, 2.9, 4.7, 1.4],\n",
       "       [5.6, 2.9, 3.6, 1.3],\n",
       "       [6.7, 3.1, 4.4, 1.4],\n",
       "       [5.6, 3. , 4.5, 1.5],\n",
       "       [5.8, 2.7, 4.1, 1. ],\n",
       "       [6.2, 2.2, 4.5, 1.5],\n",
       "       [5.6, 2.5, 3.9, 1.1],\n",
       "       [5.9, 3.2, 4.8, 1.8],\n",
       "       [6.1, 2.8, 4. , 1.3],\n",
       "       [6.3, 2.5, 4.9, 1.5],\n",
       "       [6.1, 2.8, 4.7, 1.2],\n",
       "       [6.4, 2.9, 4.3, 1.3],\n",
       "       [6.6, 3. , 4.4, 1.4],\n",
       "       [6.8, 2.8, 4.8, 1.4],\n",
       "       [6.7, 3. , 5. , 1.7],\n",
       "       [6. , 2.9, 4.5, 1.5],\n",
       "       [5.7, 2.6, 3.5, 1. ],\n",
       "       [5.5, 2.4, 3.8, 1.1],\n",
       "       [5.5, 2.4, 3.7, 1. ],\n",
       "       [5.8, 2.7, 3.9, 1.2],\n",
       "       [6. , 2.7, 5.1, 1.6],\n",
       "       [5.4, 3. , 4.5, 1.5],\n",
       "       [6. , 3.4, 4.5, 1.6],\n",
       "       [6.7, 3.1, 4.7, 1.5],\n",
       "       [6.3, 2.3, 4.4, 1.3],\n",
       "       [5.6, 3. , 4.1, 1.3],\n",
       "       [5.5, 2.5, 4. , 1.3],\n",
       "       [5.5, 2.6, 4.4, 1.2],\n",
       "       [6.1, 3. , 4.6, 1.4],\n",
       "       [5.8, 2.6, 4. , 1.2],\n",
       "       [5. , 2.3, 3.3, 1. ],\n",
       "       [5.6, 2.7, 4.2, 1.3],\n",
       "       [5.7, 3. , 4.2, 1.2],\n",
       "       [5.7, 2.9, 4.2, 1.3],\n",
       "       [6.2, 2.9, 4.3, 1.3],\n",
       "       [5.1, 2.5, 3. , 1.1],\n",
       "       [5.7, 2.8, 4.1, 1.3],\n",
       "       [6.3, 3.3, 6. , 2.5],\n",
       "       [5.8, 2.7, 5.1, 1.9],\n",
       "       [7.1, 3. , 5.9, 2.1],\n",
       "       [6.3, 2.9, 5.6, 1.8],\n",
       "       [6.5, 3. , 5.8, 2.2],\n",
       "       [7.6, 3. , 6.6, 2.1],\n",
       "       [4.9, 2.5, 4.5, 1.7],\n",
       "       [7.3, 2.9, 6.3, 1.8],\n",
       "       [6.7, 2.5, 5.8, 1.8],\n",
       "       [7.2, 3.6, 6.1, 2.5],\n",
       "       [6.5, 3.2, 5.1, 2. ],\n",
       "       [6.4, 2.7, 5.3, 1.9],\n",
       "       [6.8, 3. , 5.5, 2.1],\n",
       "       [5.7, 2.5, 5. , 2. ],\n",
       "       [5.8, 2.8, 5.1, 2.4],\n",
       "       [6.4, 3.2, 5.3, 2.3],\n",
       "       [6.5, 3. , 5.5, 1.8],\n",
       "       [7.7, 3.8, 6.7, 2.2],\n",
       "       [7.7, 2.6, 6.9, 2.3],\n",
       "       [6. , 2.2, 5. , 1.5],\n",
       "       [6.9, 3.2, 5.7, 2.3],\n",
       "       [5.6, 2.8, 4.9, 2. ],\n",
       "       [7.7, 2.8, 6.7, 2. ],\n",
       "       [6.3, 2.7, 4.9, 1.8],\n",
       "       [6.7, 3.3, 5.7, 2.1],\n",
       "       [7.2, 3.2, 6. , 1.8],\n",
       "       [6.2, 2.8, 4.8, 1.8],\n",
       "       [6.1, 3. , 4.9, 1.8],\n",
       "       [6.4, 2.8, 5.6, 2.1],\n",
       "       [7.2, 3. , 5.8, 1.6],\n",
       "       [7.4, 2.8, 6.1, 1.9],\n",
       "       [7.9, 3.8, 6.4, 2. ],\n",
       "       [6.4, 2.8, 5.6, 2.2],\n",
       "       [6.3, 2.8, 5.1, 1.5],\n",
       "       [6.1, 2.6, 5.6, 1.4],\n",
       "       [7.7, 3. , 6.1, 2.3],\n",
       "       [6.3, 3.4, 5.6, 2.4],\n",
       "       [6.4, 3.1, 5.5, 1.8],\n",
       "       [6. , 3. , 4.8, 1.8],\n",
       "       [6.9, 3.1, 5.4, 2.1],\n",
       "       [6.7, 3.1, 5.6, 2.4],\n",
       "       [6.9, 3.1, 5.1, 2.3],\n",
       "       [5.8, 2.7, 5.1, 1.9],\n",
       "       [6.8, 3.2, 5.9, 2.3],\n",
       "       [6.7, 3.3, 5.7, 2.5],\n",
       "       [6.7, 3. , 5.2, 2.3],\n",
       "       [6.3, 2.5, 5. , 1.9],\n",
       "       [6.5, 3. , 5.2, 2. ],\n",
       "       [6.2, 3.4, 5.4, 2.3],\n",
       "       [5.9, 3. , 5.1, 1.8]])"
      ]
     },
     "execution_count": 12,
     "metadata": {},
     "output_type": "execute_result"
    }
   ],
   "source": [
    "X"
   ]
  },
  {
   "cell_type": "code",
   "execution_count": 13,
   "metadata": {},
   "outputs": [
    {
     "data": {
      "text/plain": [
       "array([0, 0, 0, 0, 0, 0, 0, 0, 0, 0, 0, 0, 0, 0, 0, 0, 0, 0, 0, 0, 0, 0,\n",
       "       0, 0, 0, 0, 0, 0, 0, 0, 0, 0, 0, 0, 0, 0, 0, 0, 0, 0, 0, 0, 0, 0,\n",
       "       0, 0, 0, 0, 0, 0, 1, 1, 1, 1, 1, 1, 1, 1, 1, 1, 1, 1, 1, 1, 1, 1,\n",
       "       1, 1, 1, 1, 1, 1, 1, 1, 1, 1, 1, 1, 1, 1, 1, 1, 1, 1, 1, 1, 1, 1,\n",
       "       1, 1, 1, 1, 1, 1, 1, 1, 1, 1, 1, 1, 2, 2, 2, 2, 2, 2, 2, 2, 2, 2,\n",
       "       2, 2, 2, 2, 2, 2, 2, 2, 2, 2, 2, 2, 2, 2, 2, 2, 2, 2, 2, 2, 2, 2,\n",
       "       2, 2, 2, 2, 2, 2, 2, 2, 2, 2, 2, 2, 2, 2, 2, 2, 2, 2])"
      ]
     },
     "execution_count": 13,
     "metadata": {},
     "output_type": "execute_result"
    }
   ],
   "source": [
    "y"
   ]
  },
  {
   "cell_type": "code",
   "execution_count": null,
   "metadata": {},
   "outputs": [],
   "source": []
  },
  {
   "cell_type": "markdown",
   "metadata": {},
   "source": [
    "### Algorithms\n",
    "* Linear Regression\n",
    "* K-Nearest Neighbours\n",
    "* SVM"
   ]
  },
  {
   "cell_type": "markdown",
   "metadata": {},
   "source": [
    "#### Linear Regression"
   ]
  },
  {
   "cell_type": "code",
   "execution_count": 14,
   "metadata": {},
   "outputs": [],
   "source": [
    "from sklearn import linear_model"
   ]
  },
  {
   "cell_type": "code",
   "execution_count": 15,
   "metadata": {},
   "outputs": [],
   "source": [
    "import numpy as np\n",
    "import pandas as pd"
   ]
  },
  {
   "cell_type": "code",
   "execution_count": 16,
   "metadata": {},
   "outputs": [],
   "source": [
    "import matplotlib.pyplot as plt"
   ]
  },
  {
   "cell_type": "code",
   "execution_count": 17,
   "metadata": {},
   "outputs": [],
   "source": [
    "data, target = datasets.load_diabetes(return_X_y=True)"
   ]
  },
  {
   "cell_type": "code",
   "execution_count": 18,
   "metadata": {},
   "outputs": [
    {
     "data": {
      "text/plain": [
       "array([ 0.03807591,  0.05068012,  0.06169621,  0.02187235, -0.0442235 ,\n",
       "       -0.03482076, -0.04340085, -0.00259226,  0.01990842, -0.01764613])"
      ]
     },
     "execution_count": 18,
     "metadata": {},
     "output_type": "execute_result"
    }
   ],
   "source": [
    "data[0]"
   ]
  },
  {
   "cell_type": "code",
   "execution_count": 19,
   "metadata": {},
   "outputs": [
    {
     "data": {
      "text/plain": [
       "array([151.,  75., 141., 206., 135.,  97., 138.,  63., 110., 310., 101.,\n",
       "        69., 179., 185., 118., 171., 166., 144.,  97., 168.,  68.,  49.,\n",
       "        68., 245., 184., 202., 137.,  85., 131., 283., 129.,  59., 341.,\n",
       "        87.,  65., 102., 265., 276., 252.,  90., 100.,  55.,  61.,  92.,\n",
       "       259.,  53., 190., 142.,  75., 142., 155., 225.,  59., 104., 182.,\n",
       "       128.,  52.,  37., 170., 170.,  61., 144.,  52., 128.,  71., 163.,\n",
       "       150.,  97., 160., 178.,  48., 270., 202., 111.,  85.,  42., 170.,\n",
       "       200., 252., 113., 143.,  51.,  52., 210.,  65., 141.,  55., 134.,\n",
       "        42., 111.,  98., 164.,  48.,  96.,  90., 162., 150., 279.,  92.,\n",
       "        83., 128., 102., 302., 198.,  95.,  53., 134., 144., 232.,  81.,\n",
       "       104.,  59., 246., 297., 258., 229., 275., 281., 179., 200., 200.,\n",
       "       173., 180.,  84., 121., 161.,  99., 109., 115., 268., 274., 158.,\n",
       "       107.,  83., 103., 272.,  85., 280., 336., 281., 118., 317., 235.,\n",
       "        60., 174., 259., 178., 128.,  96., 126., 288.,  88., 292.,  71.,\n",
       "       197., 186.,  25.,  84.,  96., 195.,  53., 217., 172., 131., 214.,\n",
       "        59.,  70., 220., 268., 152.,  47.,  74., 295., 101., 151., 127.,\n",
       "       237., 225.,  81., 151., 107.,  64., 138., 185., 265., 101., 137.,\n",
       "       143., 141.,  79., 292., 178.,  91., 116.,  86., 122.,  72., 129.,\n",
       "       142.,  90., 158.,  39., 196., 222., 277.,  99., 196., 202., 155.,\n",
       "        77., 191.,  70.,  73.,  49.,  65., 263., 248., 296., 214., 185.,\n",
       "        78.,  93., 252., 150.,  77., 208.,  77., 108., 160.,  53., 220.,\n",
       "       154., 259.,  90., 246., 124.,  67.,  72., 257., 262., 275., 177.,\n",
       "        71.,  47., 187., 125.,  78.,  51., 258., 215., 303., 243.,  91.,\n",
       "       150., 310., 153., 346.,  63.,  89.,  50.,  39., 103., 308., 116.,\n",
       "       145.,  74.,  45., 115., 264.,  87., 202., 127., 182., 241.,  66.,\n",
       "        94., 283.,  64., 102., 200., 265.,  94., 230., 181., 156., 233.,\n",
       "        60., 219.,  80.,  68., 332., 248.,  84., 200.,  55.,  85.,  89.,\n",
       "        31., 129.,  83., 275.,  65., 198., 236., 253., 124.,  44., 172.,\n",
       "       114., 142., 109., 180., 144., 163., 147.,  97., 220., 190., 109.,\n",
       "       191., 122., 230., 242., 248., 249., 192., 131., 237.,  78., 135.,\n",
       "       244., 199., 270., 164.,  72.,  96., 306.,  91., 214.,  95., 216.,\n",
       "       263., 178., 113., 200., 139., 139.,  88., 148.,  88., 243.,  71.,\n",
       "        77., 109., 272.,  60.,  54., 221.,  90., 311., 281., 182., 321.,\n",
       "        58., 262., 206., 233., 242., 123., 167.,  63., 197.,  71., 168.,\n",
       "       140., 217., 121., 235., 245.,  40.,  52., 104., 132.,  88.,  69.,\n",
       "       219.,  72., 201., 110.,  51., 277.,  63., 118.,  69., 273., 258.,\n",
       "        43., 198., 242., 232., 175.,  93., 168., 275., 293., 281.,  72.,\n",
       "       140., 189., 181., 209., 136., 261., 113., 131., 174., 257.,  55.,\n",
       "        84.,  42., 146., 212., 233.,  91., 111., 152., 120.,  67., 310.,\n",
       "        94., 183.,  66., 173.,  72.,  49.,  64.,  48., 178., 104., 132.,\n",
       "       220.,  57.])"
      ]
     },
     "execution_count": 19,
     "metadata": {},
     "output_type": "execute_result"
    }
   ],
   "source": [
    "target"
   ]
  },
  {
   "cell_type": "code",
   "execution_count": 35,
   "metadata": {},
   "outputs": [
    {
     "data": {
      "text/plain": [
       "['age', 'sex', 'bmi', 'bp', 's1', 's2', 's3', 's4', 's5', 's6']"
      ]
     },
     "execution_count": 35,
     "metadata": {},
     "output_type": "execute_result"
    }
   ],
   "source": [
    "data = datasets.load_diabetes()\n",
    "\n",
    "data.feature_names"
   ]
  },
  {
   "cell_type": "code",
   "execution_count": 21,
   "metadata": {},
   "outputs": [],
   "source": [
    "test = data.data[:, None, 0]"
   ]
  },
  {
   "cell_type": "code",
   "execution_count": 33,
   "metadata": {},
   "outputs": [
    {
     "data": {
      "text/plain": [
       "(442, 10)"
      ]
     },
     "execution_count": 33,
     "metadata": {},
     "output_type": "execute_result"
    }
   ],
   "source": [
    "data.shape"
   ]
  },
  {
   "cell_type": "code",
   "execution_count": null,
   "metadata": {},
   "outputs": [],
   "source": []
  },
  {
   "cell_type": "code",
   "execution_count": 39,
   "metadata": {
    "collapsed": true
   },
   "outputs": [
    {
     "data": {
      "text/plain": [
       "array([141.20660077,  95.03863247, 136.07682651, 146.33637502,\n",
       "       123.25239088,  92.47374535, 128.38216513, 154.0310364 ,\n",
       "       159.16081066, 143.77148789, 130.94705226, 115.55772949,\n",
       "       125.817278  , 143.77148789, 105.29818098, 125.817278  ,\n",
       "       169.42035917, 151.46614928, 141.20660077, 118.12261662,\n",
       "       161.72569779, 141.20660077, 143.77148789, 236.10742448,\n",
       "       118.12261662, 130.94705226, 148.90126215, 177.11502055,\n",
       "       118.12261662, 184.80968193, 146.33637502, 125.817278  ,\n",
       "       169.42035917, 154.0310364 , 110.42795524, 164.29058491,\n",
       "       136.07682651, 148.90126215, 166.85547204, 154.0310364 ,\n",
       "       210.45855321, 146.33637502, 130.94705226, 197.63411757,\n",
       "       141.20660077, 120.68750375,  97.6035196 , 100.16840673,\n",
       "       138.64171364, 143.77148789, 156.59592353, 138.64171364,\n",
       "       143.77148789, 182.24479481, 156.59592353, 156.59592353,\n",
       "       141.20660077, 110.42795524, 120.68750375, 164.29058491,\n",
       "       130.94705226, 164.29058491, 136.07682651, 107.86306811,\n",
       "       159.16081066, 161.72569779, 164.29058491, 154.0310364 ,\n",
       "       154.0310364 , 164.29058491, 177.11502055, 189.93945619,\n",
       "       141.20660077, 146.33637502, 197.63411757, 169.42035917,\n",
       "       161.72569779, 151.46614928, 100.16840673, 136.07682651,\n",
       "       148.90126215, 151.46614928, 102.73329386, 125.817278  ,\n",
       "        71.95464833, 107.86306811, 130.94705226, 128.38216513,\n",
       "       195.06923044, 164.29058491, 159.16081066, 164.29058491,\n",
       "       159.16081066, 118.12261662,  95.03863247, 148.90126215,\n",
       "       171.9852463 , 200.1990047 , 110.42795524, 118.12261662,\n",
       "       151.46614928, 174.55013342, 151.46614928, 133.51193939,\n",
       "       112.99284237, 164.29058491, 100.16840673, 148.90126215,\n",
       "       177.11502055, 218.15321459, 161.72569779, 123.25239088,\n",
       "       154.0310364 , 207.89366608, 166.85547204, 154.0310364 ,\n",
       "       169.42035917, 236.10742448, 187.37456906, 169.42035917,\n",
       "       138.64171364, 159.16081066, 182.24479481, 197.63411757,\n",
       "       143.77148789, 156.59592353, 118.12261662,  92.47374535,\n",
       "       107.86306811, 225.84787597, 197.63411757, 102.73329386,\n",
       "       166.85547204, 133.51193939, 123.25239088, 187.37456906,\n",
       "       138.64171364, 143.77148789, 197.63411757, 148.90126215,\n",
       "       161.72569779, 233.54253735, 151.46614928, 125.817278  ,\n",
       "       156.59592353, 120.68750375, 156.59592353, 177.11502055,\n",
       "       151.46614928, 128.38216513, 146.33637502, 143.77148789,\n",
       "       197.63411757, 159.16081066, 154.0310364 , 182.24479481,\n",
       "       130.94705226, 169.42035917, 120.68750375, 141.20660077,\n",
       "       123.25239088, 205.32877895, 151.46614928, 189.93945619,\n",
       "       143.77148789, 143.77148789,  87.34397109, 218.15321459,\n",
       "       230.97765023, 164.29058491, 141.20660077, 123.25239088,\n",
       "       205.32877895, 118.12261662, 156.59592353, 154.0310364 ,\n",
       "       164.29058491, 171.9852463 , 133.51193939, 146.33637502,\n",
       "       151.46614928, 112.99284237, 146.33637502, 187.37456906,\n",
       "       171.9852463 , 141.20660077, 128.38216513,  87.34397109,\n",
       "       146.33637502, 136.07682651, 148.90126215, 146.33637502,\n",
       "       115.55772949, 164.29058491, 166.85547204, 166.85547204,\n",
       "       159.16081066, 174.55013342, 115.55772949, 156.59592353,\n",
       "       179.67990768, 169.42035917, 133.51193939, 169.42035917,\n",
       "       200.1990047 , 136.07682651, 154.0310364 , 174.55013342,\n",
       "       225.84787597, 143.77148789, 115.55772949, 138.64171364,\n",
       "       164.29058491, 156.59592353, 118.12261662, 218.15321459,\n",
       "       182.24479481, 179.67990768, 143.77148789, 133.51193939,\n",
       "       110.42795524, 128.38216513, 164.29058491, 120.68750375,\n",
       "       146.33637502, 154.0310364 , 118.12261662, 156.59592353,\n",
       "       120.68750375, 159.16081066, 195.06923044, 159.16081066,\n",
       "       171.9852463 , 128.38216513, 187.37456906, 182.24479481,\n",
       "       159.16081066, 151.46614928, 138.64171364, 182.24479481,\n",
       "       164.29058491, 187.37456906, 107.86306811, 125.817278  ,\n",
       "       148.90126215,  71.95464833, 115.55772949,  95.03863247,\n",
       "       177.11502055, 156.59592353, 174.55013342, 177.11502055,\n",
       "       133.51193939, 195.06923044, 207.89366608, 156.59592353,\n",
       "       159.16081066, 120.68750375, 187.37456906, 156.59592353,\n",
       "       141.20660077, 161.72569779, 154.0310364 , 141.20660077,\n",
       "       138.64171364, 177.11502055, 154.0310364 , 169.42035917,\n",
       "       197.63411757, 128.38216513, 161.72569779, 156.59592353,\n",
       "        95.03863247, 174.55013342, 161.72569779, 195.06923044,\n",
       "       138.64171364, 161.72569779, 171.9852463 , 136.07682651,\n",
       "       141.20660077, 154.0310364 , 169.42035917, 133.51193939,\n",
       "       118.12261662, 138.64171364, 148.90126215, 148.90126215,\n",
       "       141.20660077, 130.94705226, 179.67990768, 115.55772949,\n",
       "       128.38216513, 151.46614928, 130.94705226, 154.0310364 ,\n",
       "       115.55772949, 118.12261662, 143.77148789, 151.46614928,\n",
       "       179.67990768, 174.55013342, 169.42035917, 138.64171364,\n",
       "       143.77148789, 110.42795524, 143.77148789, 202.76389182,\n",
       "       102.73329386, 202.76389182, 171.9852463 , 166.85547204,\n",
       "       133.51193939, 151.46614928, 128.38216513, 151.46614928,\n",
       "       177.11502055, 195.06923044, 171.9852463 , 189.93945619,\n",
       "       154.0310364 , 189.93945619, 202.76389182, 187.37456906,\n",
       "       164.29058491, 182.24479481, 169.42035917, 148.90126215,\n",
       "       164.29058491, 179.67990768, 161.72569779, 148.90126215,\n",
       "       174.55013342, 171.9852463 , 118.12261662, 115.55772949,\n",
       "       184.80968193, 154.0310364 , 115.55772949, 161.72569779,\n",
       "       133.51193939, 141.20660077, 166.85547204, 156.59592353,\n",
       "       133.51193939, 151.46614928, 161.72569779, 133.51193939,\n",
       "       151.46614928, 107.86306811, 236.10742448, 125.817278  ,\n",
       "       128.38216513, 154.0310364 , 189.93945619, 159.16081066,\n",
       "       105.29818098, 115.55772949, 123.25239088, 189.93945619,\n",
       "       177.11502055, 166.85547204, 177.11502055, 159.16081066,\n",
       "       213.02344033, 213.02344033, 182.24479481, 171.9852463 ,\n",
       "       202.76389182, 169.42035917, 105.29818098, 141.20660077,\n",
       "       138.64171364, 151.46614928, 102.73329386, 164.29058491,\n",
       "       151.46614928, 112.99284237, 128.38216513, 166.85547204,\n",
       "       136.07682651, 118.12261662, 174.55013342, 156.59592353,\n",
       "       128.38216513, 143.77148789, 154.0310364 , 105.29818098,\n",
       "       128.38216513,  97.6035196 , 197.63411757, 120.68750375,\n",
       "       192.50434331, 138.64171364, 156.59592353, 118.12261662,\n",
       "       130.94705226, 166.85547204, 110.42795524, 164.29058491,\n",
       "       146.33637502, 177.11502055, 179.67990768, 177.11502055,\n",
       "       146.33637502, 133.51193939,  66.82487407, 164.29058491,\n",
       "       177.11502055, 148.90126215, 125.817278  , 136.07682651,\n",
       "       205.32877895, 164.29058491, 156.59592353, 154.0310364 ,\n",
       "       174.55013342, 154.0310364 , 156.59592353, 148.90126215,\n",
       "       189.93945619, 161.72569779, 146.33637502, 123.25239088,\n",
       "       166.85547204, 120.68750375, 205.32877895, 171.9852463 ,\n",
       "       233.54253735, 128.38216513, 141.20660077, 151.46614928,\n",
       "       218.15321459, 146.33637502, 171.9852463 , 128.38216513,\n",
       "       123.25239088, 156.59592353, 179.67990768, 161.72569779,\n",
       "       136.07682651, 154.0310364 ])"
      ]
     },
     "execution_count": 39,
     "metadata": {},
     "output_type": "execute_result"
    }
   ],
   "source": [
    "mod = linear_model.LinearRegression().fit(test1,data.target)\n",
    "mod.predict(test1)"
   ]
  },
  {
   "cell_type": "code",
   "execution_count": null,
   "metadata": {},
   "outputs": [],
   "source": []
  },
  {
   "cell_type": "code",
   "execution_count": 40,
   "metadata": {},
   "outputs": [
    {
     "data": {
      "image/png": "[encoded data removed]",
      "text/plain": [
       "<Figure size 432x288 with 1 Axes>"
      ]
     },
     "metadata": {
      "needs_background": "light"
     },
     "output_type": "display_data"
    },
    {
     "data": {
      "image/png": "[encoded data removed]",
      "text/plain": [
       "<Figure size 432x288 with 1 Axes>"
      ]
     },
     "metadata": {
      "needs_background": "light"
     },
     "output_type": "display_data"
    },
    {
     "data": {
      "image/png": "[encoded data removed]",
      "text/plain": [
       "<Figure size 432x288 with 1 Axes>"
      ]
     },
     "metadata": {
      "needs_background": "light"
     },
     "output_type": "display_data"
    },
    {
     "data": {
      "image/png": "[encoded data removed]",
      "text/plain": [
       "<Figure size 432x288 with 1 Axes>"
      ]
     },
     "metadata": {
      "needs_background": "light"
     },
     "output_type": "display_data"
    },
    {
     "data": {
      "image/png": "[encoded data removed]",
      "text/plain": [
       "<Figure size 432x288 with 1 Axes>"
      ]
     },
     "metadata": {
      "needs_background": "light"
     },
     "output_type": "display_data"
    },
    {
     "data": {
      "image/png": "[encoded data removed]",
      "text/plain": [
       "<Figure size 432x288 with 1 Axes>"
      ]
     },
     "metadata": {
      "needs_background": "light"
     },
     "output_type": "display_data"
    },
    {
     "data": {
      "image/png": "[encoded data removed]",
      "text/plain": [
       "<Figure size 432x288 with 1 Axes>"
      ]
     },
     "metadata": {
      "needs_background": "light"
     },
     "output_type": "display_data"
    },
    {
     "data": {
      "image/png": "[encoded data removed]",
      "text/plain": [
       "<Figure size 432x288 with 1 Axes>"
      ]
     },
     "metadata": {
      "needs_background": "light"
     },
     "output_type": "display_data"
    },
    {
     "data": {
      "image/png": "[encoded data removed]",
      "text/plain": [
       "<Figure size 432x288 with 1 Axes>"
      ]
     },
     "metadata": {
      "needs_background": "light"
     },
     "output_type": "display_data"
    },
    {
     "data": {
      "image/png": "[encoded data removed]",
      "text/plain": [
       "<Figure size 432x288 with 1 Axes>"
      ]
     },
     "metadata": {
      "needs_background": "light"
     },
     "output_type": "display_data"
    }
   ],
   "source": [
    "for i in range(10):\n",
    "    \n",
    "    test1 = data.data[:, None, i]\n",
    "    plt.figure(i)\n",
    "    plt.scatter(test1, data.target)\n",
    "    plt.title(data.feature_names[i])\n",
    "    mod = linear_model.LinearRegression().fit(test1,data.target)\n",
    "    plt.plot(test1,mod.predict(test1), color=\"r\")"
   ]
  },
  {
   "cell_type": "code",
   "execution_count": null,
   "metadata": {},
   "outputs": [],
   "source": []
  },
  {
   "cell_type": "code",
   "execution_count": 23,
   "metadata": {},
   "outputs": [
    {
     "data": {
      "text/plain": [
       "array([ 0.03807591, -0.00188202,  0.08529891, -0.08906294,  0.00538306,\n",
       "       -0.09269548, -0.04547248,  0.06350368,  0.04170844, -0.07090025,\n",
       "       -0.09632802,  0.02717829,  0.01628068,  0.00538306,  0.04534098,\n",
       "       -0.05273755, -0.00551455,  0.07076875, -0.0382074 , -0.02730979,\n",
       "       -0.04910502, -0.0854304 , -0.0854304 ,  0.04534098, -0.06363517,\n",
       "       -0.06726771, -0.10722563, -0.02367725,  0.05260606,  0.06713621,\n",
       "       -0.06000263, -0.02367725,  0.03444337,  0.03081083,  0.01628068,\n",
       "        0.04897352,  0.01264814, -0.00914709, -0.00188202, -0.00188202,\n",
       "        0.00538306, -0.09996055, -0.06000263,  0.01991321,  0.04534098,\n",
       "        0.02717829, -0.05637009, -0.07816532,  0.06713621, -0.04183994,\n",
       "        0.03444337,  0.05987114, -0.05273755, -0.00914709, -0.04910502,\n",
       "       -0.04183994, -0.04183994, -0.02730979,  0.04170844,  0.06350368,\n",
       "       -0.07090025, -0.04183994, -0.02730979, -0.03457486,  0.06713621,\n",
       "       -0.04547248, -0.00914709,  0.04170844,  0.03807591,  0.01628068,\n",
       "       -0.00188202, -0.00188202,  0.06350368,  0.01264814,  0.01264814,\n",
       "       -0.00914709, -0.03094232, -0.09632802,  0.00538306, -0.10359309,\n",
       "        0.07076875,  0.01264814, -0.01641217, -0.0382074 ,  0.00175052,\n",
       "        0.04534098, -0.07090025,  0.04534098, -0.05273755, -0.04547248,\n",
       "        0.01264814,  0.04534098, -0.02004471, -0.04910502, -0.07816532,\n",
       "       -0.07090025,  0.0562386 , -0.02730979,  0.00175052, -0.00188202,\n",
       "        0.01628068,  0.01628068, -0.09269548,  0.05987114, -0.02730979,\n",
       "        0.02354575, -0.09632802,  0.02717829,  0.01991321,  0.03807591,\n",
       "        0.04170844,  0.01991321, -0.0854304 ,  0.01991321,  0.02354575,\n",
       "       -0.03094232,  0.04897352,  0.05987114, -0.05637009,  0.01628068,\n",
       "       -0.04910502,  0.06350368,  0.04897352,  0.00538306, -0.00551455,\n",
       "       -0.00551455, -0.08906294,  0.03444337, -0.05273755,  0.0090156 ,\n",
       "       -0.06363517, -0.09632802,  0.01628068, -0.04183994, -0.07453279,\n",
       "       -0.00551455, -0.09269548,  0.00538306,  0.03444337,  0.02354575,\n",
       "        0.04170844, -0.02730979,  0.04170844, -0.03094232,  0.03081083,\n",
       "       -0.04183994, -0.03094232, -0.05637009, -0.06000263, -0.04910502,\n",
       "        0.02354575,  0.00175052, -0.03457486,  0.04170844,  0.06713621,\n",
       "       -0.02730979, -0.01641217, -0.00188202, -0.01277963, -0.00551455,\n",
       "       -0.00914709, -0.04547248, -0.05273755,  0.01628068,  0.04534098,\n",
       "       -0.04183994, -0.05637009,  0.07076875,  0.00175052, -0.00188202,\n",
       "        0.02354575, -0.02004471,  0.04170844, -0.06363517,  0.01628068,\n",
       "        0.06713621,  0.04534098,  0.04897352,  0.04170844, -0.02367725,\n",
       "       -0.0382074 ,  0.04897352,  0.04534098,  0.04534098,  0.01628068,\n",
       "       -0.07453279, -0.08179786, -0.06726771,  0.00538306, -0.00188202,\n",
       "        0.0090156 , -0.00551455,  0.0562386 ,  0.0090156 , -0.06726771,\n",
       "        0.02717829, -0.02367725,  0.04897352, -0.05273755,  0.04170844,\n",
       "        0.0562386 , -0.03457486,  0.08166637, -0.00188202,  0.11072668,\n",
       "       -0.03094232,  0.00175052,  0.0090156 ,  0.03081083,  0.03807591,\n",
       "        0.0090156 ,  0.09256398,  0.06713621,  0.00175052,  0.03081083,\n",
       "        0.02717829,  0.01264814,  0.07440129, -0.04183994, -0.08906294,\n",
       "        0.02354575, -0.04547248, -0.02367725, -0.09996055, -0.02730979,\n",
       "        0.03081083, -0.10359309,  0.06713621, -0.05273755, -0.02730979,\n",
       "       -0.0382074 ,  0.0090156 ,  0.01264814,  0.06713621,  0.04534098,\n",
       "        0.06713621,  0.02717829,  0.0562386 ,  0.03444337,  0.02354575,\n",
       "        0.04897352,  0.03081083, -0.10359309,  0.01628068, -0.06000263,\n",
       "       -0.02730979,  0.04170844, -0.08179786, -0.04183994, -0.01277963,\n",
       "        0.06713621, -0.05273755,  0.00538306,  0.08166637,  0.03081083,\n",
       "        0.00175052, -0.04910502, -0.02730979,  0.07803383,  0.01264814,\n",
       "        0.04170844,  0.04897352, -0.01641217, -0.07453279,  0.03444337,\n",
       "       -0.03457486, -0.05273755,  0.05987114,  0.06350368,  0.0090156 ,\n",
       "        0.00538306,  0.03807591,  0.01264814,  0.07440129,  0.01628068,\n",
       "       -0.00551455,  0.01264814, -0.03457486,  0.06713621,  0.03807591,\n",
       "        0.0090156 , -0.09269548,  0.07076875, -0.01641217,  0.04170844,\n",
       "        0.01264814, -0.0382074 ,  0.04534098,  0.07076875, -0.07453279,\n",
       "        0.05987114,  0.07440129,  0.0090156 , -0.07090025,  0.02354575,\n",
       "       -0.05273755,  0.06713621,  0.00175052,  0.02354575,  0.03807591,\n",
       "        0.01628068, -0.00188202,  0.01264814,  0.07440129,  0.04170844,\n",
       "       -0.00914709,  0.0090156 ,  0.06713621,  0.00175052, -0.00914709,\n",
       "       -0.00551455,  0.09619652, -0.07453279,  0.05987114, -0.02367725,\n",
       "        0.0090156 ,  0.01628068,  0.01991321,  0.08893144,  0.01991321,\n",
       "       -0.02367725,  0.09619652,  0.02354575,  0.07076875,  0.03081083,\n",
       "       -0.00188202,  0.04534098,  0.07440129, -0.0382074 , -0.01277963,\n",
       "        0.0090156 ,  0.08166637,  0.03081083,  0.02717829, -0.06000263,\n",
       "        0.00538306, -0.02004471,  0.01991321, -0.06363517,  0.02717829,\n",
       "       -0.01641217,  0.03081083,  0.0562386 , -0.02004471, -0.10722563,\n",
       "        0.08166637,  0.00538306,  0.03807591,  0.03081083,  0.00175052,\n",
       "       -0.02730979, -0.0854304 ,  0.01264814, -0.05273755, -0.02367725,\n",
       "       -0.07453279, -0.00551455, -0.06000263, -0.02004471,  0.03807591,\n",
       "        0.01628068,  0.04170844,  0.01991321, -0.04910502,  0.00175052,\n",
       "        0.03444337, -0.04547248, -0.00914709, -0.01641217, -0.00914709,\n",
       "        0.01991321,  0.05260606, -0.02730979, -0.07453279, -0.10722563,\n",
       "        0.04534098, -0.00188202,  0.01991321,  0.01628068, -0.00188202,\n",
       "        0.01628068, -0.07090025,  0.04897352,  0.00538306,  0.03444337,\n",
       "        0.02354575,  0.01991321, -0.04547248,  0.05260606, -0.00551455,\n",
       "        0.0090156 , -0.02367725, -0.04183994, -0.07453279,  0.03444337,\n",
       "       -0.06000263, -0.0854304 ,  0.05260606,  0.01264814,  0.05987114,\n",
       "       -0.02367725,  0.01628068,  0.11072668, -0.02004471, -0.01641217,\n",
       "        0.04897352, -0.05637009,  0.02717829,  0.06350368, -0.05273755,\n",
       "       -0.00914709,  0.00538306,  0.07440129, -0.05273755,  0.08166637,\n",
       "       -0.00551455, -0.02730979, -0.05273755,  0.0090156 , -0.02004471,\n",
       "        0.02354575,  0.03807591, -0.07816532,  0.0090156 ,  0.00175052,\n",
       "       -0.07816532,  0.03081083, -0.03457486,  0.04897352, -0.04183994,\n",
       "       -0.00914709,  0.07076875,  0.0090156 , -0.02730979,  0.01628068,\n",
       "       -0.01277963, -0.05637009,  0.04170844, -0.00551455,  0.04170844,\n",
       "       -0.04547248, -0.04547248])"
      ]
     },
     "execution_count": 23,
     "metadata": {},
     "output_type": "execute_result"
    }
   ],
   "source": [
    "data[:,0]"
   ]
  },
  {
   "cell_type": "code",
   "execution_count": 24,
   "metadata": {},
   "outputs": [
    {
     "data": {
      "text/plain": [
       "array([[ 0.03807591],\n",
       "       [-0.00188202],\n",
       "       [ 0.08529891],\n",
       "       [-0.08906294],\n",
       "       [ 0.00538306],\n",
       "       [-0.09269548],\n",
       "       [-0.04547248],\n",
       "       [ 0.06350368],\n",
       "       [ 0.04170844],\n",
       "       [-0.07090025],\n",
       "       [-0.09632802],\n",
       "       [ 0.02717829],\n",
       "       [ 0.01628068],\n",
       "       [ 0.00538306],\n",
       "       [ 0.04534098],\n",
       "       [-0.05273755],\n",
       "       [-0.00551455],\n",
       "       [ 0.07076875],\n",
       "       [-0.0382074 ],\n",
       "       [-0.02730979],\n",
       "       [-0.04910502],\n",
       "       [-0.0854304 ],\n",
       "       [-0.0854304 ],\n",
       "       [ 0.04534098],\n",
       "       [-0.06363517],\n",
       "       [-0.06726771],\n",
       "       [-0.10722563],\n",
       "       [-0.02367725],\n",
       "       [ 0.05260606],\n",
       "       [ 0.06713621],\n",
       "       [-0.06000263],\n",
       "       [-0.02367725],\n",
       "       [ 0.03444337],\n",
       "       [ 0.03081083],\n",
       "       [ 0.01628068],\n",
       "       [ 0.04897352],\n",
       "       [ 0.01264814],\n",
       "       [-0.00914709],\n",
       "       [-0.00188202],\n",
       "       [-0.00188202],\n",
       "       [ 0.00538306],\n",
       "       [-0.09996055],\n",
       "       [-0.06000263],\n",
       "       [ 0.01991321],\n",
       "       [ 0.04534098],\n",
       "       [ 0.02717829],\n",
       "       [-0.05637009],\n",
       "       [-0.07816532],\n",
       "       [ 0.06713621],\n",
       "       [-0.04183994],\n",
       "       [ 0.03444337],\n",
       "       [ 0.05987114],\n",
       "       [-0.05273755],\n",
       "       [-0.00914709],\n",
       "       [-0.04910502],\n",
       "       [-0.04183994],\n",
       "       [-0.04183994],\n",
       "       [-0.02730979],\n",
       "       [ 0.04170844],\n",
       "       [ 0.06350368],\n",
       "       [-0.07090025],\n",
       "       [-0.04183994],\n",
       "       [-0.02730979],\n",
       "       [-0.03457486],\n",
       "       [ 0.06713621],\n",
       "       [-0.04547248],\n",
       "       [-0.00914709],\n",
       "       [ 0.04170844],\n",
       "       [ 0.03807591],\n",
       "       [ 0.01628068],\n",
       "       [-0.00188202],\n",
       "       [-0.00188202],\n",
       "       [ 0.06350368],\n",
       "       [ 0.01264814],\n",
       "       [ 0.01264814],\n",
       "       [-0.00914709],\n",
       "       [-0.03094232],\n",
       "       [-0.09632802],\n",
       "       [ 0.00538306],\n",
       "       [-0.10359309],\n",
       "       [ 0.07076875],\n",
       "       [ 0.01264814],\n",
       "       [-0.01641217],\n",
       "       [-0.0382074 ],\n",
       "       [ 0.00175052],\n",
       "       [ 0.04534098],\n",
       "       [-0.07090025],\n",
       "       [ 0.04534098],\n",
       "       [-0.05273755],\n",
       "       [-0.04547248],\n",
       "       [ 0.01264814],\n",
       "       [ 0.04534098],\n",
       "       [-0.02004471],\n",
       "       [-0.04910502],\n",
       "       [-0.07816532],\n",
       "       [-0.07090025],\n",
       "       [ 0.0562386 ],\n",
       "       [-0.02730979],\n",
       "       [ 0.00175052],\n",
       "       [-0.00188202],\n",
       "       [ 0.01628068],\n",
       "       [ 0.01628068],\n",
       "       [-0.09269548],\n",
       "       [ 0.05987114],\n",
       "       [-0.02730979],\n",
       "       [ 0.02354575],\n",
       "       [-0.09632802],\n",
       "       [ 0.02717829],\n",
       "       [ 0.01991321],\n",
       "       [ 0.03807591],\n",
       "       [ 0.04170844],\n",
       "       [ 0.01991321],\n",
       "       [-0.0854304 ],\n",
       "       [ 0.01991321],\n",
       "       [ 0.02354575],\n",
       "       [-0.03094232],\n",
       "       [ 0.04897352],\n",
       "       [ 0.05987114],\n",
       "       [-0.05637009],\n",
       "       [ 0.01628068],\n",
       "       [-0.04910502],\n",
       "       [ 0.06350368],\n",
       "       [ 0.04897352],\n",
       "       [ 0.00538306],\n",
       "       [-0.00551455],\n",
       "       [-0.00551455],\n",
       "       [-0.08906294],\n",
       "       [ 0.03444337],\n",
       "       [-0.05273755],\n",
       "       [ 0.0090156 ],\n",
       "       [-0.06363517],\n",
       "       [-0.09632802],\n",
       "       [ 0.01628068],\n",
       "       [-0.04183994],\n",
       "       [-0.07453279],\n",
       "       [-0.00551455],\n",
       "       [-0.09269548],\n",
       "       [ 0.00538306],\n",
       "       [ 0.03444337],\n",
       "       [ 0.02354575],\n",
       "       [ 0.04170844],\n",
       "       [-0.02730979],\n",
       "       [ 0.04170844],\n",
       "       [-0.03094232],\n",
       "       [ 0.03081083],\n",
       "       [-0.04183994],\n",
       "       [-0.03094232],\n",
       "       [-0.05637009],\n",
       "       [-0.06000263],\n",
       "       [-0.04910502],\n",
       "       [ 0.02354575],\n",
       "       [ 0.00175052],\n",
       "       [-0.03457486],\n",
       "       [ 0.04170844],\n",
       "       [ 0.06713621],\n",
       "       [-0.02730979],\n",
       "       [-0.01641217],\n",
       "       [-0.00188202],\n",
       "       [-0.01277963],\n",
       "       [-0.00551455],\n",
       "       [-0.00914709],\n",
       "       [-0.04547248],\n",
       "       [-0.05273755],\n",
       "       [ 0.01628068],\n",
       "       [ 0.04534098],\n",
       "       [-0.04183994],\n",
       "       [-0.05637009],\n",
       "       [ 0.07076875],\n",
       "       [ 0.00175052],\n",
       "       [-0.00188202],\n",
       "       [ 0.02354575],\n",
       "       [-0.02004471],\n",
       "       [ 0.04170844],\n",
       "       [-0.06363517],\n",
       "       [ 0.01628068],\n",
       "       [ 0.06713621],\n",
       "       [ 0.04534098],\n",
       "       [ 0.04897352],\n",
       "       [ 0.04170844],\n",
       "       [-0.02367725],\n",
       "       [-0.0382074 ],\n",
       "       [ 0.04897352],\n",
       "       [ 0.04534098],\n",
       "       [ 0.04534098],\n",
       "       [ 0.01628068],\n",
       "       [-0.07453279],\n",
       "       [-0.08179786],\n",
       "       [-0.06726771],\n",
       "       [ 0.00538306],\n",
       "       [-0.00188202],\n",
       "       [ 0.0090156 ],\n",
       "       [-0.00551455],\n",
       "       [ 0.0562386 ],\n",
       "       [ 0.0090156 ],\n",
       "       [-0.06726771],\n",
       "       [ 0.02717829],\n",
       "       [-0.02367725],\n",
       "       [ 0.04897352],\n",
       "       [-0.05273755],\n",
       "       [ 0.04170844],\n",
       "       [ 0.0562386 ],\n",
       "       [-0.03457486],\n",
       "       [ 0.08166637],\n",
       "       [-0.00188202],\n",
       "       [ 0.11072668],\n",
       "       [-0.03094232],\n",
       "       [ 0.00175052],\n",
       "       [ 0.0090156 ],\n",
       "       [ 0.03081083],\n",
       "       [ 0.03807591],\n",
       "       [ 0.0090156 ],\n",
       "       [ 0.09256398],\n",
       "       [ 0.06713621],\n",
       "       [ 0.00175052],\n",
       "       [ 0.03081083],\n",
       "       [ 0.02717829],\n",
       "       [ 0.01264814],\n",
       "       [ 0.07440129],\n",
       "       [-0.04183994],\n",
       "       [-0.08906294],\n",
       "       [ 0.02354575],\n",
       "       [-0.04547248],\n",
       "       [-0.02367725],\n",
       "       [-0.09996055],\n",
       "       [-0.02730979],\n",
       "       [ 0.03081083],\n",
       "       [-0.10359309],\n",
       "       [ 0.06713621],\n",
       "       [-0.05273755],\n",
       "       [-0.02730979],\n",
       "       [-0.0382074 ],\n",
       "       [ 0.0090156 ],\n",
       "       [ 0.01264814],\n",
       "       [ 0.06713621],\n",
       "       [ 0.04534098],\n",
       "       [ 0.06713621],\n",
       "       [ 0.02717829],\n",
       "       [ 0.0562386 ],\n",
       "       [ 0.03444337],\n",
       "       [ 0.02354575],\n",
       "       [ 0.04897352],\n",
       "       [ 0.03081083],\n",
       "       [-0.10359309],\n",
       "       [ 0.01628068],\n",
       "       [-0.06000263],\n",
       "       [-0.02730979],\n",
       "       [ 0.04170844],\n",
       "       [-0.08179786],\n",
       "       [-0.04183994],\n",
       "       [-0.01277963],\n",
       "       [ 0.06713621],\n",
       "       [-0.05273755],\n",
       "       [ 0.00538306],\n",
       "       [ 0.08166637],\n",
       "       [ 0.03081083],\n",
       "       [ 0.00175052],\n",
       "       [-0.04910502],\n",
       "       [-0.02730979],\n",
       "       [ 0.07803383],\n",
       "       [ 0.01264814],\n",
       "       [ 0.04170844],\n",
       "       [ 0.04897352],\n",
       "       [-0.01641217],\n",
       "       [-0.07453279],\n",
       "       [ 0.03444337],\n",
       "       [-0.03457486],\n",
       "       [-0.05273755],\n",
       "       [ 0.05987114],\n",
       "       [ 0.06350368],\n",
       "       [ 0.0090156 ],\n",
       "       [ 0.00538306],\n",
       "       [ 0.03807591],\n",
       "       [ 0.01264814],\n",
       "       [ 0.07440129],\n",
       "       [ 0.01628068],\n",
       "       [-0.00551455],\n",
       "       [ 0.01264814],\n",
       "       [-0.03457486],\n",
       "       [ 0.06713621],\n",
       "       [ 0.03807591],\n",
       "       [ 0.0090156 ],\n",
       "       [-0.09269548],\n",
       "       [ 0.07076875],\n",
       "       [-0.01641217],\n",
       "       [ 0.04170844],\n",
       "       [ 0.01264814],\n",
       "       [-0.0382074 ],\n",
       "       [ 0.04534098],\n",
       "       [ 0.07076875],\n",
       "       [-0.07453279],\n",
       "       [ 0.05987114],\n",
       "       [ 0.07440129],\n",
       "       [ 0.0090156 ],\n",
       "       [-0.07090025],\n",
       "       [ 0.02354575],\n",
       "       [-0.05273755],\n",
       "       [ 0.06713621],\n",
       "       [ 0.00175052],\n",
       "       [ 0.02354575],\n",
       "       [ 0.03807591],\n",
       "       [ 0.01628068],\n",
       "       [-0.00188202],\n",
       "       [ 0.01264814],\n",
       "       [ 0.07440129],\n",
       "       [ 0.04170844],\n",
       "       [-0.00914709],\n",
       "       [ 0.0090156 ],\n",
       "       [ 0.06713621],\n",
       "       [ 0.00175052],\n",
       "       [-0.00914709],\n",
       "       [-0.00551455],\n",
       "       [ 0.09619652],\n",
       "       [-0.07453279],\n",
       "       [ 0.05987114],\n",
       "       [-0.02367725],\n",
       "       [ 0.0090156 ],\n",
       "       [ 0.01628068],\n",
       "       [ 0.01991321],\n",
       "       [ 0.08893144],\n",
       "       [ 0.01991321],\n",
       "       [-0.02367725],\n",
       "       [ 0.09619652],\n",
       "       [ 0.02354575],\n",
       "       [ 0.07076875],\n",
       "       [ 0.03081083],\n",
       "       [-0.00188202],\n",
       "       [ 0.04534098],\n",
       "       [ 0.07440129],\n",
       "       [-0.0382074 ],\n",
       "       [-0.01277963],\n",
       "       [ 0.0090156 ],\n",
       "       [ 0.08166637],\n",
       "       [ 0.03081083],\n",
       "       [ 0.02717829],\n",
       "       [-0.06000263],\n",
       "       [ 0.00538306],\n",
       "       [-0.02004471],\n",
       "       [ 0.01991321],\n",
       "       [-0.06363517],\n",
       "       [ 0.02717829],\n",
       "       [-0.01641217],\n",
       "       [ 0.03081083],\n",
       "       [ 0.0562386 ],\n",
       "       [-0.02004471],\n",
       "       [-0.10722563],\n",
       "       [ 0.08166637],\n",
       "       [ 0.00538306],\n",
       "       [ 0.03807591],\n",
       "       [ 0.03081083],\n",
       "       [ 0.00175052],\n",
       "       [-0.02730979],\n",
       "       [-0.0854304 ],\n",
       "       [ 0.01264814],\n",
       "       [-0.05273755],\n",
       "       [-0.02367725],\n",
       "       [-0.07453279],\n",
       "       [-0.00551455],\n",
       "       [-0.06000263],\n",
       "       [-0.02004471],\n",
       "       [ 0.03807591],\n",
       "       [ 0.01628068],\n",
       "       [ 0.04170844],\n",
       "       [ 0.01991321],\n",
       "       [-0.04910502],\n",
       "       [ 0.00175052],\n",
       "       [ 0.03444337],\n",
       "       [-0.04547248],\n",
       "       [-0.00914709],\n",
       "       [-0.01641217],\n",
       "       [-0.00914709],\n",
       "       [ 0.01991321],\n",
       "       [ 0.05260606],\n",
       "       [-0.02730979],\n",
       "       [-0.07453279],\n",
       "       [-0.10722563],\n",
       "       [ 0.04534098],\n",
       "       [-0.00188202],\n",
       "       [ 0.01991321],\n",
       "       [ 0.01628068],\n",
       "       [-0.00188202],\n",
       "       [ 0.01628068],\n",
       "       [-0.07090025],\n",
       "       [ 0.04897352],\n",
       "       [ 0.00538306],\n",
       "       [ 0.03444337],\n",
       "       [ 0.02354575],\n",
       "       [ 0.01991321],\n",
       "       [-0.04547248],\n",
       "       [ 0.05260606],\n",
       "       [-0.00551455],\n",
       "       [ 0.0090156 ],\n",
       "       [-0.02367725],\n",
       "       [-0.04183994],\n",
       "       [-0.07453279],\n",
       "       [ 0.03444337],\n",
       "       [-0.06000263],\n",
       "       [-0.0854304 ],\n",
       "       [ 0.05260606],\n",
       "       [ 0.01264814],\n",
       "       [ 0.05987114],\n",
       "       [-0.02367725],\n",
       "       [ 0.01628068],\n",
       "       [ 0.11072668],\n",
       "       [-0.02004471],\n",
       "       [-0.01641217],\n",
       "       [ 0.04897352],\n",
       "       [-0.05637009],\n",
       "       [ 0.02717829],\n",
       "       [ 0.06350368],\n",
       "       [-0.05273755],\n",
       "       [-0.00914709],\n",
       "       [ 0.00538306],\n",
       "       [ 0.07440129],\n",
       "       [-0.05273755],\n",
       "       [ 0.08166637],\n",
       "       [-0.00551455],\n",
       "       [-0.02730979],\n",
       "       [-0.05273755],\n",
       "       [ 0.0090156 ],\n",
       "       [-0.02004471],\n",
       "       [ 0.02354575],\n",
       "       [ 0.03807591],\n",
       "       [-0.07816532],\n",
       "       [ 0.0090156 ],\n",
       "       [ 0.00175052],\n",
       "       [-0.07816532],\n",
       "       [ 0.03081083],\n",
       "       [-0.03457486],\n",
       "       [ 0.04897352],\n",
       "       [-0.04183994],\n",
       "       [-0.00914709],\n",
       "       [ 0.07076875],\n",
       "       [ 0.0090156 ],\n",
       "       [-0.02730979],\n",
       "       [ 0.01628068],\n",
       "       [-0.01277963],\n",
       "       [-0.05637009],\n",
       "       [ 0.04170844],\n",
       "       [-0.00551455],\n",
       "       [ 0.04170844],\n",
       "       [-0.04547248],\n",
       "       [-0.04547248]])"
      ]
     },
     "execution_count": 24,
     "metadata": {},
     "output_type": "execute_result"
    }
   ],
   "source": [
    "test"
   ]
  },
  {
   "cell_type": "code",
   "execution_count": 25,
   "metadata": {},
   "outputs": [],
   "source": [
    "newD = data.reshape(10, 442)"
   ]
  },
  {
   "cell_type": "code",
   "execution_count": 26,
   "metadata": {},
   "outputs": [
    {
     "data": {
      "text/plain": [
       "array([ 3.80759064e-02,  5.06801187e-02,  6.16962065e-02,  2.18723550e-02,\n",
       "       -4.42234984e-02, -3.48207628e-02, -4.34008457e-02, -2.59226200e-03,\n",
       "        1.99084209e-02, -1.76461252e-02, -1.88201653e-03, -4.46416365e-02,\n",
       "       -5.14740612e-02, -2.63278347e-02, -8.44872411e-03, -1.91633397e-02,\n",
       "        7.44115641e-02, -3.94933829e-02, -6.83297436e-02, -9.22040496e-02,\n",
       "        8.52989063e-02,  5.06801187e-02,  4.44512133e-02, -5.67061055e-03,\n",
       "       -4.55994513e-02, -3.41944659e-02, -3.23559322e-02, -2.59226200e-03,\n",
       "        2.86377052e-03, -2.59303390e-02, -8.90629394e-02, -4.46416365e-02,\n",
       "       -1.15950145e-02, -3.66564468e-02,  1.21905688e-02,  2.49905934e-02,\n",
       "       -3.60375700e-02,  3.43088589e-02,  2.26920226e-02, -9.36191133e-03,\n",
       "        5.38306037e-03, -4.46416365e-02, -3.63846922e-02,  2.18723550e-02,\n",
       "        3.93485161e-03,  1.55961395e-02,  8.14208361e-03, -2.59226200e-03,\n",
       "       -3.19914449e-02, -4.66408736e-02, -9.26954778e-02, -4.46416365e-02,\n",
       "       -4.06959405e-02, -1.94420933e-02, -6.89906499e-02, -7.92878444e-02,\n",
       "        4.12768238e-02, -7.63945038e-02, -4.11803852e-02, -9.63461565e-02,\n",
       "       -4.54724779e-02,  5.06801187e-02, -4.71628129e-02, -1.59992226e-02,\n",
       "       -4.00956398e-02, -2.48000121e-02,  7.78807997e-04, -3.94933829e-02,\n",
       "       -6.29129499e-02, -3.83566597e-02,  6.35036756e-02,  5.06801187e-02,\n",
       "       -1.89470584e-03,  6.66296740e-02,  9.06198817e-02,  1.08914381e-01,\n",
       "        2.28686348e-02,  1.77033545e-02, -3.58167281e-02,  3.06440941e-03,\n",
       "        4.17084449e-02,  5.06801187e-02,  6.16962065e-02, -4.00993175e-02,\n",
       "       -1.39525355e-02,  6.20168566e-03, -2.86742944e-02, -2.59226200e-03,\n",
       "       -1.49564750e-02,  1.13486232e-02, -7.09002471e-02, -4.46416365e-02,\n",
       "        3.90621530e-02, -3.32135761e-02, -1.25765827e-02, -3.45076144e-02,\n",
       "       -2.49926566e-02, -2.59226200e-03,  6.77363261e-02, -1.35040182e-02,\n",
       "       -9.63280163e-02, -4.46416365e-02, -8.38084235e-02,  8.10087222e-03,\n",
       "       -1.03389471e-01, -9.05611890e-02, -1.39477432e-02, -7.63945038e-02,\n",
       "       -6.29129499e-02, -3.42145528e-02,  2.71782911e-02,  5.06801187e-02,\n",
       "        1.75059115e-02, -3.32135761e-02, -7.07277125e-03,  4.59715403e-02,\n",
       "       -6.54906725e-02,  7.12099798e-02, -9.64332229e-02, -5.90671943e-02,\n",
       "        1.62806757e-02, -4.46416365e-02, -2.88400077e-02, -9.11348125e-03,\n",
       "       -4.32086554e-03, -9.76888589e-03,  4.49584616e-02, -3.94933829e-02,\n",
       "       -3.07512099e-02, -4.24987666e-02,  5.38306037e-03,  5.06801187e-02,\n",
       "       -1.89470584e-03,  8.10087222e-03, -4.32086554e-03, -1.57187067e-02,\n",
       "       -2.90282981e-03, -2.59226200e-03,  3.83932482e-02, -1.35040182e-02,\n",
       "        4.53409833e-02, -4.46416365e-02, -2.56065715e-02, -1.25563519e-02,\n",
       "        1.76943802e-02, -6.12835791e-05,  8.17748397e-02, -3.94933829e-02,\n",
       "       -3.19914449e-02, -7.56356220e-02, -5.27375548e-02,  5.06801187e-02,\n",
       "       -1.80618869e-02,  8.04011568e-02,  8.92439288e-02,  1.07661787e-01,\n",
       "       -3.97192078e-02,  1.08111101e-01,  3.60557901e-02, -4.24987666e-02,\n",
       "       -5.51455498e-03, -4.46416365e-02,  4.22955892e-02,  4.94153205e-02,\n",
       "        2.45741445e-02, -2.38605667e-02,  7.44115641e-02, -3.94933829e-02,\n",
       "        5.22799998e-02,  2.79170509e-02,  7.07687525e-02,  5.06801187e-02,\n",
       "        1.21168511e-02,  5.63010619e-02,  3.42058145e-02,  4.94161734e-02,\n",
       "       -3.97192078e-02,  3.43088589e-02,  2.73677075e-02, -1.07769750e-03,\n",
       "       -3.82074010e-02, -4.46416365e-02, -1.05172024e-02, -3.66564468e-02,\n",
       "       -3.73437341e-02, -1.94764882e-02, -2.86742944e-02, -2.59226200e-03,\n",
       "       -1.81182673e-02, -1.76461252e-02, -2.73097857e-02, -4.46416365e-02,\n",
       "       -1.80618869e-02, -4.00993175e-02, -2.94491268e-03, -1.13346282e-02,\n",
       "        3.75951860e-02, -3.94933829e-02, -8.94401896e-03, -5.49250874e-02,\n",
       "       -4.91050164e-02, -4.46416365e-02, -5.68631216e-02, -4.35421882e-02,\n",
       "       -4.55994513e-02, -4.32757713e-02,  7.78807997e-04, -3.94933829e-02,\n",
       "       -1.19006848e-02,  1.54907302e-02, -8.54304009e-02,  5.06801187e-02,\n",
       "       -2.23731352e-02,  1.21513083e-03, -3.73437341e-02, -2.63657544e-02,\n",
       "        1.55053592e-02, -3.94933829e-02, -7.21284546e-02, -1.76461252e-02,\n",
       "       -8.54304009e-02, -4.46416365e-02, -4.05032999e-03, -9.11348125e-03,\n",
       "       -2.94491268e-03,  7.76742797e-03,  2.28686348e-02, -3.94933829e-02,\n",
       "       -6.11765951e-02, -1.35040182e-02,  4.53409833e-02,  5.06801187e-02,\n",
       "        6.06183944e-02,  3.10533436e-02,  2.87020031e-02, -4.73467013e-02,\n",
       "       -5.44457591e-02,  7.12099798e-02,  1.33598980e-01,  1.35611831e-01,\n",
       "       -6.36351702e-02, -4.46416365e-02,  3.58287167e-02, -2.28849640e-02,\n",
       "       -3.04639698e-02, -1.88501913e-02, -6.58446761e-03, -2.59226200e-03,\n",
       "       -2.59524244e-02, -5.49250874e-02, -6.72677086e-02,  5.06801187e-02,\n",
       "       -1.26728266e-02, -4.00993175e-02, -1.53284884e-02,  4.63594335e-03,\n",
       "       -5.81273969e-02,  3.43088589e-02,  1.91990331e-02, -3.42145528e-02,\n",
       "       -1.07225632e-01, -4.46416365e-02, -7.73415510e-02, -2.63278347e-02,\n",
       "       -8.96299427e-02, -9.61978613e-02,  2.65502726e-02, -7.63945038e-02,\n",
       "       -4.25721049e-02, -5.21980442e-03, -2.36772472e-02, -4.46416365e-02,\n",
       "        5.95405824e-02, -4.00993175e-02, -4.28475456e-02, -4.35889198e-02,\n",
       "        1.18237214e-02, -3.94933829e-02, -1.59982678e-02,  4.03433716e-02,\n",
       "        5.26060602e-02, -4.46416365e-02, -2.12953232e-02, -7.45280244e-02,\n",
       "       -4.00956398e-02, -3.76390990e-02, -6.58446761e-03, -3.94933829e-02,\n",
       "       -6.09254186e-04, -5.49250874e-02,  6.71362140e-02,  5.06801187e-02,\n",
       "       -6.20595414e-03,  6.31868033e-02, -4.28475456e-02, -9.58847129e-02,\n",
       "        5.23217373e-02, -7.63945038e-02,  5.94238004e-02,  5.27696924e-02,\n",
       "       -6.00026317e-02, -4.46416365e-02,  4.44512133e-02, -1.94420933e-02,\n",
       "       -9.82467697e-03, -7.57684666e-03,  2.28686348e-02, -3.94933829e-02,\n",
       "       -2.71286456e-02, -9.36191133e-03, -2.36772472e-02, -4.46416365e-02,\n",
       "       -6.54856182e-02, -8.14137658e-02, -3.87196870e-02, -5.36096705e-02,\n",
       "        5.96850129e-02, -7.63945038e-02, -3.71283460e-02, -4.24987666e-02,\n",
       "        3.44433680e-02,  5.06801187e-02,  1.25287119e-01,  2.87580964e-02,\n",
       "       -5.38551684e-02, -1.29003705e-02, -1.02307051e-01,  1.08111101e-01,\n",
       "        2.71485728e-04,  2.79170509e-02,  3.08108295e-02, -4.46416365e-02,\n",
       "       -5.03962492e-02, -2.22773986e-03, -4.42234984e-02, -8.99348921e-02,\n",
       "        1.18591218e-01, -7.63945038e-02, -1.81182673e-02,  3.06440941e-03,\n",
       "        1.62806757e-02, -4.46416365e-02, -6.33299941e-02, -5.73136710e-02,\n",
       "       -5.79830270e-02, -4.89124436e-02,  8.14208361e-03, -3.94933829e-02,\n",
       "       -5.94726974e-02, -6.73514081e-02,  4.89735218e-02,  5.06801187e-02,\n",
       "       -3.09956318e-02, -4.92803060e-02,  4.93412959e-02, -4.13221358e-03,\n",
       "        1.33317769e-01, -5.35158088e-02,  2.13108466e-02,  1.96328371e-02,\n",
       "        1.26481373e-02, -4.46416365e-02,  2.28949719e-02,  5.28581912e-02,\n",
       "        8.06271019e-03, -2.85577936e-02,  3.75951860e-02, -3.94933829e-02,\n",
       "        5.47240033e-02, -2.59303390e-02, -9.14709343e-03, -4.46416365e-02,\n",
       "        1.10390390e-02, -5.73136710e-02, -2.49601584e-02, -4.29626228e-02,\n",
       "        3.02319104e-02, -3.94933829e-02,  1.70371324e-02, -5.21980442e-03,\n",
       "       -1.88201653e-03,  5.06801187e-02,  7.13965152e-02,  9.76155103e-02,\n",
       "        8.78679760e-02,  7.54074957e-02, -2.13110188e-02,  7.12099798e-02,\n",
       "        7.14240328e-02,  2.37749440e-02, -1.88201653e-03,  5.06801187e-02,\n",
       "        1.42724753e-02, -7.45280244e-02,  2.55889875e-03,  6.20168566e-03,\n",
       "       -1.39477432e-02, -2.59226200e-03,  1.91990331e-02,  3.06440941e-03,\n",
       "        5.38306037e-03,  5.06801187e-02, -8.36157828e-03,  2.18723550e-02,\n",
       "        5.48451074e-02,  7.32154565e-02, -2.49926566e-02,  3.43088589e-02,\n",
       "        1.25531528e-02,  9.41907615e-02, -9.99605547e-02, -4.46416365e-02,\n",
       "       -6.76412423e-02, -1.08956731e-01, -7.44944613e-02, -7.27117267e-02,\n",
       "        1.55053592e-02, -3.94933829e-02, -4.98684677e-02, -9.36191133e-03,\n",
       "       -6.00026317e-02,  5.06801187e-02, -1.05172024e-02, -1.48515991e-02,\n",
       "       -4.97273099e-02, -2.35474182e-02, -5.81273969e-02,  1.58582984e-02,\n",
       "       -9.91895736e-03, -3.42145528e-02,  1.99132142e-02, -4.46416365e-02,\n",
       "       -2.34509473e-02, -7.10851537e-02,  2.04462859e-02, -1.00820344e-02,\n",
       "        1.18591218e-01, -7.63945038e-02, -4.25721049e-02,  7.34802270e-02,\n",
       "        4.53409833e-02,  5.06801187e-02])"
      ]
     },
     "execution_count": 26,
     "metadata": {},
     "output_type": "execute_result"
    }
   ],
   "source": [
    "newD[0]"
   ]
  },
  {
   "cell_type": "code",
   "execution_count": 27,
   "metadata": {},
   "outputs": [
    {
     "data": {
      "text/plain": [
       "array([ 0.03807591,  0.05068012,  0.06169621,  0.02187235, -0.0442235 ,\n",
       "       -0.03482076, -0.04340085, -0.00259226,  0.01990842, -0.01764613])"
      ]
     },
     "execution_count": 27,
     "metadata": {},
     "output_type": "execute_result"
    }
   ],
   "source": [
    "data[0]"
   ]
  },
  {
   "cell_type": "code",
   "execution_count": 28,
   "metadata": {},
   "outputs": [
    {
     "data": {
      "text/plain": [
       "(150,)"
      ]
     },
     "execution_count": 28,
     "metadata": {},
     "output_type": "execute_result"
    }
   ],
   "source": [
    "y.shape"
   ]
  },
  {
   "cell_type": "code",
   "execution_count": 29,
   "metadata": {},
   "outputs": [],
   "source": [
    "reg = linear_model.LinearRegression()"
   ]
  },
  {
   "cell_type": "code",
   "execution_count": 30,
   "metadata": {
    "scrolled": true
   },
   "outputs": [
    {
     "ename": "AttributeError",
     "evalue": "'numpy.ndarray' object has no attribute 'target'",
     "output_type": "error",
     "traceback": [
      "\u001b[1;31m---------------------------------------------------------------------------\u001b[0m",
      "\u001b[1;31mAttributeError\u001b[0m                            Traceback (most recent call last)",
      "\u001b[1;32m<ipython-input-30-018aaa61dbe8>\u001b[0m in \u001b[0;36m<module>\u001b[1;34m\u001b[0m\n\u001b[1;32m----> 1\u001b[1;33m \u001b[0mreg\u001b[0m\u001b[1;33m.\u001b[0m\u001b[0mfit\u001b[0m\u001b[1;33m(\u001b[0m\u001b[0mdata\u001b[0m\u001b[1;33m.\u001b[0m\u001b[0mdata\u001b[0m\u001b[1;33m,\u001b[0m \u001b[0mdata\u001b[0m\u001b[1;33m.\u001b[0m\u001b[0mtarget\u001b[0m\u001b[1;33m)\u001b[0m\u001b[1;33m\u001b[0m\u001b[1;33m\u001b[0m\u001b[0m\n\u001b[0m",
      "\u001b[1;31mAttributeError\u001b[0m: 'numpy.ndarray' object has no attribute 'target'"
     ]
    }
   ],
   "source": [
    "reg.fit(data.data, data.target)"
   ]
  },
  {
   "cell_type": "code",
   "execution_count": null,
   "metadata": {},
   "outputs": [],
   "source": [
    "reg.coef_"
   ]
  },
  {
   "cell_type": "code",
   "execution_count": null,
   "metadata": {},
   "outputs": [],
   "source": [
    "plt.scatter(newD[1], newD[2])"
   ]
  },
  {
   "cell_type": "code",
   "execution_count": null,
   "metadata": {},
   "outputs": [],
   "source": [
    "newD[0]"
   ]
  },
  {
   "cell_type": "code",
   "execution_count": null,
   "metadata": {},
   "outputs": [],
   "source": [
    "from sklearn.model_selection import train_test_split"
   ]
  },
  {
   "cell_type": "code",
   "execution_count": null,
   "metadata": {},
   "outputs": [],
   "source": [
    "test = data[:,0]"
   ]
  },
  {
   "cell_type": "code",
   "execution_count": null,
   "metadata": {},
   "outputs": [],
   "source": [
    "X_train, X_test, y_train, y_test = train_test_split(test, target, test_size=0.33, random_state=42)"
   ]
  },
  {
   "cell_type": "code",
   "execution_count": null,
   "metadata": {},
   "outputs": [],
   "source": [
    "X_train.reshape(-1, 1)"
   ]
  },
  {
   "cell_type": "code",
   "execution_count": null,
   "metadata": {},
   "outputs": [],
   "source": []
  },
  {
   "cell_type": "code",
   "execution_count": null,
   "metadata": {},
   "outputs": [],
   "source": [
    "y_train.shape"
   ]
  },
  {
   "cell_type": "code",
   "execution_count": null,
   "metadata": {},
   "outputs": [],
   "source": [
    "reg = linear_model.LinearRegression()"
   ]
  },
  {
   "cell_type": "code",
   "execution_count": null,
   "metadata": {},
   "outputs": [],
   "source": [
    "reg.fit(X_train.reshape(-1, 1), y_train)"
   ]
  },
  {
   "cell_type": "code",
   "execution_count": null,
   "metadata": {},
   "outputs": [],
   "source": [
    "reg.coef_"
   ]
  },
  {
   "cell_type": "code",
   "execution_count": null,
   "metadata": {},
   "outputs": [],
   "source": [
    "predict_y = reg.predict(X_test.reshape(-1, 1))"
   ]
  },
  {
   "cell_type": "code",
   "execution_count": null,
   "metadata": {},
   "outputs": [],
   "source": [
    "predict_y"
   ]
  },
  {
   "cell_type": "code",
   "execution_count": null,
   "metadata": {
    "scrolled": true
   },
   "outputs": [],
   "source": [
    "y_test"
   ]
  },
  {
   "cell_type": "code",
   "execution_count": null,
   "metadata": {},
   "outputs": [],
   "source": [
    "predict_y - y_test"
   ]
  },
  {
   "cell_type": "code",
   "execution_count": null,
   "metadata": {},
   "outputs": [],
   "source": [
    "plt.scatter(test, target)\n",
    "plt.plot(X_test, predict_y, color='red')"
   ]
  },
  {
   "cell_type": "code",
   "execution_count": null,
   "metadata": {},
   "outputs": [],
   "source": [
    "plotRegX = np.linspace(-0.2,.2)"
   ]
  },
  {
   "cell_type": "code",
   "execution_count": null,
   "metadata": {},
   "outputs": [],
   "source": [
    "plotRegY = plotReg*reg.coef_"
   ]
  },
  {
   "cell_type": "code",
   "execution_count": null,
   "metadata": {},
   "outputs": [],
   "source": [
    "import numpy as np"
   ]
  },
  {
   "cell_type": "code",
   "execution_count": null,
   "metadata": {},
   "outputs": [],
   "source": [
    "X = np.linspace(0,1, 50)"
   ]
  },
  {
   "cell_type": "code",
   "execution_count": null,
   "metadata": {},
   "outputs": [],
   "source": [
    "X.shape"
   ]
  },
  {
   "cell_type": "code",
   "execution_count": null,
   "metadata": {},
   "outputs": [],
   "source": [
    "X.reshape(-1,1)"
   ]
  },
  {
   "cell_type": "code",
   "execution_count": null,
   "metadata": {},
   "outputs": [],
   "source": [
    "X.shape"
   ]
  },
  {
   "cell_type": "code",
   "execution_count": null,
   "metadata": {},
   "outputs": [],
   "source": [
    "X, y = np.linspace(0, 1, 100).reshape(-1,2), np.linspace(0,10, 50)"
   ]
  },
  {
   "cell_type": "code",
   "execution_count": null,
   "metadata": {},
   "outputs": [],
   "source": [
    "X.shape"
   ]
  },
  {
   "cell_type": "code",
   "execution_count": null,
   "metadata": {},
   "outputs": [],
   "source": [
    "y.shape"
   ]
  },
  {
   "cell_type": "code",
   "execution_count": null,
   "metadata": {},
   "outputs": [],
   "source": []
  },
  {
   "cell_type": "code",
   "execution_count": null,
   "metadata": {},
   "outputs": [],
   "source": []
  },
  {
   "cell_type": "code",
   "execution_count": null,
   "metadata": {},
   "outputs": [],
   "source": []
  },
  {
   "cell_type": "code",
   "execution_count": null,
   "metadata": {},
   "outputs": [],
   "source": []
  },
  {
   "cell_type": "code",
   "execution_count": null,
   "metadata": {},
   "outputs": [],
   "source": []
  },
  {
   "cell_type": "markdown",
   "metadata": {},
   "source": [
    "# Ref\n",
    "\n",
    "\n",
    "https://www.cs.toronto.edu/~hinton/absps/ncfast.pdf Paper\n",
    "\n",
    "file:///C:/Users/hogan/Documents/Books/Aur%C3%A9lien%20G%C3%A9ron%20-%20Hands-On%20Machine%20Learning%20with%20Scikit-Learn,%20Keras,%20and%20TensorFlow%20-%20Concepts,%20Tools,%20and%20Techniques%20to%20Build%20Intelligent%20Systems,%202nd%20Edition%20(2019).pdf\n",
    "\n",
    "Book"
   ]
  },
  {
   "cell_type": "markdown",
   "metadata": {},
   "source": [
    "Reshape: https://realpython.com/linear-regression-in-python/#regression"
   ]
  },
  {
   "cell_type": "markdown",
   "metadata": {},
   "source": []
  },
  {
   "cell_type": "code",
   "execution_count": null,
   "metadata": {},
   "outputs": [],
   "source": []
  }
 ],
 "metadata": {
  "kernelspec": {
   "display_name": "Python 3",
   "language": "python",
   "name": "python3"
  },
  "language_info": {
   "codemirror_mode": {
    "name": "ipython",
    "version": 3
   },
   "file_extension": ".py",
   "mimetype": "text/x-python",
   "name": "python",
   "nbconvert_exporter": "python",
   "pygments_lexer": "ipython3",
   "version": "3.8.3"
  }
 },
 "nbformat": 4,
 "nbformat_minor": 4
}
