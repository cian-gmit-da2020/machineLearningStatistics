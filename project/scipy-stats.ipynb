{
 "cells": [
  {
   "cell_type": "markdown",
   "metadata": {},
   "source": [
    "# Cian Hogan\n",
    "## Machine Learning and Statistics Module\n",
    "## GMIT Data Analytics\n",
    "### Final Assessment"
   ]
  },
  {
   "cell_type": "markdown",
   "metadata": {},
   "source": [
    "<img src=\"https://docs.scipy.org/doc/scipy/_static/scipyshiny_small.png\" alt=\"Scikit-Learn Logo\" align=\"left\" border=0/>  \n"
   ]
  },
  {
   "cell_type": "markdown",
   "metadata": {},
   "source": [
    "# SciPy.stats"
   ]
  },
  {
   "cell_type": "markdown",
   "metadata": {},
   "source": [
    "# Introduction"
   ]
  },
  {
   "cell_type": "markdown",
   "metadata": {},
   "source": [
    "SciPy is a third-party python library for scientific computing. It is based on the numpy package and provides a collection of mathematical algorithms and conveniece functions for advanced statistical analysis. (scipy.org, 2021)\n",
    "\n",
    "\n",
    "\n"
   ]
  },
  {
   "cell_type": "markdown",
   "metadata": {},
   "source": [
    "# Origins of SciPy Stats"
   ]
  },
  {
   "cell_type": "markdown",
   "metadata": {},
   "source": []
  },
  {
   "cell_type": "markdown",
   "metadata": {},
   "source": []
  },
  {
   "cell_type": "markdown",
   "metadata": {},
   "source": [
    "# Anova\n",
    "3 or more groups variance\n",
    "2 groups use a paired t-test"
   ]
  },
  {
   "cell_type": "markdown",
   "metadata": {},
   "source": [
    "Anova, is used as a test of means for two or more populations. In general Anova is reserved for 3 or more populations as a t-test can be performed for 2 groups.\n",
    "\n",
    "Typically the null hypothesis assumes that all group means are equal and the null hypothesis can be rejected if the ANOVA shows that there is sufficient evidence that the means are not the same.\n",
    "\n",
    "\n"
   ]
  },
  {
   "cell_type": "code",
   "execution_count": 21,
   "metadata": {},
   "outputs": [],
   "source": [
    "import pandas as pd\n",
    "from scipy import stats\n",
    "import numpy as np\n",
    "import sklearn.datasets as datasets"
   ]
  },
  {
   "cell_type": "code",
   "execution_count": 14,
   "metadata": {},
   "outputs": [],
   "source": [
    "rng = np.random.default_rng(seed=49)\n",
    "\n",
    "a = rng.normal(1, .5, 100)\n",
    "b = rng.normal(1.5, .7, 100)\n",
    "c = rng.normal(3, 1, 100)"
   ]
  },
  {
   "cell_type": "code",
   "execution_count": 20,
   "metadata": {},
   "outputs": [
    {
     "data": {
      "text/plain": [
       "F_onewayResult(statistic=182.69464339089458, pvalue=1.8578374532297856e-52)"
      ]
     },
     "execution_count": 20,
     "metadata": {},
     "output_type": "execute_result"
    }
   ],
   "source": [
    "stats.f_oneway(*[a,b,c])"
   ]
  },
  {
   "cell_type": "code",
   "execution_count": 16,
   "metadata": {},
   "outputs": [],
   "source": [
    "d = rng.normal(2, .5, 100)\n",
    "f = rng.normal(2, .7, 100)\n",
    "g = rng.normal(2, 1, 100)"
   ]
  },
  {
   "cell_type": "code",
   "execution_count": 17,
   "metadata": {},
   "outputs": [
    {
     "data": {
      "text/plain": [
       "F_onewayResult(statistic=0.6668553786712297, pvalue=0.5140871101527037)"
      ]
     },
     "execution_count": 17,
     "metadata": {},
     "output_type": "execute_result"
    }
   ],
   "source": [
    "stats.f_oneway(d,f,g)"
   ]
  },
  {
   "cell_type": "code",
   "execution_count": 62,
   "metadata": {},
   "outputs": [],
   "source": [
    "data = datasets.load_wine()"
   ]
  },
  {
   "cell_type": "code",
   "execution_count": 63,
   "metadata": {},
   "outputs": [
    {
     "data": {
      "text/plain": [
       "['alcohol',\n",
       " 'malic_acid',\n",
       " 'ash',\n",
       " 'alcalinity_of_ash',\n",
       " 'magnesium',\n",
       " 'total_phenols',\n",
       " 'flavanoids',\n",
       " 'nonflavanoid_phenols',\n",
       " 'proanthocyanins',\n",
       " 'color_intensity',\n",
       " 'hue',\n",
       " 'od280/od315_of_diluted_wines',\n",
       " 'proline']"
      ]
     },
     "execution_count": 63,
     "metadata": {},
     "output_type": "execute_result"
    }
   ],
   "source": [
    "data.feature_names"
   ]
  },
  {
   "cell_type": "code",
   "execution_count": 64,
   "metadata": {},
   "outputs": [],
   "source": [
    "df = pd.DataFrame(data.data, columns= data.feature_names)"
   ]
  },
  {
   "cell_type": "code",
   "execution_count": 66,
   "metadata": {},
   "outputs": [],
   "source": [
    "df['target']= data.target\n",
    "\n"
   ]
  },
  {
   "cell_type": "code",
   "execution_count": 71,
   "metadata": {},
   "outputs": [
    {
     "data": {
      "text/html": [
       "<div>\n",
       "<style scoped>\n",
       "    .dataframe tbody tr th:only-of-type {\n",
       "        vertical-align: middle;\n",
       "    }\n",
       "\n",
       "    .dataframe tbody tr th {\n",
       "        vertical-align: top;\n",
       "    }\n",
       "\n",
       "    .dataframe thead th {\n",
       "        text-align: right;\n",
       "    }\n",
       "</style>\n",
       "<table border=\"1\" class=\"dataframe\">\n",
       "  <thead>\n",
       "    <tr style=\"text-align: right;\">\n",
       "      <th></th>\n",
       "      <th>alcohol</th>\n",
       "      <th>malic_acid</th>\n",
       "      <th>ash</th>\n",
       "      <th>alcalinity_of_ash</th>\n",
       "      <th>magnesium</th>\n",
       "      <th>total_phenols</th>\n",
       "      <th>flavanoids</th>\n",
       "      <th>nonflavanoid_phenols</th>\n",
       "      <th>proanthocyanins</th>\n",
       "      <th>color_intensity</th>\n",
       "      <th>hue</th>\n",
       "      <th>od280/od315_of_diluted_wines</th>\n",
       "      <th>proline</th>\n",
       "      <th>target</th>\n",
       "    </tr>\n",
       "  </thead>\n",
       "  <tbody>\n",
       "    <tr>\n",
       "      <th>count</th>\n",
       "      <td>178.000000</td>\n",
       "      <td>178.000000</td>\n",
       "      <td>178.000000</td>\n",
       "      <td>178.000000</td>\n",
       "      <td>178.000000</td>\n",
       "      <td>178.000000</td>\n",
       "      <td>178.000000</td>\n",
       "      <td>178.000000</td>\n",
       "      <td>178.000000</td>\n",
       "      <td>178.000000</td>\n",
       "      <td>178.000000</td>\n",
       "      <td>178.000000</td>\n",
       "      <td>178.000000</td>\n",
       "      <td>178.000000</td>\n",
       "    </tr>\n",
       "    <tr>\n",
       "      <th>mean</th>\n",
       "      <td>13.000618</td>\n",
       "      <td>2.336348</td>\n",
       "      <td>2.366517</td>\n",
       "      <td>19.494944</td>\n",
       "      <td>99.741573</td>\n",
       "      <td>2.295112</td>\n",
       "      <td>2.029270</td>\n",
       "      <td>0.361854</td>\n",
       "      <td>1.590899</td>\n",
       "      <td>5.058090</td>\n",
       "      <td>0.957449</td>\n",
       "      <td>2.611685</td>\n",
       "      <td>746.893258</td>\n",
       "      <td>0.938202</td>\n",
       "    </tr>\n",
       "    <tr>\n",
       "      <th>std</th>\n",
       "      <td>0.811827</td>\n",
       "      <td>1.117146</td>\n",
       "      <td>0.274344</td>\n",
       "      <td>3.339564</td>\n",
       "      <td>14.282484</td>\n",
       "      <td>0.625851</td>\n",
       "      <td>0.998859</td>\n",
       "      <td>0.124453</td>\n",
       "      <td>0.572359</td>\n",
       "      <td>2.318286</td>\n",
       "      <td>0.228572</td>\n",
       "      <td>0.709990</td>\n",
       "      <td>314.907474</td>\n",
       "      <td>0.775035</td>\n",
       "    </tr>\n",
       "    <tr>\n",
       "      <th>min</th>\n",
       "      <td>11.030000</td>\n",
       "      <td>0.740000</td>\n",
       "      <td>1.360000</td>\n",
       "      <td>10.600000</td>\n",
       "      <td>70.000000</td>\n",
       "      <td>0.980000</td>\n",
       "      <td>0.340000</td>\n",
       "      <td>0.130000</td>\n",
       "      <td>0.410000</td>\n",
       "      <td>1.280000</td>\n",
       "      <td>0.480000</td>\n",
       "      <td>1.270000</td>\n",
       "      <td>278.000000</td>\n",
       "      <td>0.000000</td>\n",
       "    </tr>\n",
       "    <tr>\n",
       "      <th>25%</th>\n",
       "      <td>12.362500</td>\n",
       "      <td>1.602500</td>\n",
       "      <td>2.210000</td>\n",
       "      <td>17.200000</td>\n",
       "      <td>88.000000</td>\n",
       "      <td>1.742500</td>\n",
       "      <td>1.205000</td>\n",
       "      <td>0.270000</td>\n",
       "      <td>1.250000</td>\n",
       "      <td>3.220000</td>\n",
       "      <td>0.782500</td>\n",
       "      <td>1.937500</td>\n",
       "      <td>500.500000</td>\n",
       "      <td>0.000000</td>\n",
       "    </tr>\n",
       "    <tr>\n",
       "      <th>50%</th>\n",
       "      <td>13.050000</td>\n",
       "      <td>1.865000</td>\n",
       "      <td>2.360000</td>\n",
       "      <td>19.500000</td>\n",
       "      <td>98.000000</td>\n",
       "      <td>2.355000</td>\n",
       "      <td>2.135000</td>\n",
       "      <td>0.340000</td>\n",
       "      <td>1.555000</td>\n",
       "      <td>4.690000</td>\n",
       "      <td>0.965000</td>\n",
       "      <td>2.780000</td>\n",
       "      <td>673.500000</td>\n",
       "      <td>1.000000</td>\n",
       "    </tr>\n",
       "    <tr>\n",
       "      <th>75%</th>\n",
       "      <td>13.677500</td>\n",
       "      <td>3.082500</td>\n",
       "      <td>2.557500</td>\n",
       "      <td>21.500000</td>\n",
       "      <td>107.000000</td>\n",
       "      <td>2.800000</td>\n",
       "      <td>2.875000</td>\n",
       "      <td>0.437500</td>\n",
       "      <td>1.950000</td>\n",
       "      <td>6.200000</td>\n",
       "      <td>1.120000</td>\n",
       "      <td>3.170000</td>\n",
       "      <td>985.000000</td>\n",
       "      <td>2.000000</td>\n",
       "    </tr>\n",
       "    <tr>\n",
       "      <th>max</th>\n",
       "      <td>14.830000</td>\n",
       "      <td>5.800000</td>\n",
       "      <td>3.230000</td>\n",
       "      <td>30.000000</td>\n",
       "      <td>162.000000</td>\n",
       "      <td>3.880000</td>\n",
       "      <td>5.080000</td>\n",
       "      <td>0.660000</td>\n",
       "      <td>3.580000</td>\n",
       "      <td>13.000000</td>\n",
       "      <td>1.710000</td>\n",
       "      <td>4.000000</td>\n",
       "      <td>1680.000000</td>\n",
       "      <td>2.000000</td>\n",
       "    </tr>\n",
       "  </tbody>\n",
       "</table>\n",
       "</div>"
      ],
      "text/plain": [
       "          alcohol  malic_acid         ash  alcalinity_of_ash   magnesium  \\\n",
       "count  178.000000  178.000000  178.000000         178.000000  178.000000   \n",
       "mean    13.000618    2.336348    2.366517          19.494944   99.741573   \n",
       "std      0.811827    1.117146    0.274344           3.339564   14.282484   \n",
       "min     11.030000    0.740000    1.360000          10.600000   70.000000   \n",
       "25%     12.362500    1.602500    2.210000          17.200000   88.000000   \n",
       "50%     13.050000    1.865000    2.360000          19.500000   98.000000   \n",
       "75%     13.677500    3.082500    2.557500          21.500000  107.000000   \n",
       "max     14.830000    5.800000    3.230000          30.000000  162.000000   \n",
       "\n",
       "       total_phenols  flavanoids  nonflavanoid_phenols  proanthocyanins  \\\n",
       "count     178.000000  178.000000            178.000000       178.000000   \n",
       "mean        2.295112    2.029270              0.361854         1.590899   \n",
       "std         0.625851    0.998859              0.124453         0.572359   \n",
       "min         0.980000    0.340000              0.130000         0.410000   \n",
       "25%         1.742500    1.205000              0.270000         1.250000   \n",
       "50%         2.355000    2.135000              0.340000         1.555000   \n",
       "75%         2.800000    2.875000              0.437500         1.950000   \n",
       "max         3.880000    5.080000              0.660000         3.580000   \n",
       "\n",
       "       color_intensity         hue  od280/od315_of_diluted_wines      proline  \\\n",
       "count       178.000000  178.000000                    178.000000   178.000000   \n",
       "mean          5.058090    0.957449                      2.611685   746.893258   \n",
       "std           2.318286    0.228572                      0.709990   314.907474   \n",
       "min           1.280000    0.480000                      1.270000   278.000000   \n",
       "25%           3.220000    0.782500                      1.937500   500.500000   \n",
       "50%           4.690000    0.965000                      2.780000   673.500000   \n",
       "75%           6.200000    1.120000                      3.170000   985.000000   \n",
       "max          13.000000    1.710000                      4.000000  1680.000000   \n",
       "\n",
       "           target  \n",
       "count  178.000000  \n",
       "mean     0.938202  \n",
       "std      0.775035  \n",
       "min      0.000000  \n",
       "25%      0.000000  \n",
       "50%      1.000000  \n",
       "75%      2.000000  \n",
       "max      2.000000  "
      ]
     },
     "execution_count": 71,
     "metadata": {},
     "output_type": "execute_result"
    }
   ],
   "source": [
    "df.describe()"
   ]
  },
  {
   "cell_type": "code",
   "execution_count": 76,
   "metadata": {
    "scrolled": false
   },
   "outputs": [
    {
     "name": "stdout",
     "output_type": "stream",
     "text": [
      "Group: 0:\n",
      "          alcohol  malic_acid        ash  alcalinity_of_ash   magnesium  \\\n",
      "count  59.000000   59.000000  59.000000          59.000000   59.000000   \n",
      "mean   13.744746    2.010678   2.455593          17.037288  106.338983   \n",
      "std     0.462125    0.688549   0.227166           2.546322   10.498949   \n",
      "min    12.850000    1.350000   2.040000          11.200000   89.000000   \n",
      "25%    13.400000    1.665000   2.295000          16.000000   98.000000   \n",
      "50%    13.750000    1.770000   2.440000          16.800000  104.000000   \n",
      "75%    14.100000    1.935000   2.615000          18.700000  114.000000   \n",
      "max    14.830000    4.040000   3.220000          25.000000  132.000000   \n",
      "\n",
      "       total_phenols  flavanoids  nonflavanoid_phenols  proanthocyanins  \\\n",
      "count      59.000000   59.000000             59.000000        59.000000   \n",
      "mean        2.840169    2.982373              0.290000         1.899322   \n",
      "std         0.338961    0.397494              0.070049         0.412109   \n",
      "min         2.200000    2.190000              0.170000         1.250000   \n",
      "25%         2.600000    2.680000              0.255000         1.640000   \n",
      "50%         2.800000    2.980000              0.290000         1.870000   \n",
      "75%         3.000000    3.245000              0.320000         2.090000   \n",
      "max         3.880000    3.930000              0.500000         2.960000   \n",
      "\n",
      "       color_intensity        hue  od280/od315_of_diluted_wines      proline  \\\n",
      "count        59.000000  59.000000                     59.000000    59.000000   \n",
      "mean          5.528305   1.062034                      3.157797  1115.711864   \n",
      "std           1.238573   0.116483                      0.357077   221.520767   \n",
      "min           3.520000   0.820000                      2.510000   680.000000   \n",
      "25%           4.550000   0.995000                      2.870000   987.500000   \n",
      "50%           5.400000   1.070000                      3.170000  1095.000000   \n",
      "75%           6.225000   1.130000                      3.420000  1280.000000   \n",
      "max           8.900000   1.280000                      4.000000  1680.000000   \n",
      "\n",
      "       target  \n",
      "count    59.0  \n",
      "mean      0.0  \n",
      "std       0.0  \n",
      "min       0.0  \n",
      "25%       0.0  \n",
      "50%       0.0  \n",
      "75%       0.0  \n",
      "max       0.0  \n",
      "Group: 1:\n",
      "          alcohol  malic_acid        ash  alcalinity_of_ash   magnesium  \\\n",
      "count  71.000000   71.000000  71.000000          71.000000   71.000000   \n",
      "mean   12.278732    1.932676   2.244789          20.238028   94.549296   \n",
      "std     0.537964    1.015569   0.315467           3.349770   16.753497   \n",
      "min    11.030000    0.740000   1.360000          10.600000   70.000000   \n",
      "25%    11.915000    1.270000   2.000000          18.000000   85.500000   \n",
      "50%    12.290000    1.610000   2.240000          20.000000   88.000000   \n",
      "75%    12.515000    2.145000   2.420000          22.000000   99.500000   \n",
      "max    13.860000    5.800000   3.230000          30.000000  162.000000   \n",
      "\n",
      "       total_phenols  flavanoids  nonflavanoid_phenols  proanthocyanins  \\\n",
      "count      71.000000   71.000000             71.000000        71.000000   \n",
      "mean        2.258873    2.080845              0.363662         1.630282   \n",
      "std         0.545361    0.705701              0.123961         0.602068   \n",
      "min         1.100000    0.570000              0.130000         0.410000   \n",
      "25%         1.895000    1.605000              0.270000         1.350000   \n",
      "50%         2.200000    2.030000              0.370000         1.610000   \n",
      "75%         2.560000    2.475000              0.430000         1.885000   \n",
      "max         3.520000    5.080000              0.660000         3.580000   \n",
      "\n",
      "       color_intensity        hue  od280/od315_of_diluted_wines     proline  \\\n",
      "count        71.000000  71.000000                     71.000000   71.000000   \n",
      "mean          3.086620   1.056282                      2.785352  519.507042   \n",
      "std           0.924929   0.202937                      0.496573  157.211220   \n",
      "min           1.280000   0.690000                      1.590000  278.000000   \n",
      "25%           2.535000   0.925000                      2.440000  406.500000   \n",
      "50%           2.900000   1.040000                      2.830000  495.000000   \n",
      "75%           3.400000   1.205000                      3.160000  625.000000   \n",
      "max           6.000000   1.710000                      3.690000  985.000000   \n",
      "\n",
      "       target  \n",
      "count    71.0  \n",
      "mean      1.0  \n",
      "std       0.0  \n",
      "min       1.0  \n",
      "25%       1.0  \n",
      "50%       1.0  \n",
      "75%       1.0  \n",
      "max       1.0  \n",
      "Group: 2:\n",
      "          alcohol  malic_acid        ash  alcalinity_of_ash   magnesium  \\\n",
      "count  48.000000   48.000000  48.000000          48.000000   48.000000   \n",
      "mean   13.153750    3.333750   2.437083          21.416667   99.312500   \n",
      "std     0.530241    1.087906   0.184690           2.258161   10.890473   \n",
      "min    12.200000    1.240000   2.100000          17.500000   80.000000   \n",
      "25%    12.805000    2.587500   2.300000          20.000000   89.750000   \n",
      "50%    13.165000    3.265000   2.380000          21.000000   97.000000   \n",
      "75%    13.505000    3.957500   2.602500          23.000000  106.000000   \n",
      "max    14.340000    5.650000   2.860000          27.000000  123.000000   \n",
      "\n",
      "       total_phenols  flavanoids  nonflavanoid_phenols  proanthocyanins  \\\n",
      "count      48.000000   48.000000              48.00000        48.000000   \n",
      "mean        1.678750    0.781458               0.44750         1.153542   \n",
      "std         0.356971    0.293504               0.12414         0.408836   \n",
      "min         0.980000    0.340000               0.17000         0.550000   \n",
      "25%         1.407500    0.580000               0.39750         0.855000   \n",
      "50%         1.635000    0.685000               0.47000         1.105000   \n",
      "75%         1.807500    0.920000               0.53000         1.350000   \n",
      "max         2.800000    1.570000               0.63000         2.700000   \n",
      "\n",
      "       color_intensity        hue  od280/od315_of_diluted_wines     proline  \\\n",
      "count        48.000000  48.000000                     48.000000   48.000000   \n",
      "mean          7.396250   0.682708                      1.683542  629.895833   \n",
      "std           2.310942   0.114441                      0.272111  115.097043   \n",
      "min           3.850000   0.480000                      1.270000  415.000000   \n",
      "25%           5.437500   0.587500                      1.510000  545.000000   \n",
      "50%           7.550000   0.665000                      1.660000  627.500000   \n",
      "75%           9.225000   0.752500                      1.820000  695.000000   \n",
      "max          13.000000   0.960000                      2.470000  880.000000   \n",
      "\n",
      "       target  \n",
      "count    48.0  \n",
      "mean      2.0  \n",
      "std       0.0  \n",
      "min       2.0  \n",
      "25%       2.0  \n",
      "50%       2.0  \n",
      "75%       2.0  \n",
      "max       2.0  \n"
     ]
    }
   ],
   "source": [
    "group_A = df[df['target']==0]\n",
    "group_B = df[df['target']==1]\n",
    "group_C = df[df['target']==2]\n",
    "\n",
    "groups = [group_A, group_B, group_C]\n",
    "\n",
    "count = 0\n",
    "for group in groups:\n",
    "    \n",
    "    print(f\"Group: {count}:\\n {group.describe()}\")\n",
    "    count +=1"
   ]
  },
  {
   "cell_type": "code",
   "execution_count": 79,
   "metadata": {},
   "outputs": [
    {
     "data": {
      "text/plain": [
       "F_onewayResult(statistic=135.07762424279912, pvalue=3.319503795619655e-36)"
      ]
     },
     "execution_count": 79,
     "metadata": {},
     "output_type": "execute_result"
    }
   ],
   "source": [
    "stats.f_oneway(group_A[\"alcohol\"],group_B[\"alcohol\"],group_C[\"alcohol\"])"
   ]
  },
  {
   "cell_type": "code",
   "execution_count": 80,
   "metadata": {},
   "outputs": [
    {
     "data": {
      "text/plain": [
       "F_onewayResult(statistic=101.31679539030002, pvalue=5.9176622163620664e-30)"
      ]
     },
     "execution_count": 80,
     "metadata": {},
     "output_type": "execute_result"
    }
   ],
   "source": [
    "stats.f_oneway(group_A[\"hue\"],group_B[\"hue\"],group_C[\"hue\"])"
   ]
  },
  {
   "cell_type": "code",
   "execution_count": null,
   "metadata": {},
   "outputs": [],
   "source": []
  },
  {
   "cell_type": "code",
   "execution_count": null,
   "metadata": {},
   "outputs": [],
   "source": []
  },
  {
   "cell_type": "code",
   "execution_count": null,
   "metadata": {},
   "outputs": [],
   "source": []
  },
  {
   "cell_type": "markdown",
   "metadata": {},
   "source": [
    "# References"
   ]
  },
  {
   "cell_type": "markdown",
   "metadata": {},
   "source": [
    "https://realpython.com/numpy-scipy-pandas-correlation-python/\n",
    "    \n",
    "https://docs.scipy.org/doc/scipy/reference/tutorial/general.html"
   ]
  },
  {
   "cell_type": "markdown",
   "metadata": {},
   "source": [
    "Numpy & Scipy file:///C:/Users/hogan/Downloads/Eli%20Bressert%20-%20SciPy%20and%20NumPy_%20An%20Overview%20for%20Developers-O'Reilly%20Media%20(2012).pdf"
   ]
  },
  {
   "cell_type": "code",
   "execution_count": null,
   "metadata": {},
   "outputs": [],
   "source": []
  }
 ],
 "metadata": {
  "kernelspec": {
   "display_name": "Python 3",
   "language": "python",
   "name": "python3"
  },
  "language_info": {
   "codemirror_mode": {
    "name": "ipython",
    "version": 3
   },
   "file_extension": ".py",
   "mimetype": "text/x-python",
   "name": "python",
   "nbconvert_exporter": "python",
   "pygments_lexer": "ipython3",
   "version": "3.8.3"
  }
 },
 "nbformat": 4,
 "nbformat_minor": 4
}
