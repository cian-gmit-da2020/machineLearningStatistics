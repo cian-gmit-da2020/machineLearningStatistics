{
 "cells": [
  {
   "cell_type": "markdown",
   "metadata": {},
   "source": [
    "# Cian Hogan\n",
    "## Machine Learning and Statistics Module\n",
    "## GMIT Data Analytics\n",
    "### Final Assessment"
   ]
  },
  {
   "cell_type": "markdown",
   "metadata": {},
   "source": [
    "<img src=\"https://docs.scipy.org/doc/scipy/_static/scipyshiny_small.png\" alt=\"Scikit-Learn Logo\" align=\"left\" border=0/>  \n"
   ]
  },
  {
   "cell_type": "markdown",
   "metadata": {},
   "source": [
    "# SciPy.stats"
   ]
  },
  {
   "cell_type": "markdown",
   "metadata": {},
   "source": [
    "# Introduction"
   ]
  },
  {
   "cell_type": "markdown",
   "metadata": {},
   "source": [
    "SciPy is a third-party python library for scientific computing. It is based on the numpy package and provides a collection of mathematical algorithms and conveniece functions for advanced statistical analysis. The package provides algorithms for optimization, integration, interpolation, eigenvalue problems, algebraic equations, differential equations, statistics and more.(scipy.org, 2021)\n",
    "\n",
    "Below are a list of all available modules within the SciPy ecosystem:\n",
    "- Special functions (scipy.special)\n",
    "- Integration (scipy.integrate)\n",
    "- Optimization (scipy.optimize)\n",
    "- Interpolation (scipy.interpolate)\n",
    "- Fourier Transforms (scipy.fft)\n",
    "- Signal Processing (scipy.signal)\n",
    "- Linear Algebra (scipy.linalg)\n",
    "- Sparse eigenvalue problems with ARPACK\n",
    "- Compressed Sparse Graph Routines (scipy.sparse.csgraph)\n",
    "- Spatial data structures and algorithms (scipy.spatial)\n",
    "- Statistics (scipy.stats)\n",
    "- Multidimensional image processing (scipy.ndimage)\n",
    "- File IO (scipy.io)\n",
    "\n",
    "This project will focus on the statistics package, **scipy.stats**, contained within the scipy library and examine how the package can be used to conduct hypothesis testing in the form of ANOVA.\n",
    "***"
   ]
  },
  {
   "cell_type": "markdown",
   "metadata": {},
   "source": [
    "# SciPy Stats\n",
    "\n",
    "The scipy.stats module contains a vast array of array of statistical functions that provide access to probability distributions, summary and frequency statistics, kernal density estimates, correlation functions and statistical tests and  more.\n",
    "\n",
    "The python package Numpy, for numerical computing, offers a number of statistical functions for quick calculations, such as mean, median, standard deviation ect. The scipy stats module exapnds on this fucntionality allowing the use of more advanced statistical functions, probability distributions and other statistical methods.(Bressert, E, 2013)\n",
    "\n",
    "\n",
    "The scipy.stats provides functions for over 100 probability distributions, dozens of statistical functions and statistical tests. Each of these could be examined in great detail. For the purposes of this report, we will look specifically at performing an ANOVA anylsis using the methods provided within scipy.stats.\n",
    "***"
   ]
  },
  {
   "cell_type": "markdown",
   "metadata": {},
   "source": [
    "# Anova\n",
    "\n",
    "ANOVA (Analysis of variance) is a statistical technique for examining the differences between the means of two or more populations. In general Anova is reserved for 3 or more populations as a t-test can be performed for 2 groups.\n",
    "\n",
    "Typically the null hypothesis assumes that all group means are equal, and the alternative hypothesis is that the means are significantly different. For the null hypothesis to be rejected, the ANOVA must shows that there is sufficient evidence to support that the means are not the same.\n",
    "\n",
    "An ANOVA must have a continous (metric) dependent variable, and two or more categorical (non-metric) independent variables. For example, house prices could be our dependent variable, a house has a distinct price in euros, and our indoendent variables could be province of purchase (Munster, Leinster, Connacht, Ulster). The indedepent variable is also called the factor. \n",
    "\n",
    "The simplest form of ANOVA is a one-way ANOVA where there is only one categorical variable to consider. If more than one factors are used, it requires an n-way ANOVA analysis. For the purposes of our analysis we will only consider a One-way ANOVA. (Malhorta,N & Birks,D, 2006)\n",
    "***"
   ]
  },
  {
   "cell_type": "markdown",
   "metadata": {},
   "source": [
    "# One-Way ANOVA\n",
    "One-way ANOVA examines the difference of the mean values of a dependent variable, for several categories of a single independent variable.\n",
    "\n",
    "The null hypothesis is that the means for each group (different independent variable) are the same. If the null hypothesis is not rejected then the independent variable can be said to not have significant effect on the dependent (metric) variable.\n",
    "\n",
    "If the null hypothesis is rejected and the alternative accepted, then the independent variable does have a significant effect on the dependent variable. To analyse whether we can reject the null hypothesis we use ANOVA to calculate the F-statistic and P value of the data, and if the F-statistic exceeds the critical value based of the F-distribution, we can reject the null hypothesis that the means are the same. (Malhorta,N & Birks,D, 2006)\n",
    "***"
   ]
  },
  {
   "cell_type": "markdown",
   "metadata": {},
   "source": [
    "## Assumptions\n",
    "\n",
    "Before we complete our AVONA analysis, we must first make sure our data meets the criteria to be used with ANOVA. To do this this we must make sure the data meets the below assumptions.\n",
    "\n",
    "1. The dependent variable must be continuous, ie it should be a metric value.\n",
    "\n",
    "2. The independent variable must consist of 3 or more categorical values. In general ANOVA is reserverd for 3 or more groups or categories.\n",
    "\n",
    "3. There should be independence of observations, meaning that there should be no cross-over between the groups. This is most appllicable in the study design stage but important to remember when assessing if ANOVA is an appropriate statistical test.\n",
    "\n",
    "4. There should be no significant outliers, outliers can have a large negative effect on the perfromance of the ANOVA analysis. \n",
    "\n",
    "5. The dependent variable for each category should follow an approximate normal distribution. It is possible to test for normality using the the Shapiro-Wilk test of normality.\n",
    "\n",
    "6. There should be homogeneity of variances between the category samples. This means that the samples should show a similar spread of values from the means. (statistics.laerd.com, 2018)\n"
   ]
  },
  {
   "cell_type": "markdown",
   "metadata": {},
   "source": [
    "## F statistic\n",
    "\n",
    "The F-Statistic is a ratio of the Between-category variation and the Within-category variation, listed below as SSx and SSerror respectively.\n",
    "\n",
    "SSx or Between-category variation is calculated as, the sum of each of the category means minus the overall mean of the total sample squared, multiplied by the number of samples in the category, written as:\n",
    "\n",
    "$SSx =\\sum_{}$n(category mean - sample mean)$^2$\n",
    "\n",
    "SSerror or within-category variation is calculated as, the sum of each value, minus it's own category mean and squared, written as:\n",
    "\n",
    "$SSerror =\\sum_{}$(each individual value - category mean)$^2$\n",
    "\n",
    "To calculate the F statistic we take our SSx and SSerror and perform a finals calculation to determine the F-ratio or F statistic. Calculating the F statistic requires the use of 2 more variables, the degrees of freedom numerator (dfn) and the degrees of freedom denominator (dfd). The dfn is defined as the number of categories minus 1. the dfd is defined as the number of samples minus the number of categories. In our example below we have 3 categories and 30 total samples so our dfn is 2 and our dfd is 27.\n",
    "\n",
    "The F statistic is equal to SSx divided by the dfn over the SSerror divided by the dfd, written as:\n",
    "\n",
    "$ SSx | dfn \\over SSerror | dfd $\n",
    "\n",
    "(Malhorta,N & Birks,D, 2006)\n",
    "***"
   ]
  },
  {
   "cell_type": "markdown",
   "metadata": {},
   "source": [
    "## Manual ANOVA\n",
    "\n",
    "Now that we have shown above how the ANOVA can be completed, we can use python to manually calculate our F statistic.\n",
    "\n",
    "To start we import a number of packages which will be used throughout the report. Using Numpy's random module we can create 3 random groups of data, a, b and c. Each group has 10 values, ranging between 0 and 10. For easier calculations we also create a list of our entire sample, called totalSample and calculate the mean of the sample, **4.13**."
   ]
  },
  {
   "cell_type": "code",
   "execution_count": 112,
   "metadata": {},
   "outputs": [
    {
     "data": {
      "text/plain": [
       "4.133333333333334"
      ]
     },
     "execution_count": 112,
     "metadata": {},
     "output_type": "execute_result"
    }
   ],
   "source": [
    "import pandas as pd\n",
    "from scipy import stats\n",
    "import numpy as np\n",
    "import sklearn.datasets as datasets\n",
    "import matplotlib.pyplot as plt\n",
    "\n",
    "rng = np.random.default_rng(seed=49)\n",
    "\n",
    "a = rng.integers(low=0, high=10, size=10)\n",
    "b = rng.integers(low=0, high=10, size=10)\n",
    "c = rng.integers(low=0, high=10, size=10)\n",
    "\n",
    "totalSample = []\n",
    "\n",
    "for i in [a,b,c]:\n",
    "    for j in i:\n",
    "        totalSample.append(j)\n",
    "        \n",
    "sampleMean = sum(totalSample)/len(totalSample)\n",
    "sampleMean"
   ]
  },
  {
   "cell_type": "markdown",
   "metadata": {},
   "source": [
    "Next we can calculate the value for SSx. Here we loop through each category and calculate the mean of each category, take the overall sample mean away, square our result and multiple by the number of samples in the given category. This gives us a total SSx of **6.066**."
   ]
  },
  {
   "cell_type": "code",
   "execution_count": 113,
   "metadata": {},
   "outputs": [
    {
     "data": {
      "text/plain": [
       "6.066666666666668"
      ]
     },
     "execution_count": 113,
     "metadata": {},
     "output_type": "execute_result"
    }
   ],
   "source": [
    "SSx = 0\n",
    "\n",
    "for i in [a,b,c]:\n",
    "    catMean = (sum(i)/len(i))\n",
    "    SSx += len(i)*((catMean-sampleMean)**2)\n",
    "    \n",
    "SSx"
   ]
  },
  {
   "cell_type": "markdown",
   "metadata": {},
   "source": [
    "Now that we have our SSx value, we need our SSerror to be able to find our F statistic. To calculate SSerror, we loop through a list of categories and use a second loop to loop through each value within those categories. We take the category mean from the value and square the result adding the squared result to our sum variable SSerror. Our total for SSerror is **269.4**"
   ]
  },
  {
   "cell_type": "code",
   "execution_count": 115,
   "metadata": {},
   "outputs": [
    {
     "data": {
      "text/plain": [
       "269.4"
      ]
     },
     "execution_count": 115,
     "metadata": {},
     "output_type": "execute_result"
    }
   ],
   "source": [
    "SSerror = 0\n",
    "\n",
    "for i in [a,b,c]:\n",
    "    for j in i:\n",
    "        catMean = (sum(i)/len(i))\n",
    "        SSerror += (j-catMean)**2\n",
    "        \n",
    "SSerror"
   ]
  },
  {
   "cell_type": "markdown",
   "metadata": {},
   "source": [
    "We can check our work by fidning the total variation within the sample. The total variation is denoted as SSy and should be equal to SSx + SSerror. SSy is calculated as the Sum of the square of each value in the sample minus the total sample mean. In our case the result is **275.47** which is the same as SSx + SSerror.\n",
    "\n",
    "$ SSy = SSx + SSerror $"
   ]
  },
  {
   "cell_type": "code",
   "execution_count": 117,
   "metadata": {},
   "outputs": [
    {
     "name": "stdout",
     "output_type": "stream",
     "text": [
      "Total Variation: 275.47, Between Category + Within Category Variation 275.47\n"
     ]
    }
   ],
   "source": [
    "SSy = 0\n",
    "for i in totalSample:\n",
    "    SSy += (i-sampleMean)**2\n",
    "    \n",
    "print(f\"Total Variation: {round(SSy,2)}, Between Category + Within Category Variation {round(SSerror+SSx,2)}\")"
   ]
  },
  {
   "cell_type": "markdown",
   "metadata": {},
   "source": [
    "Now that we have calculated our SSx and SSerror, and verified our results are equal to SSy, we can calculate our F statistic.\n",
    "\n",
    "First we set our dfn and dfd variables for our degrees of freedom. Then we calculate our F statistic as: $ SSx | dfn \\over SSerror | dfd $ which equates to **0.3040** "
   ]
  },
  {
   "cell_type": "code",
   "execution_count": 121,
   "metadata": {},
   "outputs": [
    {
     "name": "stdout",
     "output_type": "stream",
     "text": [
      "F statistic for the groups a,b,c: 0.304\n"
     ]
    }
   ],
   "source": [
    "dfn, dfd = (3-1), ((len(group)-3)) \n",
    "\n",
    "F_stat = (SSx/dfn)/(SSerror/dfd)\n",
    "\n",
    "print(f\"F statistic for the groups a,b,c: {round(F_stat,4)}\")"
   ]
  },
  {
   "cell_type": "markdown",
   "metadata": {},
   "source": [
    "### F Statistic using scipy.stats\n",
    "\n",
    "The scipy.stats module provides a convenient funtion call f_oneway that completes all the above calculations for us and retuns an F statistic and p value for our samples. With a single line of code, shown below we can work out the same F statistic from above as **0.30400**. (scipy.org, 2021)"
   ]
  },
  {
   "cell_type": "code",
   "execution_count": 123,
   "metadata": {},
   "outputs": [
    {
     "data": {
      "text/plain": [
       "F_onewayResult(statistic=0.30400890868596886, pvalue=0.7403468919825463)"
      ]
     },
     "execution_count": 123,
     "metadata": {},
     "output_type": "execute_result"
    }
   ],
   "source": [
    "stats.f_oneway(a,b,c)"
   ]
  },
  {
   "cell_type": "markdown",
   "metadata": {},
   "source": [
    "## Accept or Reject the null hypothesis\n",
    "\n",
    "As noted earlier we can reject the null hypothesis, only if the F statistic is larger than the critical value, from the F distribution based on the degrees or freedom and significance level chosen. The below chart shos an F distribution chart for a significance of **.05**. \n",
    "\n",
    "We can find the critical value by referencing down from the degrees fo freedom for the numerator (2) and accross from the degreess of freedom for the denominator (27). From the chart below we see that the critical value is **3.35**.\n",
    "\n",
    "For us to reject the null hypothesis the F statistic must be over 3.35 for our confidence level .05. In our case above the F statistic is much lower than this so we can accept the null hypothesis that the means of the 3 categories are the same.\n",
    "<br>\n",
    "\n",
    "![](https://www.statology.org/wp-content/uploads/2018/09/f.05.png)"
   ]
  },
  {
   "cell_type": "markdown",
   "metadata": {},
   "source": [
    "# Real World Data and Anova\n",
    "\n",
    "Now that we have looked at the theory behind the ANOVA test we can perform an ANOVA analysis on data from real world observations."
   ]
  },
  {
   "cell_type": "code",
   "execution_count": 125,
   "metadata": {},
   "outputs": [],
   "source": [
    "data = datasets.load_wine()"
   ]
  },
  {
   "cell_type": "code",
   "execution_count": 129,
   "metadata": {},
   "outputs": [
    {
     "data": {
      "text/plain": [
       "array(['class_0', 'class_1', 'class_2'], dtype='<U7')"
      ]
     },
     "execution_count": 129,
     "metadata": {},
     "output_type": "execute_result"
    }
   ],
   "source": [
    "data.target_names"
   ]
  },
  {
   "cell_type": "code",
   "execution_count": null,
   "metadata": {},
   "outputs": [],
   "source": []
  },
  {
   "cell_type": "code",
   "execution_count": null,
   "metadata": {},
   "outputs": [],
   "source": []
  },
  {
   "cell_type": "code",
   "execution_count": null,
   "metadata": {},
   "outputs": [],
   "source": []
  },
  {
   "cell_type": "code",
   "execution_count": 62,
   "metadata": {},
   "outputs": [],
   "source": [
    "data = datasets.load_wine()"
   ]
  },
  {
   "cell_type": "code",
   "execution_count": 63,
   "metadata": {},
   "outputs": [
    {
     "data": {
      "text/plain": [
       "['alcohol',\n",
       " 'malic_acid',\n",
       " 'ash',\n",
       " 'alcalinity_of_ash',\n",
       " 'magnesium',\n",
       " 'total_phenols',\n",
       " 'flavanoids',\n",
       " 'nonflavanoid_phenols',\n",
       " 'proanthocyanins',\n",
       " 'color_intensity',\n",
       " 'hue',\n",
       " 'od280/od315_of_diluted_wines',\n",
       " 'proline']"
      ]
     },
     "execution_count": 63,
     "metadata": {},
     "output_type": "execute_result"
    }
   ],
   "source": [
    "data.feature_names"
   ]
  },
  {
   "cell_type": "code",
   "execution_count": 64,
   "metadata": {},
   "outputs": [],
   "source": [
    "df = pd.DataFrame(data.data, columns= data.feature_names)"
   ]
  },
  {
   "cell_type": "code",
   "execution_count": 66,
   "metadata": {},
   "outputs": [],
   "source": [
    "df['target']= data.target\n",
    "\n"
   ]
  },
  {
   "cell_type": "code",
   "execution_count": 71,
   "metadata": {},
   "outputs": [
    {
     "data": {
      "text/html": [
       "<div>\n",
       "<style scoped>\n",
       "    .dataframe tbody tr th:only-of-type {\n",
       "        vertical-align: middle;\n",
       "    }\n",
       "\n",
       "    .dataframe tbody tr th {\n",
       "        vertical-align: top;\n",
       "    }\n",
       "\n",
       "    .dataframe thead th {\n",
       "        text-align: right;\n",
       "    }\n",
       "</style>\n",
       "<table border=\"1\" class=\"dataframe\">\n",
       "  <thead>\n",
       "    <tr style=\"text-align: right;\">\n",
       "      <th></th>\n",
       "      <th>alcohol</th>\n",
       "      <th>malic_acid</th>\n",
       "      <th>ash</th>\n",
       "      <th>alcalinity_of_ash</th>\n",
       "      <th>magnesium</th>\n",
       "      <th>total_phenols</th>\n",
       "      <th>flavanoids</th>\n",
       "      <th>nonflavanoid_phenols</th>\n",
       "      <th>proanthocyanins</th>\n",
       "      <th>color_intensity</th>\n",
       "      <th>hue</th>\n",
       "      <th>od280/od315_of_diluted_wines</th>\n",
       "      <th>proline</th>\n",
       "      <th>target</th>\n",
       "    </tr>\n",
       "  </thead>\n",
       "  <tbody>\n",
       "    <tr>\n",
       "      <th>count</th>\n",
       "      <td>178.000000</td>\n",
       "      <td>178.000000</td>\n",
       "      <td>178.000000</td>\n",
       "      <td>178.000000</td>\n",
       "      <td>178.000000</td>\n",
       "      <td>178.000000</td>\n",
       "      <td>178.000000</td>\n",
       "      <td>178.000000</td>\n",
       "      <td>178.000000</td>\n",
       "      <td>178.000000</td>\n",
       "      <td>178.000000</td>\n",
       "      <td>178.000000</td>\n",
       "      <td>178.000000</td>\n",
       "      <td>178.000000</td>\n",
       "    </tr>\n",
       "    <tr>\n",
       "      <th>mean</th>\n",
       "      <td>13.000618</td>\n",
       "      <td>2.336348</td>\n",
       "      <td>2.366517</td>\n",
       "      <td>19.494944</td>\n",
       "      <td>99.741573</td>\n",
       "      <td>2.295112</td>\n",
       "      <td>2.029270</td>\n",
       "      <td>0.361854</td>\n",
       "      <td>1.590899</td>\n",
       "      <td>5.058090</td>\n",
       "      <td>0.957449</td>\n",
       "      <td>2.611685</td>\n",
       "      <td>746.893258</td>\n",
       "      <td>0.938202</td>\n",
       "    </tr>\n",
       "    <tr>\n",
       "      <th>std</th>\n",
       "      <td>0.811827</td>\n",
       "      <td>1.117146</td>\n",
       "      <td>0.274344</td>\n",
       "      <td>3.339564</td>\n",
       "      <td>14.282484</td>\n",
       "      <td>0.625851</td>\n",
       "      <td>0.998859</td>\n",
       "      <td>0.124453</td>\n",
       "      <td>0.572359</td>\n",
       "      <td>2.318286</td>\n",
       "      <td>0.228572</td>\n",
       "      <td>0.709990</td>\n",
       "      <td>314.907474</td>\n",
       "      <td>0.775035</td>\n",
       "    </tr>\n",
       "    <tr>\n",
       "      <th>min</th>\n",
       "      <td>11.030000</td>\n",
       "      <td>0.740000</td>\n",
       "      <td>1.360000</td>\n",
       "      <td>10.600000</td>\n",
       "      <td>70.000000</td>\n",
       "      <td>0.980000</td>\n",
       "      <td>0.340000</td>\n",
       "      <td>0.130000</td>\n",
       "      <td>0.410000</td>\n",
       "      <td>1.280000</td>\n",
       "      <td>0.480000</td>\n",
       "      <td>1.270000</td>\n",
       "      <td>278.000000</td>\n",
       "      <td>0.000000</td>\n",
       "    </tr>\n",
       "    <tr>\n",
       "      <th>25%</th>\n",
       "      <td>12.362500</td>\n",
       "      <td>1.602500</td>\n",
       "      <td>2.210000</td>\n",
       "      <td>17.200000</td>\n",
       "      <td>88.000000</td>\n",
       "      <td>1.742500</td>\n",
       "      <td>1.205000</td>\n",
       "      <td>0.270000</td>\n",
       "      <td>1.250000</td>\n",
       "      <td>3.220000</td>\n",
       "      <td>0.782500</td>\n",
       "      <td>1.937500</td>\n",
       "      <td>500.500000</td>\n",
       "      <td>0.000000</td>\n",
       "    </tr>\n",
       "    <tr>\n",
       "      <th>50%</th>\n",
       "      <td>13.050000</td>\n",
       "      <td>1.865000</td>\n",
       "      <td>2.360000</td>\n",
       "      <td>19.500000</td>\n",
       "      <td>98.000000</td>\n",
       "      <td>2.355000</td>\n",
       "      <td>2.135000</td>\n",
       "      <td>0.340000</td>\n",
       "      <td>1.555000</td>\n",
       "      <td>4.690000</td>\n",
       "      <td>0.965000</td>\n",
       "      <td>2.780000</td>\n",
       "      <td>673.500000</td>\n",
       "      <td>1.000000</td>\n",
       "    </tr>\n",
       "    <tr>\n",
       "      <th>75%</th>\n",
       "      <td>13.677500</td>\n",
       "      <td>3.082500</td>\n",
       "      <td>2.557500</td>\n",
       "      <td>21.500000</td>\n",
       "      <td>107.000000</td>\n",
       "      <td>2.800000</td>\n",
       "      <td>2.875000</td>\n",
       "      <td>0.437500</td>\n",
       "      <td>1.950000</td>\n",
       "      <td>6.200000</td>\n",
       "      <td>1.120000</td>\n",
       "      <td>3.170000</td>\n",
       "      <td>985.000000</td>\n",
       "      <td>2.000000</td>\n",
       "    </tr>\n",
       "    <tr>\n",
       "      <th>max</th>\n",
       "      <td>14.830000</td>\n",
       "      <td>5.800000</td>\n",
       "      <td>3.230000</td>\n",
       "      <td>30.000000</td>\n",
       "      <td>162.000000</td>\n",
       "      <td>3.880000</td>\n",
       "      <td>5.080000</td>\n",
       "      <td>0.660000</td>\n",
       "      <td>3.580000</td>\n",
       "      <td>13.000000</td>\n",
       "      <td>1.710000</td>\n",
       "      <td>4.000000</td>\n",
       "      <td>1680.000000</td>\n",
       "      <td>2.000000</td>\n",
       "    </tr>\n",
       "  </tbody>\n",
       "</table>\n",
       "</div>"
      ],
      "text/plain": [
       "          alcohol  malic_acid         ash  alcalinity_of_ash   magnesium  \\\n",
       "count  178.000000  178.000000  178.000000         178.000000  178.000000   \n",
       "mean    13.000618    2.336348    2.366517          19.494944   99.741573   \n",
       "std      0.811827    1.117146    0.274344           3.339564   14.282484   \n",
       "min     11.030000    0.740000    1.360000          10.600000   70.000000   \n",
       "25%     12.362500    1.602500    2.210000          17.200000   88.000000   \n",
       "50%     13.050000    1.865000    2.360000          19.500000   98.000000   \n",
       "75%     13.677500    3.082500    2.557500          21.500000  107.000000   \n",
       "max     14.830000    5.800000    3.230000          30.000000  162.000000   \n",
       "\n",
       "       total_phenols  flavanoids  nonflavanoid_phenols  proanthocyanins  \\\n",
       "count     178.000000  178.000000            178.000000       178.000000   \n",
       "mean        2.295112    2.029270              0.361854         1.590899   \n",
       "std         0.625851    0.998859              0.124453         0.572359   \n",
       "min         0.980000    0.340000              0.130000         0.410000   \n",
       "25%         1.742500    1.205000              0.270000         1.250000   \n",
       "50%         2.355000    2.135000              0.340000         1.555000   \n",
       "75%         2.800000    2.875000              0.437500         1.950000   \n",
       "max         3.880000    5.080000              0.660000         3.580000   \n",
       "\n",
       "       color_intensity         hue  od280/od315_of_diluted_wines      proline  \\\n",
       "count       178.000000  178.000000                    178.000000   178.000000   \n",
       "mean          5.058090    0.957449                      2.611685   746.893258   \n",
       "std           2.318286    0.228572                      0.709990   314.907474   \n",
       "min           1.280000    0.480000                      1.270000   278.000000   \n",
       "25%           3.220000    0.782500                      1.937500   500.500000   \n",
       "50%           4.690000    0.965000                      2.780000   673.500000   \n",
       "75%           6.200000    1.120000                      3.170000   985.000000   \n",
       "max          13.000000    1.710000                      4.000000  1680.000000   \n",
       "\n",
       "           target  \n",
       "count  178.000000  \n",
       "mean     0.938202  \n",
       "std      0.775035  \n",
       "min      0.000000  \n",
       "25%      0.000000  \n",
       "50%      1.000000  \n",
       "75%      2.000000  \n",
       "max      2.000000  "
      ]
     },
     "execution_count": 71,
     "metadata": {},
     "output_type": "execute_result"
    }
   ],
   "source": [
    "df.describe()"
   ]
  },
  {
   "cell_type": "code",
   "execution_count": 76,
   "metadata": {
    "scrolled": false
   },
   "outputs": [
    {
     "name": "stdout",
     "output_type": "stream",
     "text": [
      "Group: 0:\n",
      "          alcohol  malic_acid        ash  alcalinity_of_ash   magnesium  \\\n",
      "count  59.000000   59.000000  59.000000          59.000000   59.000000   \n",
      "mean   13.744746    2.010678   2.455593          17.037288  106.338983   \n",
      "std     0.462125    0.688549   0.227166           2.546322   10.498949   \n",
      "min    12.850000    1.350000   2.040000          11.200000   89.000000   \n",
      "25%    13.400000    1.665000   2.295000          16.000000   98.000000   \n",
      "50%    13.750000    1.770000   2.440000          16.800000  104.000000   \n",
      "75%    14.100000    1.935000   2.615000          18.700000  114.000000   \n",
      "max    14.830000    4.040000   3.220000          25.000000  132.000000   \n",
      "\n",
      "       total_phenols  flavanoids  nonflavanoid_phenols  proanthocyanins  \\\n",
      "count      59.000000   59.000000             59.000000        59.000000   \n",
      "mean        2.840169    2.982373              0.290000         1.899322   \n",
      "std         0.338961    0.397494              0.070049         0.412109   \n",
      "min         2.200000    2.190000              0.170000         1.250000   \n",
      "25%         2.600000    2.680000              0.255000         1.640000   \n",
      "50%         2.800000    2.980000              0.290000         1.870000   \n",
      "75%         3.000000    3.245000              0.320000         2.090000   \n",
      "max         3.880000    3.930000              0.500000         2.960000   \n",
      "\n",
      "       color_intensity        hue  od280/od315_of_diluted_wines      proline  \\\n",
      "count        59.000000  59.000000                     59.000000    59.000000   \n",
      "mean          5.528305   1.062034                      3.157797  1115.711864   \n",
      "std           1.238573   0.116483                      0.357077   221.520767   \n",
      "min           3.520000   0.820000                      2.510000   680.000000   \n",
      "25%           4.550000   0.995000                      2.870000   987.500000   \n",
      "50%           5.400000   1.070000                      3.170000  1095.000000   \n",
      "75%           6.225000   1.130000                      3.420000  1280.000000   \n",
      "max           8.900000   1.280000                      4.000000  1680.000000   \n",
      "\n",
      "       target  \n",
      "count    59.0  \n",
      "mean      0.0  \n",
      "std       0.0  \n",
      "min       0.0  \n",
      "25%       0.0  \n",
      "50%       0.0  \n",
      "75%       0.0  \n",
      "max       0.0  \n",
      "Group: 1:\n",
      "          alcohol  malic_acid        ash  alcalinity_of_ash   magnesium  \\\n",
      "count  71.000000   71.000000  71.000000          71.000000   71.000000   \n",
      "mean   12.278732    1.932676   2.244789          20.238028   94.549296   \n",
      "std     0.537964    1.015569   0.315467           3.349770   16.753497   \n",
      "min    11.030000    0.740000   1.360000          10.600000   70.000000   \n",
      "25%    11.915000    1.270000   2.000000          18.000000   85.500000   \n",
      "50%    12.290000    1.610000   2.240000          20.000000   88.000000   \n",
      "75%    12.515000    2.145000   2.420000          22.000000   99.500000   \n",
      "max    13.860000    5.800000   3.230000          30.000000  162.000000   \n",
      "\n",
      "       total_phenols  flavanoids  nonflavanoid_phenols  proanthocyanins  \\\n",
      "count      71.000000   71.000000             71.000000        71.000000   \n",
      "mean        2.258873    2.080845              0.363662         1.630282   \n",
      "std         0.545361    0.705701              0.123961         0.602068   \n",
      "min         1.100000    0.570000              0.130000         0.410000   \n",
      "25%         1.895000    1.605000              0.270000         1.350000   \n",
      "50%         2.200000    2.030000              0.370000         1.610000   \n",
      "75%         2.560000    2.475000              0.430000         1.885000   \n",
      "max         3.520000    5.080000              0.660000         3.580000   \n",
      "\n",
      "       color_intensity        hue  od280/od315_of_diluted_wines     proline  \\\n",
      "count        71.000000  71.000000                     71.000000   71.000000   \n",
      "mean          3.086620   1.056282                      2.785352  519.507042   \n",
      "std           0.924929   0.202937                      0.496573  157.211220   \n",
      "min           1.280000   0.690000                      1.590000  278.000000   \n",
      "25%           2.535000   0.925000                      2.440000  406.500000   \n",
      "50%           2.900000   1.040000                      2.830000  495.000000   \n",
      "75%           3.400000   1.205000                      3.160000  625.000000   \n",
      "max           6.000000   1.710000                      3.690000  985.000000   \n",
      "\n",
      "       target  \n",
      "count    71.0  \n",
      "mean      1.0  \n",
      "std       0.0  \n",
      "min       1.0  \n",
      "25%       1.0  \n",
      "50%       1.0  \n",
      "75%       1.0  \n",
      "max       1.0  \n",
      "Group: 2:\n",
      "          alcohol  malic_acid        ash  alcalinity_of_ash   magnesium  \\\n",
      "count  48.000000   48.000000  48.000000          48.000000   48.000000   \n",
      "mean   13.153750    3.333750   2.437083          21.416667   99.312500   \n",
      "std     0.530241    1.087906   0.184690           2.258161   10.890473   \n",
      "min    12.200000    1.240000   2.100000          17.500000   80.000000   \n",
      "25%    12.805000    2.587500   2.300000          20.000000   89.750000   \n",
      "50%    13.165000    3.265000   2.380000          21.000000   97.000000   \n",
      "75%    13.505000    3.957500   2.602500          23.000000  106.000000   \n",
      "max    14.340000    5.650000   2.860000          27.000000  123.000000   \n",
      "\n",
      "       total_phenols  flavanoids  nonflavanoid_phenols  proanthocyanins  \\\n",
      "count      48.000000   48.000000              48.00000        48.000000   \n",
      "mean        1.678750    0.781458               0.44750         1.153542   \n",
      "std         0.356971    0.293504               0.12414         0.408836   \n",
      "min         0.980000    0.340000               0.17000         0.550000   \n",
      "25%         1.407500    0.580000               0.39750         0.855000   \n",
      "50%         1.635000    0.685000               0.47000         1.105000   \n",
      "75%         1.807500    0.920000               0.53000         1.350000   \n",
      "max         2.800000    1.570000               0.63000         2.700000   \n",
      "\n",
      "       color_intensity        hue  od280/od315_of_diluted_wines     proline  \\\n",
      "count        48.000000  48.000000                     48.000000   48.000000   \n",
      "mean          7.396250   0.682708                      1.683542  629.895833   \n",
      "std           2.310942   0.114441                      0.272111  115.097043   \n",
      "min           3.850000   0.480000                      1.270000  415.000000   \n",
      "25%           5.437500   0.587500                      1.510000  545.000000   \n",
      "50%           7.550000   0.665000                      1.660000  627.500000   \n",
      "75%           9.225000   0.752500                      1.820000  695.000000   \n",
      "max          13.000000   0.960000                      2.470000  880.000000   \n",
      "\n",
      "       target  \n",
      "count    48.0  \n",
      "mean      2.0  \n",
      "std       0.0  \n",
      "min       2.0  \n",
      "25%       2.0  \n",
      "50%       2.0  \n",
      "75%       2.0  \n",
      "max       2.0  \n"
     ]
    }
   ],
   "source": [
    "group_A = df[df['target']==0]\n",
    "group_B = df[df['target']==1]\n",
    "group_C = df[df['target']==2]\n",
    "\n",
    "groups = [group_A, group_B, group_C]\n",
    "\n",
    "count = 0\n",
    "for group in groups:\n",
    "    \n",
    "    print(f\"Group: {count}:\\n {group.describe()}\")\n",
    "    count +=1"
   ]
  },
  {
   "cell_type": "code",
   "execution_count": 79,
   "metadata": {},
   "outputs": [
    {
     "data": {
      "text/plain": [
       "F_onewayResult(statistic=135.07762424279912, pvalue=3.319503795619655e-36)"
      ]
     },
     "execution_count": 79,
     "metadata": {},
     "output_type": "execute_result"
    }
   ],
   "source": [
    "stats.f_oneway(group_A[\"alcohol\"],group_B[\"alcohol\"],group_C[\"alcohol\"])"
   ]
  },
  {
   "cell_type": "code",
   "execution_count": 80,
   "metadata": {},
   "outputs": [
    {
     "data": {
      "text/plain": [
       "F_onewayResult(statistic=101.31679539030002, pvalue=5.9176622163620664e-30)"
      ]
     },
     "execution_count": 80,
     "metadata": {},
     "output_type": "execute_result"
    }
   ],
   "source": [
    "stats.f_oneway(group_A[\"hue\"],group_B[\"hue\"],group_C[\"hue\"])"
   ]
  },
  {
   "cell_type": "code",
   "execution_count": 100,
   "metadata": {},
   "outputs": [],
   "source": [
    "# F Distribution\n",
    "dfn, dfd = 27, 2\n",
    "\n",
    "X = np.linspace(0,5, 200)\n",
    "y = stats.f.pdf(X, dfn, dfd)"
   ]
  },
  {
   "cell_type": "code",
   "execution_count": 102,
   "metadata": {},
   "outputs": [
    {
     "data": {
      "text/plain": [
       "[<matplotlib.lines.Line2D at 0x1d61d73cf40>]"
      ]
     },
     "execution_count": 102,
     "metadata": {},
     "output_type": "execute_result"
    },
    {
     "data": {
      "image/png": "[encoded data removed]",
      "text/plain": [
       "<Figure size 432x288 with 1 Axes>"
      ]
     },
     "metadata": {
      "needs_background": "light"
     },
     "output_type": "display_data"
    }
   ],
   "source": [
    "plt.plot(X, stats.f.pdf(X, dfn, dfd))"
   ]
  },
  {
   "cell_type": "code",
   "execution_count": null,
   "metadata": {},
   "outputs": [],
   "source": []
  },
  {
   "cell_type": "markdown",
   "metadata": {},
   "source": [
    "# References"
   ]
  },
  {
   "cell_type": "markdown",
   "metadata": {},
   "source": [
    "(scipy.org, 2021)\n",
    "\n",
    "(Bressert, E, 2013)\n",
    "\n",
    "(Malhorta,N & Birks,D, 2006)\n",
    "\n",
    "https://docs.scipy.org/doc/scipy/reference/generated/scipy.stats.f_oneway.html\n",
    "\n",
    "https://statistics.laerd.com/spss-tutorials/one-way-anova-using-spss-statistics.php"
   ]
  },
  {
   "cell_type": "markdown",
   "metadata": {},
   "source": [
    "https://realpython.com/numpy-scipy-pandas-correlation-python/\n",
    "    \n",
    "https://docs.scipy.org/doc/scipy/reference/tutorial/general.html"
   ]
  },
  {
   "cell_type": "markdown",
   "metadata": {},
   "source": [
    "Numpy & Scipy file:///C:/Users/hogan/Downloads/Eli%20Bressert%20-%20SciPy%20and%20NumPy_%20An%20Overview%20for%20Developers-O'Reilly%20Media%20(2012).pdf"
   ]
  },
  {
   "cell_type": "code",
   "execution_count": null,
   "metadata": {},
   "outputs": [],
   "source": []
  }
 ],
 "metadata": {
  "kernelspec": {
   "display_name": "Python 3",
   "language": "python",
   "name": "python3"
  },
  "language_info": {
   "codemirror_mode": {
    "name": "ipython",
    "version": 3
   },
   "file_extension": ".py",
   "mimetype": "text/x-python",
   "name": "python",
   "nbconvert_exporter": "python",
   "pygments_lexer": "ipython3",
   "version": "3.8.3"
  }
 },
 "nbformat": 4,
 "nbformat_minor": 4
}
